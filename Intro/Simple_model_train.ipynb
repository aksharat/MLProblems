{
  "nbformat": 4,
  "nbformat_minor": 0,
  "metadata": {
    "colab": {
      "provenance": [],
      "include_colab_link": true
    },
    "kernelspec": {
      "name": "python3",
      "display_name": "Python 3"
    },
    "language_info": {
      "name": "python"
    }
  },
  "cells": [
    {
      "cell_type": "markdown",
      "metadata": {
        "id": "view-in-github",
        "colab_type": "text"
      },
      "source": [
        "<a href=\"https://colab.research.google.com/github/aksharat/DeloitteProjects/blob/master/Intro/Simple_model_train.ipynb\" target=\"_parent\"><img src=\"https://colab.research.google.com/assets/colab-badge.svg\" alt=\"Open In Colab\"/></a>"
      ]
    },
    {
      "cell_type": "code",
      "source": [
        "import torch\n",
        "import torch.nn as nn\n",
        "import torch.optim as optim\n",
        "import torch.nn.functional as F\n",
        "import pandas as pd\n",
        "import matplotlib.pyplot as plt\n",
        "\n",
        "cfg = dict()\n",
        "cfg={'numEpoch' : 40}\n",
        "\n",
        "inputs = torch.tensor([[0.], [0.5], [1.], [2.], [4.],[6.],[10.],[15.],[20.],[24.],[28.],[30.],[35.],[36.],[40.]])\n",
        "targets = torch.tensor([[2.], [4.], [6.], [19.], [39.],[59.],[99.],[149.],[199.],[239.],[279.],[299.],[349.],[359.],[399.]])\n",
        "df1 = pd.DataFrame(index=range(cfg['numEpoch']),columns=('epoch', 'loss'))\n",
        "\n",
        "class MyNet(nn.Module):\n",
        "    def __init__(self, n_hidden=14):\n",
        "        super(MyNet, self).__init__()\n",
        "\n",
        "        self.fc1 = nn.Linear(1, n_hidden)\n",
        "        self.fc2 = nn.Linear(n_hidden, 1)\n",
        "\n",
        "    def forward(self, x):\n",
        "        x = F.relu(self.fc1(x))\n",
        "        x = self.fc2(x)\n",
        "        return x\n",
        "\n",
        "net = MyNet()\n",
        "# def train(inputs, targets, net, epochs=350, lr=0.000510249):\n",
        "optimizer = optim.SGD(net.parameters(), lr=0.0000110249, momentum=0.9)\n",
        "criterion = nn.MSELoss()\n",
        "\n",
        "epochs = 500\n",
        "batch_size = len(inputs)\n",
        "\n",
        "for epoch in range(epochs):\n",
        "\n",
        "  running_loss = 0.0\n",
        "\n",
        "  # model output\n",
        "  outputs = net(inputs)\n",
        "\n",
        "  # compute loss\n",
        "  loss = criterion(outputs, targets)\n",
        "\n",
        "  # backprop and update\n",
        "  optimizer.zero_grad()\n",
        "  loss.backward()\n",
        "  optimizer.step()\n",
        "\n",
        "  running_loss += loss.detach().numpy()\n",
        "  running_loss /= batch_size\n",
        "  #print(running_loss)\n",
        "  # print(f\"Epoch {epoch}: loss = {loss.item()}\")\n",
        "  df1.loc[epoch] = [epoch, running_loss]\n",
        "#print(df1)\n",
        "\n"
      ],
      "metadata": {
        "id": "jnZo1TjhQLuu"
      },
      "execution_count": null,
      "outputs": []
    },
    {
      "cell_type": "code",
      "source": [
        "df1['loss']"
      ],
      "metadata": {
        "colab": {
          "base_uri": "https://localhost:8080/"
        },
        "id": "QVouSHcg-tka",
        "outputId": "6b71d72b-a65c-419a-c88c-b00bed98d624"
      },
      "execution_count": null,
      "outputs": [
        {
          "output_type": "execute_result",
          "data": {
            "text/plain": [
              "0      3092.397656\n",
              "1      2909.597656\n",
              "2      2572.947656\n",
              "3      2099.841276\n",
              "4      1494.008594\n",
              "          ...     \n",
              "495       0.067082\n",
              "496       0.066996\n",
              "497        0.06691\n",
              "498       0.066824\n",
              "499       0.066738\n",
              "Name: loss, Length: 500, dtype: object"
            ]
          },
          "metadata": {},
          "execution_count": 161
        }
      ]
    },
    {
      "cell_type": "code",
      "source": [
        "#---plot the evolution\n",
        "\n",
        "plt.plot(df1['epoch'],df1['loss'],label=\"Train\")\n",
        "\n",
        "plt.legend()\n",
        "plt.xlabel(r'$epoch$')\n",
        "plt.ylabel(r'$loss$')\n",
        "plt.show()"
      ],
      "metadata": {
        "colab": {
          "base_uri": "https://localhost:8080/",
          "height": 283
        },
        "id": "SN8OdAy4JoSP",
        "outputId": "aecdc36a-7f84-4ba8-fcae-dee13b16bd92"
      },
      "execution_count": null,
      "outputs": [
        {
          "output_type": "display_data",
          "data": {
            "text/plain": [
              "<Figure size 432x288 with 1 Axes>"
            ],
            "image/png": "[encoded data removed]"
          },
          "metadata": {
            "needs_background": "light"
          }
        }
      ]
    },
    {
      "cell_type": "code",
      "source": [
        "net.eval()\n",
        "with torch.no_grad():\n",
        "  for i in range(len(inputs)):\n",
        "    print(f'f({inputs[i].item()}) = {net(inputs[i]).item():.2f} & target = {targets[i].item():.0f}')"
      ],
      "metadata": {
        "colab": {
          "base_uri": "https://localhost:8080/"
        },
        "id": "EvesMOSvza2x",
        "outputId": "8a5a1ec4-cea6-4972-8479-a46545cbbce8"
      },
      "execution_count": null,
      "outputs": [
        {
          "output_type": "stream",
          "name": "stdout",
          "text": [
            "f(0.0) = 2.21 & target = 2\n",
            "f(0.5) = 5.30 & target = 4\n",
            "f(1.0) = 9.52 & target = 6\n",
            "f(2.0) = 19.31 & target = 19\n",
            "f(4.0) = 39.40 & target = 39\n",
            "f(6.0) = 59.48 & target = 59\n",
            "f(10.0) = 99.39 & target = 99\n",
            "f(15.0) = 149.28 & target = 149\n",
            "f(20.0) = 199.17 & target = 199\n",
            "f(24.0) = 239.09 & target = 239\n",
            "f(28.0) = 279.00 & target = 279\n",
            "f(30.0) = 298.96 & target = 299\n",
            "f(35.0) = 348.85 & target = 349\n",
            "f(36.0) = 358.83 & target = 359\n",
            "f(40.0) = 398.74 & target = 399\n"
          ]
        }
      ]
    }
  ]
}
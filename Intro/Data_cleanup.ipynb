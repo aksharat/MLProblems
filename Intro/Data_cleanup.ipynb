{
  "nbformat": 4,
  "nbformat_minor": 0,
  "metadata": {
    "colab": {
      "provenance": [],
      "authorship_tag": "ABX9TyP7TSg41315MHU0BxfJvEh0",
      "include_colab_link": true
    },
    "kernelspec": {
      "name": "python3",
      "display_name": "Python 3"
    },
    "language_info": {
      "name": "python"
    }
  },
  "cells": [
    {
      "cell_type": "markdown",
      "metadata": {
        "id": "view-in-github",
        "colab_type": "text"
      },
      "source": [
        "<a href=\"https://colab.research.google.com/github/aksharat/MLProblems/blob/main/Intro/Data_cleanup.ipynb\" target=\"_parent\"><img src=\"https://colab.research.google.com/assets/colab-badge.svg\" alt=\"Open In Colab\"/></a>"
      ]
    },
    {
      "cell_type": "markdown",
      "source": [
        "### Preprocess the files and import statements\n",
        "https://pandas.pydata.org/docs/reference/api/pandas.DataFrame.ffill.html <br>\n",
        "\n",
        "https://stackoverflow.com/questions/27012151/forward-fill-specific-columns-in-pandas-dataframe<br>\n",
        "\n",
        "Add in the files and import the required packages"
      ],
      "metadata": {
        "id": "AKLGTpadu7e4"
      }
    },
    {
      "cell_type": "code",
      "execution_count": 222,
      "metadata": {
        "colab": {
          "base_uri": "https://localhost:8080/"
        },
        "id": "KGxSTS8fm4tI",
        "outputId": "083e4504-ac56-4a98-a61e-bd2a705c4273"
      },
      "outputs": [
        {
          "output_type": "stream",
          "name": "stdout",
          "text": [
            "Archive:  /content/Clicked_DataSprint.zip\n",
            "replace data_dictionary.xlsx? [y]es, [n]o, [A]ll, [N]one, [r]ename: "
          ]
        }
      ],
      "source": [
        "!unzip /content/Clicked_DataSprint.zip"
      ]
    },
    {
      "cell_type": "code",
      "source": [
        "import pandas as pd\n",
        "import numpy as np\n",
        "from sklearn.impute import SimpleImputer"
      ],
      "metadata": {
        "id": "-sBcz5OdnOj9"
      },
      "execution_count": 2,
      "outputs": []
    },
    {
      "cell_type": "code",
      "source": [
        "data_dict = pd.read_excel('data_dictionary.xlsx')\n",
        "emp_data=pd.read_csv('employee_survey_data.csv')\n",
        "gen_data=pd.read_csv('general_data.csv')\n",
        "manager_data=pd.read_csv('manager_survey_data.csv')\n",
        "in_data=pd.read_csv('in_time.csv')\n",
        "out_data=pd.read_csv('out_time.csv')\n"
      ],
      "metadata": {
        "id": "NeBlkTS3nUPp"
      },
      "execution_count": 64,
      "outputs": []
    },
    {
      "cell_type": "code",
      "source": [
        "def insert_blank_rows_into_data_dict(data_dict, insert_index, num_blank_rows):\n",
        "    \"\"\"\n",
        "    Inserts blank rows into the 'data_dict' DataFrame at the specified index.\n",
        "\n",
        "    Parameters:\n",
        "    data_dict (pd.DataFrame): The DataFrame where blank rows will be inserted.\n",
        "    insert_index (int): The index after which to insert the blank rows.\n",
        "    num_blank_rows (int): The number of blank rows to insert.\n",
        "\n",
        "    Returns:\n",
        "    pd.DataFrame: A DataFrame with the blank rows inserted.\n",
        "    \"\"\"\n",
        "    # Create a DataFrame with blank rows (same structure as data_dict)\n",
        "    blank_rows = pd.DataFrame({col: [None] * num_blank_rows for col in data_dict.columns})\n",
        "\n",
        "    # Split the DataFrame into two parts: before and after the insertion point\n",
        "    df_top = data_dict.iloc[:insert_index+1]  # Up to the insert_index row (inclusive)\n",
        "    df_bottom = data_dict.iloc[insert_index+1:]  # From the row after insert_index\n",
        "\n",
        "    # Concatenate the top, blank rows, and bottom together\n",
        "    data_dict = pd.concat([df_top, blank_rows, df_bottom], ignore_index=True)\n",
        "\n",
        "    return data_dict"
      ],
      "metadata": {
        "id": "x6V5SnlJxoSt"
      },
      "execution_count": 223,
      "outputs": []
    },
    {
      "cell_type": "markdown",
      "source": [
        "### Data dict analysis"
      ],
      "metadata": {
        "id": "cdEW3OhoquCT"
      }
    },
    {
      "cell_type": "code",
      "source": [
        "data_dict"
      ],
      "metadata": {
        "colab": {
          "base_uri": "https://localhost:8080/",
          "height": 1000
        },
        "id": "7pmgURAvn09b",
        "outputId": "7a331f74-47c6-4089-e38d-5d29fff3468a"
      },
      "execution_count": 65,
      "outputs": [
        {
          "output_type": "execute_result",
          "data": {
            "text/plain": [
              "                    Variable  \\\n",
              "0                        Age   \n",
              "1                  Attrition   \n",
              "2             BusinessTravel   \n",
              "3                 Department   \n",
              "4           DistanceFromHome   \n",
              "5                  Education   \n",
              "6                        NaN   \n",
              "7                        NaN   \n",
              "8                        NaN   \n",
              "9                        NaN   \n",
              "10            EducationField   \n",
              "11             EmployeeCount   \n",
              "12            EmployeeNumber   \n",
              "13   EnvironmentSatisfaction   \n",
              "14                       NaN   \n",
              "15                       NaN   \n",
              "16                       NaN   \n",
              "17                    Gender   \n",
              "18            JobInvolvement   \n",
              "19                       NaN   \n",
              "20                       NaN   \n",
              "21                       NaN   \n",
              "22                  JobLevel   \n",
              "23                   JobRole   \n",
              "24           JobSatisfaction   \n",
              "25                       NaN   \n",
              "26                       NaN   \n",
              "27                       NaN   \n",
              "28             MaritalStatus   \n",
              "29             MonthlyIncome   \n",
              "30        NumCompaniesWorked   \n",
              "31                    Over18   \n",
              "32         PercentSalaryHike   \n",
              "33         PerformanceRating   \n",
              "34                       NaN   \n",
              "35                       NaN   \n",
              "36                       NaN   \n",
              "37  RelationshipSatisfaction   \n",
              "38                       NaN   \n",
              "39                       NaN   \n",
              "40                       NaN   \n",
              "41             StandardHours   \n",
              "42          StockOptionLevel   \n",
              "43         TotalWorkingYears   \n",
              "44     TrainingTimesLastYear   \n",
              "45           WorkLifeBalance   \n",
              "46                       NaN   \n",
              "47                       NaN   \n",
              "48                       NaN   \n",
              "49            YearsAtCompany   \n",
              "50   YearsSinceLastPromotion   \n",
              "51      YearsWithCurrManager   \n",
              "\n",
              "                                              Meaning             Levels  \n",
              "0                                 Age of the employee                NaN  \n",
              "1   Whether the employee left in the previous year...                NaN  \n",
              "2   How frequently the employees travelled for bus...                NaN  \n",
              "3                               Department in company                NaN  \n",
              "4                           Distance from home in kms                NaN  \n",
              "5                                     Education Level  1 'Below College'  \n",
              "6                                                 NaN        2 'College'  \n",
              "7                                                 NaN       3 'Bachelor'  \n",
              "8                                                 NaN         4 'Master'  \n",
              "9                                                 NaN         5 'Doctor'  \n",
              "10                                 Field of education                NaN  \n",
              "11                                     Employee count                NaN  \n",
              "12                                 Employee number/id                NaN  \n",
              "13                Work Environment Satisfaction Level            1 'Low'  \n",
              "14                                                NaN         2 'Medium'  \n",
              "15                                                NaN           3 'High'  \n",
              "16                                                NaN      4 'Very High'  \n",
              "17                                 Gender of employee                NaN  \n",
              "18                              Job Involvement Level            1 'Low'  \n",
              "19                                                NaN         2 'Medium'  \n",
              "20                                                NaN           3 'High'  \n",
              "21                                                NaN      4 'Very High'  \n",
              "22          Job level at company on a scale of 1 to 5                NaN  \n",
              "23                        Name of job role in company                NaN  \n",
              "24                             Job Satisfaction Level            1 'Low'  \n",
              "25                                                NaN         2 'Medium'  \n",
              "26                                                NaN           3 'High'  \n",
              "27                                                NaN      4 'Very High'  \n",
              "28                     Marital status of the employee                NaN  \n",
              "29                 Monthly income in rupees per month                NaN  \n",
              "30  Total number of companies the employee has wor...                NaN  \n",
              "31  Whether the employee is above 18 years of age ...                NaN  \n",
              "32                  Percent salary hike for last year                NaN  \n",
              "33                   Performance rating for last year            1 'Low'  \n",
              "34                                                NaN           2 'Good'  \n",
              "35                                                NaN      3 'Excellent'  \n",
              "36                                                NaN    4 'Outstanding'  \n",
              "37                    Relationship satisfaction level            1 'Low'  \n",
              "38                                                NaN         2 'Medium'  \n",
              "39                                                NaN           3 'High'  \n",
              "40                                                NaN      4 'Very High'  \n",
              "41            Standard hours of work for the employee                NaN  \n",
              "42                 Stock option level of the employee                NaN  \n",
              "43  Total number of years the employee has worked ...                NaN  \n",
              "44  Number of times training was conducted for thi...                NaN  \n",
              "45                            Work life balance level            1 'Bad'  \n",
              "46                                                NaN           2 'Good'  \n",
              "47                                                NaN         3 'Better'  \n",
              "48                                                NaN           4 'Best'  \n",
              "49  Total number of years spent at the company by ...                NaN  \n",
              "50               Number of years since last promotion                NaN  \n",
              "51              Number of years under current manager                NaN  "
            ],
            "text/html": [
              "\n",
              "  <div id=\"df-0940374f-4bd7-493f-8a6f-ab8d62aed7e0\" class=\"colab-df-container\">\n",
              "    <div>\n",
              "<style scoped>\n",
              "    .dataframe tbody tr th:only-of-type {\n",
              "        vertical-align: middle;\n",
              "    }\n",
              "\n",
              "    .dataframe tbody tr th {\n",
              "        vertical-align: top;\n",
              "    }\n",
              "\n",
              "    .dataframe thead th {\n",
              "        text-align: right;\n",
              "    }\n",
              "</style>\n",
              "<table border=\"1\" class=\"dataframe\">\n",
              "  <thead>\n",
              "    <tr style=\"text-align: right;\">\n",
              "      <th></th>\n",
              "      <th>Variable</th>\n",
              "      <th>Meaning</th>\n",
              "      <th>Levels</th>\n",
              "    </tr>\n",
              "  </thead>\n",
              "  <tbody>\n",
              "    <tr>\n",
              "      <th>0</th>\n",
              "      <td>Age</td>\n",
              "      <td>Age of the employee</td>\n",
              "      <td>NaN</td>\n",
              "    </tr>\n",
              "    <tr>\n",
              "      <th>1</th>\n",
              "      <td>Attrition</td>\n",
              "      <td>Whether the employee left in the previous year...</td>\n",
              "      <td>NaN</td>\n",
              "    </tr>\n",
              "    <tr>\n",
              "      <th>2</th>\n",
              "      <td>BusinessTravel</td>\n",
              "      <td>How frequently the employees travelled for bus...</td>\n",
              "      <td>NaN</td>\n",
              "    </tr>\n",
              "    <tr>\n",
              "      <th>3</th>\n",
              "      <td>Department</td>\n",
              "      <td>Department in company</td>\n",
              "      <td>NaN</td>\n",
              "    </tr>\n",
              "    <tr>\n",
              "      <th>4</th>\n",
              "      <td>DistanceFromHome</td>\n",
              "      <td>Distance from home in kms</td>\n",
              "      <td>NaN</td>\n",
              "    </tr>\n",
              "    <tr>\n",
              "      <th>5</th>\n",
              "      <td>Education</td>\n",
              "      <td>Education Level</td>\n",
              "      <td>1 'Below College'</td>\n",
              "    </tr>\n",
              "    <tr>\n",
              "      <th>6</th>\n",
              "      <td>NaN</td>\n",
              "      <td>NaN</td>\n",
              "      <td>2 'College'</td>\n",
              "    </tr>\n",
              "    <tr>\n",
              "      <th>7</th>\n",
              "      <td>NaN</td>\n",
              "      <td>NaN</td>\n",
              "      <td>3 'Bachelor'</td>\n",
              "    </tr>\n",
              "    <tr>\n",
              "      <th>8</th>\n",
              "      <td>NaN</td>\n",
              "      <td>NaN</td>\n",
              "      <td>4 'Master'</td>\n",
              "    </tr>\n",
              "    <tr>\n",
              "      <th>9</th>\n",
              "      <td>NaN</td>\n",
              "      <td>NaN</td>\n",
              "      <td>5 'Doctor'</td>\n",
              "    </tr>\n",
              "    <tr>\n",
              "      <th>10</th>\n",
              "      <td>EducationField</td>\n",
              "      <td>Field of education</td>\n",
              "      <td>NaN</td>\n",
              "    </tr>\n",
              "    <tr>\n",
              "      <th>11</th>\n",
              "      <td>EmployeeCount</td>\n",
              "      <td>Employee count</td>\n",
              "      <td>NaN</td>\n",
              "    </tr>\n",
              "    <tr>\n",
              "      <th>12</th>\n",
              "      <td>EmployeeNumber</td>\n",
              "      <td>Employee number/id</td>\n",
              "      <td>NaN</td>\n",
              "    </tr>\n",
              "    <tr>\n",
              "      <th>13</th>\n",
              "      <td>EnvironmentSatisfaction</td>\n",
              "      <td>Work Environment Satisfaction Level</td>\n",
              "      <td>1 'Low'</td>\n",
              "    </tr>\n",
              "    <tr>\n",
              "      <th>14</th>\n",
              "      <td>NaN</td>\n",
              "      <td>NaN</td>\n",
              "      <td>2 'Medium'</td>\n",
              "    </tr>\n",
              "    <tr>\n",
              "      <th>15</th>\n",
              "      <td>NaN</td>\n",
              "      <td>NaN</td>\n",
              "      <td>3 'High'</td>\n",
              "    </tr>\n",
              "    <tr>\n",
              "      <th>16</th>\n",
              "      <td>NaN</td>\n",
              "      <td>NaN</td>\n",
              "      <td>4 'Very High'</td>\n",
              "    </tr>\n",
              "    <tr>\n",
              "      <th>17</th>\n",
              "      <td>Gender</td>\n",
              "      <td>Gender of employee</td>\n",
              "      <td>NaN</td>\n",
              "    </tr>\n",
              "    <tr>\n",
              "      <th>18</th>\n",
              "      <td>JobInvolvement</td>\n",
              "      <td>Job Involvement Level</td>\n",
              "      <td>1 'Low'</td>\n",
              "    </tr>\n",
              "    <tr>\n",
              "      <th>19</th>\n",
              "      <td>NaN</td>\n",
              "      <td>NaN</td>\n",
              "      <td>2 'Medium'</td>\n",
              "    </tr>\n",
              "    <tr>\n",
              "      <th>20</th>\n",
              "      <td>NaN</td>\n",
              "      <td>NaN</td>\n",
              "      <td>3 'High'</td>\n",
              "    </tr>\n",
              "    <tr>\n",
              "      <th>21</th>\n",
              "      <td>NaN</td>\n",
              "      <td>NaN</td>\n",
              "      <td>4 'Very High'</td>\n",
              "    </tr>\n",
              "    <tr>\n",
              "      <th>22</th>\n",
              "      <td>JobLevel</td>\n",
              "      <td>Job level at company on a scale of 1 to 5</td>\n",
              "      <td>NaN</td>\n",
              "    </tr>\n",
              "    <tr>\n",
              "      <th>23</th>\n",
              "      <td>JobRole</td>\n",
              "      <td>Name of job role in company</td>\n",
              "      <td>NaN</td>\n",
              "    </tr>\n",
              "    <tr>\n",
              "      <th>24</th>\n",
              "      <td>JobSatisfaction</td>\n",
              "      <td>Job Satisfaction Level</td>\n",
              "      <td>1 'Low'</td>\n",
              "    </tr>\n",
              "    <tr>\n",
              "      <th>25</th>\n",
              "      <td>NaN</td>\n",
              "      <td>NaN</td>\n",
              "      <td>2 'Medium'</td>\n",
              "    </tr>\n",
              "    <tr>\n",
              "      <th>26</th>\n",
              "      <td>NaN</td>\n",
              "      <td>NaN</td>\n",
              "      <td>3 'High'</td>\n",
              "    </tr>\n",
              "    <tr>\n",
              "      <th>27</th>\n",
              "      <td>NaN</td>\n",
              "      <td>NaN</td>\n",
              "      <td>4 'Very High'</td>\n",
              "    </tr>\n",
              "    <tr>\n",
              "      <th>28</th>\n",
              "      <td>MaritalStatus</td>\n",
              "      <td>Marital status of the employee</td>\n",
              "      <td>NaN</td>\n",
              "    </tr>\n",
              "    <tr>\n",
              "      <th>29</th>\n",
              "      <td>MonthlyIncome</td>\n",
              "      <td>Monthly income in rupees per month</td>\n",
              "      <td>NaN</td>\n",
              "    </tr>\n",
              "    <tr>\n",
              "      <th>30</th>\n",
              "      <td>NumCompaniesWorked</td>\n",
              "      <td>Total number of companies the employee has wor...</td>\n",
              "      <td>NaN</td>\n",
              "    </tr>\n",
              "    <tr>\n",
              "      <th>31</th>\n",
              "      <td>Over18</td>\n",
              "      <td>Whether the employee is above 18 years of age ...</td>\n",
              "      <td>NaN</td>\n",
              "    </tr>\n",
              "    <tr>\n",
              "      <th>32</th>\n",
              "      <td>PercentSalaryHike</td>\n",
              "      <td>Percent salary hike for last year</td>\n",
              "      <td>NaN</td>\n",
              "    </tr>\n",
              "    <tr>\n",
              "      <th>33</th>\n",
              "      <td>PerformanceRating</td>\n",
              "      <td>Performance rating for last year</td>\n",
              "      <td>1 'Low'</td>\n",
              "    </tr>\n",
              "    <tr>\n",
              "      <th>34</th>\n",
              "      <td>NaN</td>\n",
              "      <td>NaN</td>\n",
              "      <td>2 'Good'</td>\n",
              "    </tr>\n",
              "    <tr>\n",
              "      <th>35</th>\n",
              "      <td>NaN</td>\n",
              "      <td>NaN</td>\n",
              "      <td>3 'Excellent'</td>\n",
              "    </tr>\n",
              "    <tr>\n",
              "      <th>36</th>\n",
              "      <td>NaN</td>\n",
              "      <td>NaN</td>\n",
              "      <td>4 'Outstanding'</td>\n",
              "    </tr>\n",
              "    <tr>\n",
              "      <th>37</th>\n",
              "      <td>RelationshipSatisfaction</td>\n",
              "      <td>Relationship satisfaction level</td>\n",
              "      <td>1 'Low'</td>\n",
              "    </tr>\n",
              "    <tr>\n",
              "      <th>38</th>\n",
              "      <td>NaN</td>\n",
              "      <td>NaN</td>\n",
              "      <td>2 'Medium'</td>\n",
              "    </tr>\n",
              "    <tr>\n",
              "      <th>39</th>\n",
              "      <td>NaN</td>\n",
              "      <td>NaN</td>\n",
              "      <td>3 'High'</td>\n",
              "    </tr>\n",
              "    <tr>\n",
              "      <th>40</th>\n",
              "      <td>NaN</td>\n",
              "      <td>NaN</td>\n",
              "      <td>4 'Very High'</td>\n",
              "    </tr>\n",
              "    <tr>\n",
              "      <th>41</th>\n",
              "      <td>StandardHours</td>\n",
              "      <td>Standard hours of work for the employee</td>\n",
              "      <td>NaN</td>\n",
              "    </tr>\n",
              "    <tr>\n",
              "      <th>42</th>\n",
              "      <td>StockOptionLevel</td>\n",
              "      <td>Stock option level of the employee</td>\n",
              "      <td>NaN</td>\n",
              "    </tr>\n",
              "    <tr>\n",
              "      <th>43</th>\n",
              "      <td>TotalWorkingYears</td>\n",
              "      <td>Total number of years the employee has worked ...</td>\n",
              "      <td>NaN</td>\n",
              "    </tr>\n",
              "    <tr>\n",
              "      <th>44</th>\n",
              "      <td>TrainingTimesLastYear</td>\n",
              "      <td>Number of times training was conducted for thi...</td>\n",
              "      <td>NaN</td>\n",
              "    </tr>\n",
              "    <tr>\n",
              "      <th>45</th>\n",
              "      <td>WorkLifeBalance</td>\n",
              "      <td>Work life balance level</td>\n",
              "      <td>1 'Bad'</td>\n",
              "    </tr>\n",
              "    <tr>\n",
              "      <th>46</th>\n",
              "      <td>NaN</td>\n",
              "      <td>NaN</td>\n",
              "      <td>2 'Good'</td>\n",
              "    </tr>\n",
              "    <tr>\n",
              "      <th>47</th>\n",
              "      <td>NaN</td>\n",
              "      <td>NaN</td>\n",
              "      <td>3 'Better'</td>\n",
              "    </tr>\n",
              "    <tr>\n",
              "      <th>48</th>\n",
              "      <td>NaN</td>\n",
              "      <td>NaN</td>\n",
              "      <td>4 'Best'</td>\n",
              "    </tr>\n",
              "    <tr>\n",
              "      <th>49</th>\n",
              "      <td>YearsAtCompany</td>\n",
              "      <td>Total number of years spent at the company by ...</td>\n",
              "      <td>NaN</td>\n",
              "    </tr>\n",
              "    <tr>\n",
              "      <th>50</th>\n",
              "      <td>YearsSinceLastPromotion</td>\n",
              "      <td>Number of years since last promotion</td>\n",
              "      <td>NaN</td>\n",
              "    </tr>\n",
              "    <tr>\n",
              "      <th>51</th>\n",
              "      <td>YearsWithCurrManager</td>\n",
              "      <td>Number of years under current manager</td>\n",
              "      <td>NaN</td>\n",
              "    </tr>\n",
              "  </tbody>\n",
              "</table>\n",
              "</div>\n",
              "    <div class=\"colab-df-buttons\">\n",
              "\n",
              "  <div class=\"colab-df-container\">\n",
              "    <button class=\"colab-df-convert\" onclick=\"convertToInteractive('df-0940374f-4bd7-493f-8a6f-ab8d62aed7e0')\"\n",
              "            title=\"Convert this dataframe to an interactive table.\"\n",
              "            style=\"display:none;\">\n",
              "\n",
              "  <svg xmlns=\"http://www.w3.org/2000/svg\" height=\"24px\" viewBox=\"0 -960 960 960\">\n",
              "    <path d=\"M120-120v-720h720v720H120Zm60-500h600v-160H180v160Zm220 220h160v-160H400v160Zm0 220h160v-160H400v160ZM180-400h160v-160H180v160Zm440 0h160v-160H620v160ZM180-180h160v-160H180v160Zm440 0h160v-160H620v160Z\"/>\n",
              "  </svg>\n",
              "    </button>\n",
              "\n",
              "  <style>\n",
              "    .colab-df-container {\n",
              "      display:flex;\n",
              "      gap: 12px;\n",
              "    }\n",
              "\n",
              "    .colab-df-convert {\n",
              "      background-color: #E8F0FE;\n",
              "      border: none;\n",
              "      border-radius: 50%;\n",
              "      cursor: pointer;\n",
              "      display: none;\n",
              "      fill: #1967D2;\n",
              "      height: 32px;\n",
              "      padding: 0 0 0 0;\n",
              "      width: 32px;\n",
              "    }\n",
              "\n",
              "    .colab-df-convert:hover {\n",
              "      background-color: #E2EBFA;\n",
              "      box-shadow: 0px 1px 2px rgba(60, 64, 67, 0.3), 0px 1px 3px 1px rgba(60, 64, 67, 0.15);\n",
              "      fill: #174EA6;\n",
              "    }\n",
              "\n",
              "    .colab-df-buttons div {\n",
              "      margin-bottom: 4px;\n",
              "    }\n",
              "\n",
              "    [theme=dark] .colab-df-convert {\n",
              "      background-color: #3B4455;\n",
              "      fill: #D2E3FC;\n",
              "    }\n",
              "\n",
              "    [theme=dark] .colab-df-convert:hover {\n",
              "      background-color: #434B5C;\n",
              "      box-shadow: 0px 1px 3px 1px rgba(0, 0, 0, 0.15);\n",
              "      filter: drop-shadow(0px 1px 2px rgba(0, 0, 0, 0.3));\n",
              "      fill: #FFFFFF;\n",
              "    }\n",
              "  </style>\n",
              "\n",
              "    <script>\n",
              "      const buttonEl =\n",
              "        document.querySelector('#df-0940374f-4bd7-493f-8a6f-ab8d62aed7e0 button.colab-df-convert');\n",
              "      buttonEl.style.display =\n",
              "        google.colab.kernel.accessAllowed ? 'block' : 'none';\n",
              "\n",
              "      async function convertToInteractive(key) {\n",
              "        const element = document.querySelector('#df-0940374f-4bd7-493f-8a6f-ab8d62aed7e0');\n",
              "        const dataTable =\n",
              "          await google.colab.kernel.invokeFunction('convertToInteractive',\n",
              "                                                    [key], {});\n",
              "        if (!dataTable) return;\n",
              "\n",
              "        const docLinkHtml = 'Like what you see? Visit the ' +\n",
              "          '<a target=\"_blank\" href=https://colab.research.google.com/notebooks/data_table.ipynb>data table notebook</a>'\n",
              "          + ' to learn more about interactive tables.';\n",
              "        element.innerHTML = '';\n",
              "        dataTable['output_type'] = 'display_data';\n",
              "        await google.colab.output.renderOutput(dataTable, element);\n",
              "        const docLink = document.createElement('div');\n",
              "        docLink.innerHTML = docLinkHtml;\n",
              "        element.appendChild(docLink);\n",
              "      }\n",
              "    </script>\n",
              "  </div>\n",
              "\n",
              "\n",
              "<div id=\"df-9365d9ec-420c-4eb9-906e-8f2ac4104ad6\">\n",
              "  <button class=\"colab-df-quickchart\" onclick=\"quickchart('df-9365d9ec-420c-4eb9-906e-8f2ac4104ad6')\"\n",
              "            title=\"Suggest charts\"\n",
              "            style=\"display:none;\">\n",
              "\n",
              "<svg xmlns=\"http://www.w3.org/2000/svg\" height=\"24px\"viewBox=\"0 0 24 24\"\n",
              "     width=\"24px\">\n",
              "    <g>\n",
              "        <path d=\"M19 3H5c-1.1 0-2 .9-2 2v14c0 1.1.9 2 2 2h14c1.1 0 2-.9 2-2V5c0-1.1-.9-2-2-2zM9 17H7v-7h2v7zm4 0h-2V7h2v10zm4 0h-2v-4h2v4z\"/>\n",
              "    </g>\n",
              "</svg>\n",
              "  </button>\n",
              "\n",
              "<style>\n",
              "  .colab-df-quickchart {\n",
              "      --bg-color: #E8F0FE;\n",
              "      --fill-color: #1967D2;\n",
              "      --hover-bg-color: #E2EBFA;\n",
              "      --hover-fill-color: #174EA6;\n",
              "      --disabled-fill-color: #AAA;\n",
              "      --disabled-bg-color: #DDD;\n",
              "  }\n",
              "\n",
              "  [theme=dark] .colab-df-quickchart {\n",
              "      --bg-color: #3B4455;\n",
              "      --fill-color: #D2E3FC;\n",
              "      --hover-bg-color: #434B5C;\n",
              "      --hover-fill-color: #FFFFFF;\n",
              "      --disabled-bg-color: #3B4455;\n",
              "      --disabled-fill-color: #666;\n",
              "  }\n",
              "\n",
              "  .colab-df-quickchart {\n",
              "    background-color: var(--bg-color);\n",
              "    border: none;\n",
              "    border-radius: 50%;\n",
              "    cursor: pointer;\n",
              "    display: none;\n",
              "    fill: var(--fill-color);\n",
              "    height: 32px;\n",
              "    padding: 0;\n",
              "    width: 32px;\n",
              "  }\n",
              "\n",
              "  .colab-df-quickchart:hover {\n",
              "    background-color: var(--hover-bg-color);\n",
              "    box-shadow: 0 1px 2px rgba(60, 64, 67, 0.3), 0 1px 3px 1px rgba(60, 64, 67, 0.15);\n",
              "    fill: var(--button-hover-fill-color);\n",
              "  }\n",
              "\n",
              "  .colab-df-quickchart-complete:disabled,\n",
              "  .colab-df-quickchart-complete:disabled:hover {\n",
              "    background-color: var(--disabled-bg-color);\n",
              "    fill: var(--disabled-fill-color);\n",
              "    box-shadow: none;\n",
              "  }\n",
              "\n",
              "  .colab-df-spinner {\n",
              "    border: 2px solid var(--fill-color);\n",
              "    border-color: transparent;\n",
              "    border-bottom-color: var(--fill-color);\n",
              "    animation:\n",
              "      spin 1s steps(1) infinite;\n",
              "  }\n",
              "\n",
              "  @keyframes spin {\n",
              "    0% {\n",
              "      border-color: transparent;\n",
              "      border-bottom-color: var(--fill-color);\n",
              "      border-left-color: var(--fill-color);\n",
              "    }\n",
              "    20% {\n",
              "      border-color: transparent;\n",
              "      border-left-color: var(--fill-color);\n",
              "      border-top-color: var(--fill-color);\n",
              "    }\n",
              "    30% {\n",
              "      border-color: transparent;\n",
              "      border-left-color: var(--fill-color);\n",
              "      border-top-color: var(--fill-color);\n",
              "      border-right-color: var(--fill-color);\n",
              "    }\n",
              "    40% {\n",
              "      border-color: transparent;\n",
              "      border-right-color: var(--fill-color);\n",
              "      border-top-color: var(--fill-color);\n",
              "    }\n",
              "    60% {\n",
              "      border-color: transparent;\n",
              "      border-right-color: var(--fill-color);\n",
              "    }\n",
              "    80% {\n",
              "      border-color: transparent;\n",
              "      border-right-color: var(--fill-color);\n",
              "      border-bottom-color: var(--fill-color);\n",
              "    }\n",
              "    90% {\n",
              "      border-color: transparent;\n",
              "      border-bottom-color: var(--fill-color);\n",
              "    }\n",
              "  }\n",
              "</style>\n",
              "\n",
              "  <script>\n",
              "    async function quickchart(key) {\n",
              "      const quickchartButtonEl =\n",
              "        document.querySelector('#' + key + ' button');\n",
              "      quickchartButtonEl.disabled = true;  // To prevent multiple clicks.\n",
              "      quickchartButtonEl.classList.add('colab-df-spinner');\n",
              "      try {\n",
              "        const charts = await google.colab.kernel.invokeFunction(\n",
              "            'suggestCharts', [key], {});\n",
              "      } catch (error) {\n",
              "        console.error('Error during call to suggestCharts:', error);\n",
              "      }\n",
              "      quickchartButtonEl.classList.remove('colab-df-spinner');\n",
              "      quickchartButtonEl.classList.add('colab-df-quickchart-complete');\n",
              "    }\n",
              "    (() => {\n",
              "      let quickchartButtonEl =\n",
              "        document.querySelector('#df-9365d9ec-420c-4eb9-906e-8f2ac4104ad6 button');\n",
              "      quickchartButtonEl.style.display =\n",
              "        google.colab.kernel.accessAllowed ? 'block' : 'none';\n",
              "    })();\n",
              "  </script>\n",
              "</div>\n",
              "\n",
              "  <div id=\"id_ce93690f-7114-4cec-a725-b740e3f8cdbe\">\n",
              "    <style>\n",
              "      .colab-df-generate {\n",
              "        background-color: #E8F0FE;\n",
              "        border: none;\n",
              "        border-radius: 50%;\n",
              "        cursor: pointer;\n",
              "        display: none;\n",
              "        fill: #1967D2;\n",
              "        height: 32px;\n",
              "        padding: 0 0 0 0;\n",
              "        width: 32px;\n",
              "      }\n",
              "\n",
              "      .colab-df-generate:hover {\n",
              "        background-color: #E2EBFA;\n",
              "        box-shadow: 0px 1px 2px rgba(60, 64, 67, 0.3), 0px 1px 3px 1px rgba(60, 64, 67, 0.15);\n",
              "        fill: #174EA6;\n",
              "      }\n",
              "\n",
              "      [theme=dark] .colab-df-generate {\n",
              "        background-color: #3B4455;\n",
              "        fill: #D2E3FC;\n",
              "      }\n",
              "\n",
              "      [theme=dark] .colab-df-generate:hover {\n",
              "        background-color: #434B5C;\n",
              "        box-shadow: 0px 1px 3px 1px rgba(0, 0, 0, 0.15);\n",
              "        filter: drop-shadow(0px 1px 2px rgba(0, 0, 0, 0.3));\n",
              "        fill: #FFFFFF;\n",
              "      }\n",
              "    </style>\n",
              "    <button class=\"colab-df-generate\" onclick=\"generateWithVariable('data_dict')\"\n",
              "            title=\"Generate code using this dataframe.\"\n",
              "            style=\"display:none;\">\n",
              "\n",
              "  <svg xmlns=\"http://www.w3.org/2000/svg\" height=\"24px\"viewBox=\"0 0 24 24\"\n",
              "       width=\"24px\">\n",
              "    <path d=\"M7,19H8.4L18.45,9,17,7.55,7,17.6ZM5,21V16.75L18.45,3.32a2,2,0,0,1,2.83,0l1.4,1.43a1.91,1.91,0,0,1,.58,1.4,1.91,1.91,0,0,1-.58,1.4L9.25,21ZM18.45,9,17,7.55Zm-12,3A5.31,5.31,0,0,0,4.9,8.1,5.31,5.31,0,0,0,1,6.5,5.31,5.31,0,0,0,4.9,4.9,5.31,5.31,0,0,0,6.5,1,5.31,5.31,0,0,0,8.1,4.9,5.31,5.31,0,0,0,12,6.5,5.46,5.46,0,0,0,6.5,12Z\"/>\n",
              "  </svg>\n",
              "    </button>\n",
              "    <script>\n",
              "      (() => {\n",
              "      const buttonEl =\n",
              "        document.querySelector('#id_ce93690f-7114-4cec-a725-b740e3f8cdbe button.colab-df-generate');\n",
              "      buttonEl.style.display =\n",
              "        google.colab.kernel.accessAllowed ? 'block' : 'none';\n",
              "\n",
              "      buttonEl.onclick = () => {\n",
              "        google.colab.notebook.generateWithVariable('data_dict');\n",
              "      }\n",
              "      })();\n",
              "    </script>\n",
              "  </div>\n",
              "\n",
              "    </div>\n",
              "  </div>\n"
            ],
            "application/vnd.google.colaboratory.intrinsic+json": {
              "type": "dataframe",
              "variable_name": "data_dict",
              "summary": "{\n  \"name\": \"data_dict\",\n  \"rows\": 52,\n  \"fields\": [\n    {\n      \"column\": \"Variable\",\n      \"properties\": {\n        \"dtype\": \"string\",\n        \"num_unique_values\": 30,\n        \"samples\": [\n          \"YearsAtCompany\",\n          \"MaritalStatus\",\n          \"StockOptionLevel\"\n        ],\n        \"semantic_type\": \"\",\n        \"description\": \"\"\n      }\n    },\n    {\n      \"column\": \"Meaning\",\n      \"properties\": {\n        \"dtype\": \"string\",\n        \"num_unique_values\": 30,\n        \"samples\": [\n          \"Total number of years spent at the company by the employee\",\n          \"Marital status of the employee\",\n          \"Stock option level of the employee\"\n        ],\n        \"semantic_type\": \"\",\n        \"description\": \"\"\n      }\n    },\n    {\n      \"column\": \"Levels\",\n      \"properties\": {\n        \"dtype\": \"category\",\n        \"num_unique_values\": 15,\n        \"samples\": [\n          \"2 'Good'\",\n          \"4 'Outstanding'\",\n          \"1 'Below College'\"\n        ],\n        \"semantic_type\": \"\",\n        \"description\": \"\"\n      }\n    }\n  ]\n}"
            }
          },
          "metadata": {},
          "execution_count": 65
        }
      ]
    },
    {
      "cell_type": "code",
      "source": [
        "cols=['Variable','Meaning']\n",
        "data_dict.loc[:,cols]=data_dict.loc[:,cols].ffill()"
      ],
      "metadata": {
        "id": "Q5sBb8Rkqw0U"
      },
      "execution_count": 66,
      "outputs": []
    },
    {
      "cell_type": "code",
      "source": [
        "# Step 2: Create new columns for level_grade and level_description\n",
        "def split_levels(level):\n",
        "    if pd.isnull(level):\n",
        "        return None, None\n",
        "    # Split the level to separate the number and the description\n",
        "    parts = level.split(\" \", 1)\n",
        "    level_grade = parts[0]  # Get the numeric part (level)\n",
        "    level_description = parts[1].strip(\"'\") if len(parts) > 1 else None  # Get the description part\n",
        "    return level_grade, level_description\n",
        "\n",
        "# Apply the function to split the Levels column\n",
        "data_dict[['level_grade', 'level_description']] = data_dict['Levels'].apply(lambda x: pd.Series(split_levels(x)))\n",
        "\n"
      ],
      "metadata": {
        "id": "fSbc2DFLAGMM"
      },
      "execution_count": 68,
      "outputs": []
    },
    {
      "cell_type": "code",
      "source": [
        "data_dict.iloc[2]['Meaning']"
      ],
      "metadata": {
        "colab": {
          "base_uri": "https://localhost:8080/",
          "height": 35
        },
        "id": "B0saC0xMAeDW",
        "outputId": "e1b3c688-53ce-40cc-fa62-20c706d087af"
      },
      "execution_count": 69,
      "outputs": [
        {
          "output_type": "execute_result",
          "data": {
            "text/plain": [
              "'How frequently the employees travelled for business purposes in the last year'"
            ],
            "application/vnd.google.colaboratory.intrinsic+json": {
              "type": "string"
            }
          },
          "metadata": {},
          "execution_count": 69
        }
      ]
    },
    {
      "cell_type": "markdown",
      "source": [
        "### Employee data"
      ],
      "metadata": {
        "id": "fx3FhU_pv3kg"
      }
    },
    {
      "cell_type": "code",
      "source": [
        "emp_data.head()"
      ],
      "metadata": {
        "colab": {
          "base_uri": "https://localhost:8080/",
          "height": 206
        },
        "id": "K3fH94MEn58N",
        "outputId": "2da74294-6b1f-4a16-a889-d608c2b053dd"
      },
      "execution_count": 72,
      "outputs": [
        {
          "output_type": "execute_result",
          "data": {
            "text/plain": [
              "   EmployeeID  EnvironmentSatisfaction  JobSatisfaction  WorkLifeBalance\n",
              "0           1                      3.0              4.0              2.0\n",
              "1           2                      3.0              2.0              4.0\n",
              "2           3                      2.0              2.0              1.0\n",
              "3           4                      4.0              4.0              3.0\n",
              "4           5                      4.0              1.0              3.0"
            ],
            "text/html": [
              "\n",
              "  <div id=\"df-b702fc73-32a4-4396-939a-b04315659147\" class=\"colab-df-container\">\n",
              "    <div>\n",
              "<style scoped>\n",
              "    .dataframe tbody tr th:only-of-type {\n",
              "        vertical-align: middle;\n",
              "    }\n",
              "\n",
              "    .dataframe tbody tr th {\n",
              "        vertical-align: top;\n",
              "    }\n",
              "\n",
              "    .dataframe thead th {\n",
              "        text-align: right;\n",
              "    }\n",
              "</style>\n",
              "<table border=\"1\" class=\"dataframe\">\n",
              "  <thead>\n",
              "    <tr style=\"text-align: right;\">\n",
              "      <th></th>\n",
              "      <th>EmployeeID</th>\n",
              "      <th>EnvironmentSatisfaction</th>\n",
              "      <th>JobSatisfaction</th>\n",
              "      <th>WorkLifeBalance</th>\n",
              "    </tr>\n",
              "  </thead>\n",
              "  <tbody>\n",
              "    <tr>\n",
              "      <th>0</th>\n",
              "      <td>1</td>\n",
              "      <td>3.0</td>\n",
              "      <td>4.0</td>\n",
              "      <td>2.0</td>\n",
              "    </tr>\n",
              "    <tr>\n",
              "      <th>1</th>\n",
              "      <td>2</td>\n",
              "      <td>3.0</td>\n",
              "      <td>2.0</td>\n",
              "      <td>4.0</td>\n",
              "    </tr>\n",
              "    <tr>\n",
              "      <th>2</th>\n",
              "      <td>3</td>\n",
              "      <td>2.0</td>\n",
              "      <td>2.0</td>\n",
              "      <td>1.0</td>\n",
              "    </tr>\n",
              "    <tr>\n",
              "      <th>3</th>\n",
              "      <td>4</td>\n",
              "      <td>4.0</td>\n",
              "      <td>4.0</td>\n",
              "      <td>3.0</td>\n",
              "    </tr>\n",
              "    <tr>\n",
              "      <th>4</th>\n",
              "      <td>5</td>\n",
              "      <td>4.0</td>\n",
              "      <td>1.0</td>\n",
              "      <td>3.0</td>\n",
              "    </tr>\n",
              "  </tbody>\n",
              "</table>\n",
              "</div>\n",
              "    <div class=\"colab-df-buttons\">\n",
              "\n",
              "  <div class=\"colab-df-container\">\n",
              "    <button class=\"colab-df-convert\" onclick=\"convertToInteractive('df-b702fc73-32a4-4396-939a-b04315659147')\"\n",
              "            title=\"Convert this dataframe to an interactive table.\"\n",
              "            style=\"display:none;\">\n",
              "\n",
              "  <svg xmlns=\"http://www.w3.org/2000/svg\" height=\"24px\" viewBox=\"0 -960 960 960\">\n",
              "    <path d=\"M120-120v-720h720v720H120Zm60-500h600v-160H180v160Zm220 220h160v-160H400v160Zm0 220h160v-160H400v160ZM180-400h160v-160H180v160Zm440 0h160v-160H620v160ZM180-180h160v-160H180v160Zm440 0h160v-160H620v160Z\"/>\n",
              "  </svg>\n",
              "    </button>\n",
              "\n",
              "  <style>\n",
              "    .colab-df-container {\n",
              "      display:flex;\n",
              "      gap: 12px;\n",
              "    }\n",
              "\n",
              "    .colab-df-convert {\n",
              "      background-color: #E8F0FE;\n",
              "      border: none;\n",
              "      border-radius: 50%;\n",
              "      cursor: pointer;\n",
              "      display: none;\n",
              "      fill: #1967D2;\n",
              "      height: 32px;\n",
              "      padding: 0 0 0 0;\n",
              "      width: 32px;\n",
              "    }\n",
              "\n",
              "    .colab-df-convert:hover {\n",
              "      background-color: #E2EBFA;\n",
              "      box-shadow: 0px 1px 2px rgba(60, 64, 67, 0.3), 0px 1px 3px 1px rgba(60, 64, 67, 0.15);\n",
              "      fill: #174EA6;\n",
              "    }\n",
              "\n",
              "    .colab-df-buttons div {\n",
              "      margin-bottom: 4px;\n",
              "    }\n",
              "\n",
              "    [theme=dark] .colab-df-convert {\n",
              "      background-color: #3B4455;\n",
              "      fill: #D2E3FC;\n",
              "    }\n",
              "\n",
              "    [theme=dark] .colab-df-convert:hover {\n",
              "      background-color: #434B5C;\n",
              "      box-shadow: 0px 1px 3px 1px rgba(0, 0, 0, 0.15);\n",
              "      filter: drop-shadow(0px 1px 2px rgba(0, 0, 0, 0.3));\n",
              "      fill: #FFFFFF;\n",
              "    }\n",
              "  </style>\n",
              "\n",
              "    <script>\n",
              "      const buttonEl =\n",
              "        document.querySelector('#df-b702fc73-32a4-4396-939a-b04315659147 button.colab-df-convert');\n",
              "      buttonEl.style.display =\n",
              "        google.colab.kernel.accessAllowed ? 'block' : 'none';\n",
              "\n",
              "      async function convertToInteractive(key) {\n",
              "        const element = document.querySelector('#df-b702fc73-32a4-4396-939a-b04315659147');\n",
              "        const dataTable =\n",
              "          await google.colab.kernel.invokeFunction('convertToInteractive',\n",
              "                                                    [key], {});\n",
              "        if (!dataTable) return;\n",
              "\n",
              "        const docLinkHtml = 'Like what you see? Visit the ' +\n",
              "          '<a target=\"_blank\" href=https://colab.research.google.com/notebooks/data_table.ipynb>data table notebook</a>'\n",
              "          + ' to learn more about interactive tables.';\n",
              "        element.innerHTML = '';\n",
              "        dataTable['output_type'] = 'display_data';\n",
              "        await google.colab.output.renderOutput(dataTable, element);\n",
              "        const docLink = document.createElement('div');\n",
              "        docLink.innerHTML = docLinkHtml;\n",
              "        element.appendChild(docLink);\n",
              "      }\n",
              "    </script>\n",
              "  </div>\n",
              "\n",
              "\n",
              "<div id=\"df-3c690de4-a47d-44cf-92be-af01fd5e7cec\">\n",
              "  <button class=\"colab-df-quickchart\" onclick=\"quickchart('df-3c690de4-a47d-44cf-92be-af01fd5e7cec')\"\n",
              "            title=\"Suggest charts\"\n",
              "            style=\"display:none;\">\n",
              "\n",
              "<svg xmlns=\"http://www.w3.org/2000/svg\" height=\"24px\"viewBox=\"0 0 24 24\"\n",
              "     width=\"24px\">\n",
              "    <g>\n",
              "        <path d=\"M19 3H5c-1.1 0-2 .9-2 2v14c0 1.1.9 2 2 2h14c1.1 0 2-.9 2-2V5c0-1.1-.9-2-2-2zM9 17H7v-7h2v7zm4 0h-2V7h2v10zm4 0h-2v-4h2v4z\"/>\n",
              "    </g>\n",
              "</svg>\n",
              "  </button>\n",
              "\n",
              "<style>\n",
              "  .colab-df-quickchart {\n",
              "      --bg-color: #E8F0FE;\n",
              "      --fill-color: #1967D2;\n",
              "      --hover-bg-color: #E2EBFA;\n",
              "      --hover-fill-color: #174EA6;\n",
              "      --disabled-fill-color: #AAA;\n",
              "      --disabled-bg-color: #DDD;\n",
              "  }\n",
              "\n",
              "  [theme=dark] .colab-df-quickchart {\n",
              "      --bg-color: #3B4455;\n",
              "      --fill-color: #D2E3FC;\n",
              "      --hover-bg-color: #434B5C;\n",
              "      --hover-fill-color: #FFFFFF;\n",
              "      --disabled-bg-color: #3B4455;\n",
              "      --disabled-fill-color: #666;\n",
              "  }\n",
              "\n",
              "  .colab-df-quickchart {\n",
              "    background-color: var(--bg-color);\n",
              "    border: none;\n",
              "    border-radius: 50%;\n",
              "    cursor: pointer;\n",
              "    display: none;\n",
              "    fill: var(--fill-color);\n",
              "    height: 32px;\n",
              "    padding: 0;\n",
              "    width: 32px;\n",
              "  }\n",
              "\n",
              "  .colab-df-quickchart:hover {\n",
              "    background-color: var(--hover-bg-color);\n",
              "    box-shadow: 0 1px 2px rgba(60, 64, 67, 0.3), 0 1px 3px 1px rgba(60, 64, 67, 0.15);\n",
              "    fill: var(--button-hover-fill-color);\n",
              "  }\n",
              "\n",
              "  .colab-df-quickchart-complete:disabled,\n",
              "  .colab-df-quickchart-complete:disabled:hover {\n",
              "    background-color: var(--disabled-bg-color);\n",
              "    fill: var(--disabled-fill-color);\n",
              "    box-shadow: none;\n",
              "  }\n",
              "\n",
              "  .colab-df-spinner {\n",
              "    border: 2px solid var(--fill-color);\n",
              "    border-color: transparent;\n",
              "    border-bottom-color: var(--fill-color);\n",
              "    animation:\n",
              "      spin 1s steps(1) infinite;\n",
              "  }\n",
              "\n",
              "  @keyframes spin {\n",
              "    0% {\n",
              "      border-color: transparent;\n",
              "      border-bottom-color: var(--fill-color);\n",
              "      border-left-color: var(--fill-color);\n",
              "    }\n",
              "    20% {\n",
              "      border-color: transparent;\n",
              "      border-left-color: var(--fill-color);\n",
              "      border-top-color: var(--fill-color);\n",
              "    }\n",
              "    30% {\n",
              "      border-color: transparent;\n",
              "      border-left-color: var(--fill-color);\n",
              "      border-top-color: var(--fill-color);\n",
              "      border-right-color: var(--fill-color);\n",
              "    }\n",
              "    40% {\n",
              "      border-color: transparent;\n",
              "      border-right-color: var(--fill-color);\n",
              "      border-top-color: var(--fill-color);\n",
              "    }\n",
              "    60% {\n",
              "      border-color: transparent;\n",
              "      border-right-color: var(--fill-color);\n",
              "    }\n",
              "    80% {\n",
              "      border-color: transparent;\n",
              "      border-right-color: var(--fill-color);\n",
              "      border-bottom-color: var(--fill-color);\n",
              "    }\n",
              "    90% {\n",
              "      border-color: transparent;\n",
              "      border-bottom-color: var(--fill-color);\n",
              "    }\n",
              "  }\n",
              "</style>\n",
              "\n",
              "  <script>\n",
              "    async function quickchart(key) {\n",
              "      const quickchartButtonEl =\n",
              "        document.querySelector('#' + key + ' button');\n",
              "      quickchartButtonEl.disabled = true;  // To prevent multiple clicks.\n",
              "      quickchartButtonEl.classList.add('colab-df-spinner');\n",
              "      try {\n",
              "        const charts = await google.colab.kernel.invokeFunction(\n",
              "            'suggestCharts', [key], {});\n",
              "      } catch (error) {\n",
              "        console.error('Error during call to suggestCharts:', error);\n",
              "      }\n",
              "      quickchartButtonEl.classList.remove('colab-df-spinner');\n",
              "      quickchartButtonEl.classList.add('colab-df-quickchart-complete');\n",
              "    }\n",
              "    (() => {\n",
              "      let quickchartButtonEl =\n",
              "        document.querySelector('#df-3c690de4-a47d-44cf-92be-af01fd5e7cec button');\n",
              "      quickchartButtonEl.style.display =\n",
              "        google.colab.kernel.accessAllowed ? 'block' : 'none';\n",
              "    })();\n",
              "  </script>\n",
              "</div>\n",
              "\n",
              "    </div>\n",
              "  </div>\n"
            ],
            "application/vnd.google.colaboratory.intrinsic+json": {
              "type": "dataframe",
              "variable_name": "emp_data",
              "summary": "{\n  \"name\": \"emp_data\",\n  \"rows\": 4410,\n  \"fields\": [\n    {\n      \"column\": \"EmployeeID\",\n      \"properties\": {\n        \"dtype\": \"number\",\n        \"std\": 1273,\n        \"min\": 1,\n        \"max\": 4410,\n        \"num_unique_values\": 4410,\n        \"samples\": [\n          1414,\n          3353,\n          3971\n        ],\n        \"semantic_type\": \"\",\n        \"description\": \"\"\n      }\n    },\n    {\n      \"column\": \"EnvironmentSatisfaction\",\n      \"properties\": {\n        \"dtype\": \"number\",\n        \"std\": 1.0927564120537916,\n        \"min\": 1.0,\n        \"max\": 4.0,\n        \"num_unique_values\": 4,\n        \"samples\": [\n          2.0,\n          1.0,\n          3.0\n        ],\n        \"semantic_type\": \"\",\n        \"description\": \"\"\n      }\n    },\n    {\n      \"column\": \"JobSatisfaction\",\n      \"properties\": {\n        \"dtype\": \"number\",\n        \"std\": 1.1012531951147941,\n        \"min\": 1.0,\n        \"max\": 4.0,\n        \"num_unique_values\": 4,\n        \"samples\": [\n          2.0,\n          3.0,\n          4.0\n        ],\n        \"semantic_type\": \"\",\n        \"description\": \"\"\n      }\n    },\n    {\n      \"column\": \"WorkLifeBalance\",\n      \"properties\": {\n        \"dtype\": \"number\",\n        \"std\": 0.7062453332062444,\n        \"min\": 1.0,\n        \"max\": 4.0,\n        \"num_unique_values\": 4,\n        \"samples\": [\n          4.0,\n          3.0,\n          2.0\n        ],\n        \"semantic_type\": \"\",\n        \"description\": \"\"\n      }\n    }\n  ]\n}"
            }
          },
          "metadata": {},
          "execution_count": 72
        }
      ]
    },
    {
      "cell_type": "code",
      "source": [
        "emp_data.info()"
      ],
      "metadata": {
        "colab": {
          "base_uri": "https://localhost:8080/"
        },
        "id": "xqvkJpRAsCA3",
        "outputId": "60ed2b5f-196d-4125-c6d9-bb00693e469e"
      },
      "execution_count": 73,
      "outputs": [
        {
          "output_type": "stream",
          "name": "stdout",
          "text": [
            "<class 'pandas.core.frame.DataFrame'>\n",
            "RangeIndex: 4410 entries, 0 to 4409\n",
            "Data columns (total 4 columns):\n",
            " #   Column                   Non-Null Count  Dtype  \n",
            "---  ------                   --------------  -----  \n",
            " 0   EmployeeID               4410 non-null   int64  \n",
            " 1   EnvironmentSatisfaction  4385 non-null   float64\n",
            " 2   JobSatisfaction          4390 non-null   float64\n",
            " 3   WorkLifeBalance          4372 non-null   float64\n",
            "dtypes: float64(3), int64(1)\n",
            "memory usage: 137.9 KB\n"
          ]
        }
      ]
    },
    {
      "cell_type": "code",
      "source": [
        "# Create the SimpleImputer to fill missing values with the mode (most frequent value)\n",
        "imputer = SimpleImputer(strategy='most_frequent')\n",
        "emp_data[:] = imputer.fit_transform(emp_data)\n",
        "columns_to_impute = ['EnvironmentSatisfaction', 'JobSatisfaction', 'WorkLifeBalance']\n",
        "# Step 4: Convert the columns from float to int\n",
        "emp_data[columns_to_impute] = emp_data[columns_to_impute].astype(int)"
      ],
      "metadata": {
        "id": "JtIMFHLPjIVD"
      },
      "execution_count": 74,
      "outputs": []
    },
    {
      "cell_type": "code",
      "source": [
        "emp_data.info()"
      ],
      "metadata": {
        "colab": {
          "base_uri": "https://localhost:8080/"
        },
        "id": "_DxqVSY3pCkE",
        "outputId": "6f52e407-6862-46ad-a0a8-3d4038e6bfc8"
      },
      "execution_count": 78,
      "outputs": [
        {
          "output_type": "stream",
          "name": "stdout",
          "text": [
            "<class 'pandas.core.frame.DataFrame'>\n",
            "RangeIndex: 4410 entries, 0 to 4409\n",
            "Data columns (total 4 columns):\n",
            " #   Column                   Non-Null Count  Dtype\n",
            "---  ------                   --------------  -----\n",
            " 0   EmployeeID               4410 non-null   int64\n",
            " 1   EnvironmentSatisfaction  4410 non-null   int64\n",
            " 2   JobSatisfaction          4410 non-null   int64\n",
            " 3   WorkLifeBalance          4410 non-null   int64\n",
            "dtypes: int64(4)\n",
            "memory usage: 137.9 KB\n"
          ]
        }
      ]
    },
    {
      "cell_type": "markdown",
      "source": [
        "### General data"
      ],
      "metadata": {
        "id": "osytJOjUwKBB"
      }
    },
    {
      "cell_type": "code",
      "source": [
        "gen_data.head()\n"
      ],
      "metadata": {
        "colab": {
          "base_uri": "https://localhost:8080/",
          "height": 325
        },
        "id": "jjzklUw3n9dv",
        "outputId": "6db30286-ab69-4011-ea51-369f32210e06"
      },
      "execution_count": 79,
      "outputs": [
        {
          "output_type": "execute_result",
          "data": {
            "text/plain": [
              "   Age Attrition     BusinessTravel              Department  DistanceFromHome  \\\n",
              "0   51        No      Travel_Rarely                   Sales                 6   \n",
              "1   31       Yes  Travel_Frequently  Research & Development                10   \n",
              "2   32        No  Travel_Frequently  Research & Development                17   \n",
              "3   38        No         Non-Travel  Research & Development                 2   \n",
              "4   32        No      Travel_Rarely  Research & Development                10   \n",
              "\n",
              "   Education EducationField  EmployeeCount  EmployeeID  Gender  ...  \\\n",
              "0          2  Life Sciences              1           1  Female  ...   \n",
              "1          1  Life Sciences              1           2  Female  ...   \n",
              "2          4          Other              1           3    Male  ...   \n",
              "3          5  Life Sciences              1           4    Male  ...   \n",
              "4          1        Medical              1           5    Male  ...   \n",
              "\n",
              "   NumCompaniesWorked Over18 PercentSalaryHike  StandardHours  \\\n",
              "0                 1.0      Y                11              8   \n",
              "1                 0.0      Y                23              8   \n",
              "2                 1.0      Y                15              8   \n",
              "3                 3.0      Y                11              8   \n",
              "4                 4.0      Y                12              8   \n",
              "\n",
              "   StockOptionLevel TotalWorkingYears  TrainingTimesLastYear  YearsAtCompany  \\\n",
              "0                 0               1.0                      6               1   \n",
              "1                 1               6.0                      3               5   \n",
              "2                 3               5.0                      2               5   \n",
              "3                 3              13.0                      5               8   \n",
              "4                 2               9.0                      2               6   \n",
              "\n",
              "   YearsSinceLastPromotion  YearsWithCurrManager  \n",
              "0                        0                     0  \n",
              "1                        1                     4  \n",
              "2                        0                     3  \n",
              "3                        7                     5  \n",
              "4                        0                     4  \n",
              "\n",
              "[5 rows x 24 columns]"
            ],
            "text/html": [
              "\n",
              "  <div id=\"df-a0e9d600-cac0-48fb-8a25-34785fa92adf\" class=\"colab-df-container\">\n",
              "    <div>\n",
              "<style scoped>\n",
              "    .dataframe tbody tr th:only-of-type {\n",
              "        vertical-align: middle;\n",
              "    }\n",
              "\n",
              "    .dataframe tbody tr th {\n",
              "        vertical-align: top;\n",
              "    }\n",
              "\n",
              "    .dataframe thead th {\n",
              "        text-align: right;\n",
              "    }\n",
              "</style>\n",
              "<table border=\"1\" class=\"dataframe\">\n",
              "  <thead>\n",
              "    <tr style=\"text-align: right;\">\n",
              "      <th></th>\n",
              "      <th>Age</th>\n",
              "      <th>Attrition</th>\n",
              "      <th>BusinessTravel</th>\n",
              "      <th>Department</th>\n",
              "      <th>DistanceFromHome</th>\n",
              "      <th>Education</th>\n",
              "      <th>EducationField</th>\n",
              "      <th>EmployeeCount</th>\n",
              "      <th>EmployeeID</th>\n",
              "      <th>Gender</th>\n",
              "      <th>...</th>\n",
              "      <th>NumCompaniesWorked</th>\n",
              "      <th>Over18</th>\n",
              "      <th>PercentSalaryHike</th>\n",
              "      <th>StandardHours</th>\n",
              "      <th>StockOptionLevel</th>\n",
              "      <th>TotalWorkingYears</th>\n",
              "      <th>TrainingTimesLastYear</th>\n",
              "      <th>YearsAtCompany</th>\n",
              "      <th>YearsSinceLastPromotion</th>\n",
              "      <th>YearsWithCurrManager</th>\n",
              "    </tr>\n",
              "  </thead>\n",
              "  <tbody>\n",
              "    <tr>\n",
              "      <th>0</th>\n",
              "      <td>51</td>\n",
              "      <td>No</td>\n",
              "      <td>Travel_Rarely</td>\n",
              "      <td>Sales</td>\n",
              "      <td>6</td>\n",
              "      <td>2</td>\n",
              "      <td>Life Sciences</td>\n",
              "      <td>1</td>\n",
              "      <td>1</td>\n",
              "      <td>Female</td>\n",
              "      <td>...</td>\n",
              "      <td>1.0</td>\n",
              "      <td>Y</td>\n",
              "      <td>11</td>\n",
              "      <td>8</td>\n",
              "      <td>0</td>\n",
              "      <td>1.0</td>\n",
              "      <td>6</td>\n",
              "      <td>1</td>\n",
              "      <td>0</td>\n",
              "      <td>0</td>\n",
              "    </tr>\n",
              "    <tr>\n",
              "      <th>1</th>\n",
              "      <td>31</td>\n",
              "      <td>Yes</td>\n",
              "      <td>Travel_Frequently</td>\n",
              "      <td>Research &amp; Development</td>\n",
              "      <td>10</td>\n",
              "      <td>1</td>\n",
              "      <td>Life Sciences</td>\n",
              "      <td>1</td>\n",
              "      <td>2</td>\n",
              "      <td>Female</td>\n",
              "      <td>...</td>\n",
              "      <td>0.0</td>\n",
              "      <td>Y</td>\n",
              "      <td>23</td>\n",
              "      <td>8</td>\n",
              "      <td>1</td>\n",
              "      <td>6.0</td>\n",
              "      <td>3</td>\n",
              "      <td>5</td>\n",
              "      <td>1</td>\n",
              "      <td>4</td>\n",
              "    </tr>\n",
              "    <tr>\n",
              "      <th>2</th>\n",
              "      <td>32</td>\n",
              "      <td>No</td>\n",
              "      <td>Travel_Frequently</td>\n",
              "      <td>Research &amp; Development</td>\n",
              "      <td>17</td>\n",
              "      <td>4</td>\n",
              "      <td>Other</td>\n",
              "      <td>1</td>\n",
              "      <td>3</td>\n",
              "      <td>Male</td>\n",
              "      <td>...</td>\n",
              "      <td>1.0</td>\n",
              "      <td>Y</td>\n",
              "      <td>15</td>\n",
              "      <td>8</td>\n",
              "      <td>3</td>\n",
              "      <td>5.0</td>\n",
              "      <td>2</td>\n",
              "      <td>5</td>\n",
              "      <td>0</td>\n",
              "      <td>3</td>\n",
              "    </tr>\n",
              "    <tr>\n",
              "      <th>3</th>\n",
              "      <td>38</td>\n",
              "      <td>No</td>\n",
              "      <td>Non-Travel</td>\n",
              "      <td>Research &amp; Development</td>\n",
              "      <td>2</td>\n",
              "      <td>5</td>\n",
              "      <td>Life Sciences</td>\n",
              "      <td>1</td>\n",
              "      <td>4</td>\n",
              "      <td>Male</td>\n",
              "      <td>...</td>\n",
              "      <td>3.0</td>\n",
              "      <td>Y</td>\n",
              "      <td>11</td>\n",
              "      <td>8</td>\n",
              "      <td>3</td>\n",
              "      <td>13.0</td>\n",
              "      <td>5</td>\n",
              "      <td>8</td>\n",
              "      <td>7</td>\n",
              "      <td>5</td>\n",
              "    </tr>\n",
              "    <tr>\n",
              "      <th>4</th>\n",
              "      <td>32</td>\n",
              "      <td>No</td>\n",
              "      <td>Travel_Rarely</td>\n",
              "      <td>Research &amp; Development</td>\n",
              "      <td>10</td>\n",
              "      <td>1</td>\n",
              "      <td>Medical</td>\n",
              "      <td>1</td>\n",
              "      <td>5</td>\n",
              "      <td>Male</td>\n",
              "      <td>...</td>\n",
              "      <td>4.0</td>\n",
              "      <td>Y</td>\n",
              "      <td>12</td>\n",
              "      <td>8</td>\n",
              "      <td>2</td>\n",
              "      <td>9.0</td>\n",
              "      <td>2</td>\n",
              "      <td>6</td>\n",
              "      <td>0</td>\n",
              "      <td>4</td>\n",
              "    </tr>\n",
              "  </tbody>\n",
              "</table>\n",
              "<p>5 rows × 24 columns</p>\n",
              "</div>\n",
              "    <div class=\"colab-df-buttons\">\n",
              "\n",
              "  <div class=\"colab-df-container\">\n",
              "    <button class=\"colab-df-convert\" onclick=\"convertToInteractive('df-a0e9d600-cac0-48fb-8a25-34785fa92adf')\"\n",
              "            title=\"Convert this dataframe to an interactive table.\"\n",
              "            style=\"display:none;\">\n",
              "\n",
              "  <svg xmlns=\"http://www.w3.org/2000/svg\" height=\"24px\" viewBox=\"0 -960 960 960\">\n",
              "    <path d=\"M120-120v-720h720v720H120Zm60-500h600v-160H180v160Zm220 220h160v-160H400v160Zm0 220h160v-160H400v160ZM180-400h160v-160H180v160Zm440 0h160v-160H620v160ZM180-180h160v-160H180v160Zm440 0h160v-160H620v160Z\"/>\n",
              "  </svg>\n",
              "    </button>\n",
              "\n",
              "  <style>\n",
              "    .colab-df-container {\n",
              "      display:flex;\n",
              "      gap: 12px;\n",
              "    }\n",
              "\n",
              "    .colab-df-convert {\n",
              "      background-color: #E8F0FE;\n",
              "      border: none;\n",
              "      border-radius: 50%;\n",
              "      cursor: pointer;\n",
              "      display: none;\n",
              "      fill: #1967D2;\n",
              "      height: 32px;\n",
              "      padding: 0 0 0 0;\n",
              "      width: 32px;\n",
              "    }\n",
              "\n",
              "    .colab-df-convert:hover {\n",
              "      background-color: #E2EBFA;\n",
              "      box-shadow: 0px 1px 2px rgba(60, 64, 67, 0.3), 0px 1px 3px 1px rgba(60, 64, 67, 0.15);\n",
              "      fill: #174EA6;\n",
              "    }\n",
              "\n",
              "    .colab-df-buttons div {\n",
              "      margin-bottom: 4px;\n",
              "    }\n",
              "\n",
              "    [theme=dark] .colab-df-convert {\n",
              "      background-color: #3B4455;\n",
              "      fill: #D2E3FC;\n",
              "    }\n",
              "\n",
              "    [theme=dark] .colab-df-convert:hover {\n",
              "      background-color: #434B5C;\n",
              "      box-shadow: 0px 1px 3px 1px rgba(0, 0, 0, 0.15);\n",
              "      filter: drop-shadow(0px 1px 2px rgba(0, 0, 0, 0.3));\n",
              "      fill: #FFFFFF;\n",
              "    }\n",
              "  </style>\n",
              "\n",
              "    <script>\n",
              "      const buttonEl =\n",
              "        document.querySelector('#df-a0e9d600-cac0-48fb-8a25-34785fa92adf button.colab-df-convert');\n",
              "      buttonEl.style.display =\n",
              "        google.colab.kernel.accessAllowed ? 'block' : 'none';\n",
              "\n",
              "      async function convertToInteractive(key) {\n",
              "        const element = document.querySelector('#df-a0e9d600-cac0-48fb-8a25-34785fa92adf');\n",
              "        const dataTable =\n",
              "          await google.colab.kernel.invokeFunction('convertToInteractive',\n",
              "                                                    [key], {});\n",
              "        if (!dataTable) return;\n",
              "\n",
              "        const docLinkHtml = 'Like what you see? Visit the ' +\n",
              "          '<a target=\"_blank\" href=https://colab.research.google.com/notebooks/data_table.ipynb>data table notebook</a>'\n",
              "          + ' to learn more about interactive tables.';\n",
              "        element.innerHTML = '';\n",
              "        dataTable['output_type'] = 'display_data';\n",
              "        await google.colab.output.renderOutput(dataTable, element);\n",
              "        const docLink = document.createElement('div');\n",
              "        docLink.innerHTML = docLinkHtml;\n",
              "        element.appendChild(docLink);\n",
              "      }\n",
              "    </script>\n",
              "  </div>\n",
              "\n",
              "\n",
              "<div id=\"df-2c65f35f-9706-43c6-978b-e4b0bbcf7a03\">\n",
              "  <button class=\"colab-df-quickchart\" onclick=\"quickchart('df-2c65f35f-9706-43c6-978b-e4b0bbcf7a03')\"\n",
              "            title=\"Suggest charts\"\n",
              "            style=\"display:none;\">\n",
              "\n",
              "<svg xmlns=\"http://www.w3.org/2000/svg\" height=\"24px\"viewBox=\"0 0 24 24\"\n",
              "     width=\"24px\">\n",
              "    <g>\n",
              "        <path d=\"M19 3H5c-1.1 0-2 .9-2 2v14c0 1.1.9 2 2 2h14c1.1 0 2-.9 2-2V5c0-1.1-.9-2-2-2zM9 17H7v-7h2v7zm4 0h-2V7h2v10zm4 0h-2v-4h2v4z\"/>\n",
              "    </g>\n",
              "</svg>\n",
              "  </button>\n",
              "\n",
              "<style>\n",
              "  .colab-df-quickchart {\n",
              "      --bg-color: #E8F0FE;\n",
              "      --fill-color: #1967D2;\n",
              "      --hover-bg-color: #E2EBFA;\n",
              "      --hover-fill-color: #174EA6;\n",
              "      --disabled-fill-color: #AAA;\n",
              "      --disabled-bg-color: #DDD;\n",
              "  }\n",
              "\n",
              "  [theme=dark] .colab-df-quickchart {\n",
              "      --bg-color: #3B4455;\n",
              "      --fill-color: #D2E3FC;\n",
              "      --hover-bg-color: #434B5C;\n",
              "      --hover-fill-color: #FFFFFF;\n",
              "      --disabled-bg-color: #3B4455;\n",
              "      --disabled-fill-color: #666;\n",
              "  }\n",
              "\n",
              "  .colab-df-quickchart {\n",
              "    background-color: var(--bg-color);\n",
              "    border: none;\n",
              "    border-radius: 50%;\n",
              "    cursor: pointer;\n",
              "    display: none;\n",
              "    fill: var(--fill-color);\n",
              "    height: 32px;\n",
              "    padding: 0;\n",
              "    width: 32px;\n",
              "  }\n",
              "\n",
              "  .colab-df-quickchart:hover {\n",
              "    background-color: var(--hover-bg-color);\n",
              "    box-shadow: 0 1px 2px rgba(60, 64, 67, 0.3), 0 1px 3px 1px rgba(60, 64, 67, 0.15);\n",
              "    fill: var(--button-hover-fill-color);\n",
              "  }\n",
              "\n",
              "  .colab-df-quickchart-complete:disabled,\n",
              "  .colab-df-quickchart-complete:disabled:hover {\n",
              "    background-color: var(--disabled-bg-color);\n",
              "    fill: var(--disabled-fill-color);\n",
              "    box-shadow: none;\n",
              "  }\n",
              "\n",
              "  .colab-df-spinner {\n",
              "    border: 2px solid var(--fill-color);\n",
              "    border-color: transparent;\n",
              "    border-bottom-color: var(--fill-color);\n",
              "    animation:\n",
              "      spin 1s steps(1) infinite;\n",
              "  }\n",
              "\n",
              "  @keyframes spin {\n",
              "    0% {\n",
              "      border-color: transparent;\n",
              "      border-bottom-color: var(--fill-color);\n",
              "      border-left-color: var(--fill-color);\n",
              "    }\n",
              "    20% {\n",
              "      border-color: transparent;\n",
              "      border-left-color: var(--fill-color);\n",
              "      border-top-color: var(--fill-color);\n",
              "    }\n",
              "    30% {\n",
              "      border-color: transparent;\n",
              "      border-left-color: var(--fill-color);\n",
              "      border-top-color: var(--fill-color);\n",
              "      border-right-color: var(--fill-color);\n",
              "    }\n",
              "    40% {\n",
              "      border-color: transparent;\n",
              "      border-right-color: var(--fill-color);\n",
              "      border-top-color: var(--fill-color);\n",
              "    }\n",
              "    60% {\n",
              "      border-color: transparent;\n",
              "      border-right-color: var(--fill-color);\n",
              "    }\n",
              "    80% {\n",
              "      border-color: transparent;\n",
              "      border-right-color: var(--fill-color);\n",
              "      border-bottom-color: var(--fill-color);\n",
              "    }\n",
              "    90% {\n",
              "      border-color: transparent;\n",
              "      border-bottom-color: var(--fill-color);\n",
              "    }\n",
              "  }\n",
              "</style>\n",
              "\n",
              "  <script>\n",
              "    async function quickchart(key) {\n",
              "      const quickchartButtonEl =\n",
              "        document.querySelector('#' + key + ' button');\n",
              "      quickchartButtonEl.disabled = true;  // To prevent multiple clicks.\n",
              "      quickchartButtonEl.classList.add('colab-df-spinner');\n",
              "      try {\n",
              "        const charts = await google.colab.kernel.invokeFunction(\n",
              "            'suggestCharts', [key], {});\n",
              "      } catch (error) {\n",
              "        console.error('Error during call to suggestCharts:', error);\n",
              "      }\n",
              "      quickchartButtonEl.classList.remove('colab-df-spinner');\n",
              "      quickchartButtonEl.classList.add('colab-df-quickchart-complete');\n",
              "    }\n",
              "    (() => {\n",
              "      let quickchartButtonEl =\n",
              "        document.querySelector('#df-2c65f35f-9706-43c6-978b-e4b0bbcf7a03 button');\n",
              "      quickchartButtonEl.style.display =\n",
              "        google.colab.kernel.accessAllowed ? 'block' : 'none';\n",
              "    })();\n",
              "  </script>\n",
              "</div>\n",
              "\n",
              "    </div>\n",
              "  </div>\n"
            ],
            "application/vnd.google.colaboratory.intrinsic+json": {
              "type": "dataframe",
              "variable_name": "gen_data"
            }
          },
          "metadata": {},
          "execution_count": 79
        }
      ]
    },
    {
      "cell_type": "code",
      "source": [
        "gen_data.info()"
      ],
      "metadata": {
        "colab": {
          "base_uri": "https://localhost:8080/"
        },
        "id": "votmIkW1wqsY",
        "outputId": "01889139-e449-4bc0-dec7-7dd48b5f855d"
      },
      "execution_count": 85,
      "outputs": [
        {
          "output_type": "stream",
          "name": "stdout",
          "text": [
            "<class 'pandas.core.frame.DataFrame'>\n",
            "RangeIndex: 4410 entries, 0 to 4409\n",
            "Data columns (total 24 columns):\n",
            " #   Column                   Non-Null Count  Dtype  \n",
            "---  ------                   --------------  -----  \n",
            " 0   Age                      4410 non-null   int64  \n",
            " 1   Attrition                4410 non-null   object \n",
            " 2   BusinessTravel           4410 non-null   object \n",
            " 3   Department               4410 non-null   object \n",
            " 4   DistanceFromHome         4410 non-null   int64  \n",
            " 5   Education                4410 non-null   int64  \n",
            " 6   EducationField           4410 non-null   object \n",
            " 7   EmployeeCount            4410 non-null   int64  \n",
            " 8   EmployeeID               4410 non-null   int64  \n",
            " 9   Gender                   4410 non-null   object \n",
            " 10  JobLevel                 4410 non-null   int64  \n",
            " 11  JobRole                  4410 non-null   object \n",
            " 12  MaritalStatus            4410 non-null   object \n",
            " 13  MonthlyIncome            4410 non-null   int64  \n",
            " 14  NumCompaniesWorked       4391 non-null   float64\n",
            " 15  Over18                   4410 non-null   object \n",
            " 16  PercentSalaryHike        4410 non-null   int64  \n",
            " 17  StandardHours            4410 non-null   int64  \n",
            " 18  StockOptionLevel         4410 non-null   int64  \n",
            " 19  TotalWorkingYears        4401 non-null   float64\n",
            " 20  TrainingTimesLastYear    4410 non-null   int64  \n",
            " 21  YearsAtCompany           4410 non-null   int64  \n",
            " 22  YearsSinceLastPromotion  4410 non-null   int64  \n",
            " 23  YearsWithCurrManager     4410 non-null   int64  \n",
            "dtypes: float64(2), int64(14), object(8)\n",
            "memory usage: 827.0+ KB\n"
          ]
        }
      ]
    },
    {
      "cell_type": "markdown",
      "source": [
        "#### Data dict updates"
      ],
      "metadata": {
        "id": "ij4FSZQYwOiZ"
      }
    },
    {
      "cell_type": "markdown",
      "source": [
        "##### Age"
      ],
      "metadata": {
        "id": "rlGY4CjHwVl8"
      }
    },
    {
      "cell_type": "code",
      "source": [
        "gen_data['Age'].unique()"
      ],
      "metadata": {
        "colab": {
          "base_uri": "https://localhost:8080/"
        },
        "id": "mVNv6RS5SAdW",
        "outputId": "cb2ae92a-548e-4922-d782-f3dcebaeefa6"
      },
      "execution_count": 83,
      "outputs": [
        {
          "output_type": "execute_result",
          "data": {
            "text/plain": [
              "array([51, 31, 32, 38, 46, 28, 29, 25, 45, 36, 55, 47, 37, 21, 35, 26, 50,\n",
              "       53, 42, 44, 49, 18, 41, 39, 58, 33, 43, 52, 27, 30, 54, 40, 23, 48,\n",
              "       57, 34, 24, 22, 56, 60, 19, 20, 59])"
            ]
          },
          "metadata": {},
          "execution_count": 83
        }
      ]
    },
    {
      "cell_type": "code",
      "source": [
        "data_dict.loc[0,['Levels', 'level_grade','level_description']] = [\"0 'Numeric-Age'\", 0,\"Numeric-Age\"]"
      ],
      "metadata": {
        "id": "fLzdrWc4Sxas"
      },
      "execution_count": 84,
      "outputs": []
    },
    {
      "cell_type": "markdown",
      "source": [
        "##### Attrition"
      ],
      "metadata": {
        "id": "2S34kReYyZ-g"
      }
    },
    {
      "cell_type": "code",
      "source": [
        "gen_data['Attrition'].unique()"
      ],
      "metadata": {
        "colab": {
          "base_uri": "https://localhost:8080/"
        },
        "id": "PqldfLDaNguu",
        "outputId": "3afc3a5d-1ad2-410e-cdd0-b104c5fe68b6"
      },
      "execution_count": 81,
      "outputs": [
        {
          "output_type": "execute_result",
          "data": {
            "text/plain": [
              "array(['No', 'Yes'], dtype=object)"
            ]
          },
          "metadata": {},
          "execution_count": 81
        }
      ]
    },
    {
      "cell_type": "code",
      "source": [
        "data_dict = insert_blank_rows_into_data_dict(data_dict, insert_index=1, num_blank_rows=1)"
      ],
      "metadata": {
        "id": "zPiI6yRwyhhq"
      },
      "execution_count": null,
      "outputs": []
    },
    {
      "cell_type": "code",
      "source": [
        "data_dict.loc[1,['Levels', 'level_grade','level_description']] = [\"1 'No'\", 1,\"No\"]\n",
        "data_dict.loc[2] = [\"Attrition\",\"Whether the employee left in the previous year or not\",\"2 'Yes'\", 2,\"Yes\"]"
      ],
      "metadata": {
        "id": "WGnS0hoFP9wF"
      },
      "execution_count": 93,
      "outputs": []
    },
    {
      "cell_type": "markdown",
      "source": [
        "##### BusinessTravel"
      ],
      "metadata": {
        "id": "mAE0DwLkwfhw"
      }
    },
    {
      "cell_type": "code",
      "source": [
        "gen_data['BusinessTravel'].unique()"
      ],
      "metadata": {
        "colab": {
          "base_uri": "https://localhost:8080/"
        },
        "id": "SjOVN-ihvG-6",
        "outputId": "fcafbd4b-9b78-41ed-8650-c62ab3061ee0"
      },
      "execution_count": 80,
      "outputs": [
        {
          "output_type": "execute_result",
          "data": {
            "text/plain": [
              "array(['Travel_Rarely', 'Travel_Frequently', 'Non-Travel'], dtype=object)"
            ]
          },
          "metadata": {},
          "execution_count": 80
        }
      ]
    },
    {
      "cell_type": "code",
      "source": [
        "data_dict = insert_blank_rows_into_data_dict(data_dict, insert_index=3, num_blank_rows=2)"
      ],
      "metadata": {
        "id": "G-3VLXf2yAJc"
      },
      "execution_count": null,
      "outputs": []
    },
    {
      "cell_type": "code",
      "source": [
        "data_dict.loc[2,['Levels', 'level_grade','level_description']] = [\"1 'Non-Travel'\", 1,\"Non-Travel\"]\n",
        "data_dict.loc[4] = [\"BusinessTravel\",\"How frequently the employees travelled for business purposes in the last year\",\"3 'Travel_Frequently'\", 3,\"Travel_Frequently\"]\n",
        "data_dict.loc[3] = [\"BusinessTravel\",\"How frequently the employees travelled for business purposes in the last year\",\"2 'Travel_Rarely'\", 2,\"Travel_Rarely\"]"
      ],
      "metadata": {
        "id": "Km1aYW0s1oSK"
      },
      "execution_count": 88,
      "outputs": []
    },
    {
      "cell_type": "markdown",
      "source": [
        "##### Department"
      ],
      "metadata": {
        "id": "WNBWZ4QjyGmf"
      }
    },
    {
      "cell_type": "code",
      "source": [
        "gen_data['Department'].unique()"
      ],
      "metadata": {
        "colab": {
          "base_uri": "https://localhost:8080/"
        },
        "id": "r-v1VHXgR1vB",
        "outputId": "cc6f0811-e359-4543-88a1-002efb6223a4"
      },
      "execution_count": 82,
      "outputs": [
        {
          "output_type": "execute_result",
          "data": {
            "text/plain": [
              "array(['Sales', 'Research & Development', 'Human Resources'], dtype=object)"
            ]
          },
          "metadata": {},
          "execution_count": 82
        }
      ]
    },
    {
      "cell_type": "code",
      "source": [
        "data_dict = insert_blank_rows_into_data_dict(data_dict, insert_index=6, num_blank_rows=2)"
      ],
      "metadata": {
        "id": "dq7kIMDqzHwD"
      },
      "execution_count": null,
      "outputs": []
    },
    {
      "cell_type": "code",
      "source": [
        "data_dict.loc[6,['Levels', 'level_grade','level_description']] = [\"1 'Sales'\", 1,\"Sales\"]\n",
        "data_dict.loc[7] = [\"Department\",\"Department in company\",\"2 'Research & Development'\", 2,\"Research & Development\"]\n",
        "data_dict.loc[8] = [\"Department\",\"Department in company\",\"3 'Human Resources'\", 3,\"Human Resources\"]"
      ],
      "metadata": {
        "id": "t_jG0dVkUJKI"
      },
      "execution_count": 99,
      "outputs": []
    },
    {
      "cell_type": "markdown",
      "source": [
        "##### DistanceFromHome"
      ],
      "metadata": {
        "id": "rhQNz7n0zaAA"
      }
    },
    {
      "cell_type": "code",
      "source": [
        "gen_data['DistanceFromHome'].unique()"
      ],
      "metadata": {
        "colab": {
          "base_uri": "https://localhost:8080/"
        },
        "id": "-z2dPcOLU38c",
        "outputId": "b1461904-bdbc-4947-e21a-163377ac297a"
      },
      "execution_count": 101,
      "outputs": [
        {
          "output_type": "execute_result",
          "data": {
            "text/plain": [
              "array([ 6, 10, 17,  2,  8, 11, 18,  1,  7, 28, 14,  3,  4, 16,  9,  5, 20,\n",
              "       29, 15, 13, 24, 19, 22, 25, 21, 26, 27, 12, 23])"
            ]
          },
          "metadata": {},
          "execution_count": 101
        }
      ]
    },
    {
      "cell_type": "code",
      "source": [
        "data_dict.loc[9,['Levels', 'level_grade','level_description']] = [\"0 'Distance'\", 0,\"Distance\"]"
      ],
      "metadata": {
        "id": "OJyEzXZhU0Qd"
      },
      "execution_count": 102,
      "outputs": []
    },
    {
      "cell_type": "markdown",
      "source": [
        "##### EducationField"
      ],
      "metadata": {
        "id": "EwRz70klznyG"
      }
    },
    {
      "cell_type": "code",
      "source": [
        "gen_data['EducationField'].unique()"
      ],
      "metadata": {
        "colab": {
          "base_uri": "https://localhost:8080/"
        },
        "id": "53EzvQDZVPdF",
        "outputId": "6b35bc48-2dca-4c9f-c232-07cd651d28c4"
      },
      "execution_count": 104,
      "outputs": [
        {
          "output_type": "execute_result",
          "data": {
            "text/plain": [
              "array(['Life Sciences', 'Other', 'Medical', 'Marketing',\n",
              "       'Technical Degree', 'Human Resources'], dtype=object)"
            ]
          },
          "metadata": {},
          "execution_count": 104
        }
      ]
    },
    {
      "cell_type": "code",
      "source": [
        "data_dict = insert_blank_rows_into_data_dict(data_dict, insert_index=15, num_blank_rows=5)"
      ],
      "metadata": {
        "id": "8BR_TLVnz8JD"
      },
      "execution_count": null,
      "outputs": []
    },
    {
      "cell_type": "code",
      "source": [
        "data_dict.loc[15,['Levels', 'level_grade','level_description']] = [\"1 'Life Sciences'\", 1,\"Life Sciences\"]\n",
        "data_dict.loc[16] = [\"EducationField\",\"Field of education\",\"2 'Medical'\", 2,\"Medical\"]\n",
        "data_dict.loc[17] = [\"EducationField\",\"Field of education\",\"3 'Human Resources'\", 3,\"Human Resources\"]\n",
        "data_dict.loc[18] = [\"EducationField\",\"Field of education\",\"4 'Marketing'\", 4,\"Marketing\"]\n",
        "data_dict.loc[19] = [\"EducationField\",\"Field of education\",\"5 'Technical Degree'\", 5,\"Technical Degree\"]\n",
        "data_dict.loc[20] = [\"EducationField\",\"Field of education\",\"6 'Other'\", 6,\"Other\"]"
      ],
      "metadata": {
        "id": "wsf0Z0qAU0YO"
      },
      "execution_count": 110,
      "outputs": []
    },
    {
      "cell_type": "markdown",
      "source": [
        "##### EmployeeCount"
      ],
      "metadata": {
        "id": "u7EFn_2M0ItM"
      }
    },
    {
      "cell_type": "code",
      "source": [
        "gen_data['EmployeeCount'].unique()"
      ],
      "metadata": {
        "colab": {
          "base_uri": "https://localhost:8080/"
        },
        "id": "fW4TKxtwXXrE",
        "outputId": "636452ec-438b-41cc-9e60-b09f7f8a330e"
      },
      "execution_count": 112,
      "outputs": [
        {
          "output_type": "execute_result",
          "data": {
            "text/plain": [
              "array([1])"
            ]
          },
          "metadata": {},
          "execution_count": 112
        }
      ]
    },
    {
      "cell_type": "code",
      "source": [
        "data_dict.loc[21,['Levels', 'level_grade','level_description']] = [\"1 'UniqueEmployees'\", 1,\"UniqueEmployees\"]"
      ],
      "metadata": {
        "id": "ZCL_tNIhXnol"
      },
      "execution_count": 114,
      "outputs": []
    },
    {
      "cell_type": "markdown",
      "source": [
        "##### EmployeeID"
      ],
      "metadata": {
        "id": "Jw84q0TB0VyL"
      }
    },
    {
      "cell_type": "code",
      "source": [
        "gen_data['EmployeeID'].unique()"
      ],
      "metadata": {
        "colab": {
          "base_uri": "https://localhost:8080/"
        },
        "id": "jtiWs00-X3CM",
        "outputId": "c6334f6d-5fee-4359-fee5-049b86c47d6b"
      },
      "execution_count": 113,
      "outputs": [
        {
          "output_type": "execute_result",
          "data": {
            "text/plain": [
              "array([   1,    2,    3, ..., 4408, 4409, 4410])"
            ]
          },
          "metadata": {},
          "execution_count": 113
        }
      ]
    },
    {
      "cell_type": "code",
      "source": [
        "data_dict.loc[22,['Levels', 'level_grade','level_description']] = [\"0 'Emp-ID'\", 0,\"Emp-ID\"]"
      ],
      "metadata": {
        "id": "XnRAvaO8U0fc"
      },
      "execution_count": 120,
      "outputs": []
    },
    {
      "cell_type": "markdown",
      "source": [
        "##### Gender"
      ],
      "metadata": {
        "id": "8Kazz3te0jWZ"
      }
    },
    {
      "cell_type": "code",
      "source": [
        "gen_data['Gender'].unique()"
      ],
      "metadata": {
        "colab": {
          "base_uri": "https://localhost:8080/"
        },
        "id": "uVeKqwUFYjPm",
        "outputId": "0dcd53fe-9092-4051-e465-f5138ad64200"
      },
      "execution_count": 122,
      "outputs": [
        {
          "output_type": "execute_result",
          "data": {
            "text/plain": [
              "array(['Female', 'Male'], dtype=object)"
            ]
          },
          "metadata": {},
          "execution_count": 122
        }
      ]
    },
    {
      "cell_type": "code",
      "source": [
        "data_dict = insert_blank_rows_into_data_dict(data_dict, insert_index=27, num_blank_rows=1)"
      ],
      "metadata": {
        "id": "v9lTYZgD0wTG"
      },
      "execution_count": null,
      "outputs": []
    },
    {
      "cell_type": "code",
      "source": [
        "data_dict.loc[27,['Levels', 'level_grade','level_description']] = [\"1 'Female'\", 1,\"Female\"]\n",
        "data_dict.loc[28] = [\"Gender\",\"Gender of employee\",\"2 'Male'\", 2,\"Male\"]"
      ],
      "metadata": {
        "id": "U4yOQFbHY0QN"
      },
      "execution_count": 125,
      "outputs": []
    },
    {
      "cell_type": "markdown",
      "source": [
        "##### JobLevel"
      ],
      "metadata": {
        "id": "kn-eul6V06si"
      }
    },
    {
      "cell_type": "code",
      "source": [
        "gen_data['JobLevel'].unique()"
      ],
      "metadata": {
        "colab": {
          "base_uri": "https://localhost:8080/"
        },
        "id": "mFHlmP4KZ34Q",
        "outputId": "5191c6cd-eaa4-4d2d-92ae-5c600dd3d45a"
      },
      "execution_count": 126,
      "outputs": [
        {
          "output_type": "execute_result",
          "data": {
            "text/plain": [
              "array([1, 4, 3, 2, 5])"
            ]
          },
          "metadata": {},
          "execution_count": 126
        }
      ]
    },
    {
      "cell_type": "code",
      "source": [
        "data_dict = insert_blank_rows_into_data_dict(data_dict, insert_index=33, num_blank_rows=4)"
      ],
      "metadata": {
        "id": "fGaDgbrk0-bG"
      },
      "execution_count": null,
      "outputs": []
    },
    {
      "cell_type": "code",
      "source": [
        "data_dict.loc[33,['Levels', 'level_grade','level_description']] = [\"1 'Level-1'\", 1,\"Level-1\"]\n",
        "data_dict.loc[34] = [\"JobLevel\",\"Job level at company on a scale of 1 to 5\",\"2 'Level-2'\", 2,\"Level-2\"]\n",
        "data_dict.loc[35] = [\"JobLevel\",\"Job level at company on a scale of 1 to 5\",\"3 'Level-3'\", 3,\"Level-3\"]\n",
        "data_dict.loc[36] = [\"JobLevel\",\"Job level at company on a scale of 1 to 5\",\"4 'Level-4'\", 4,\"Level-4\"]\n",
        "data_dict.loc[37] = [\"JobLevel\",\"Job level at company on a scale of 1 to 5\",\"5 'Level-5'\", 5,\"Level-5\"]"
      ],
      "metadata": {
        "id": "rHpRV5jNaPyQ"
      },
      "execution_count": 130,
      "outputs": []
    },
    {
      "cell_type": "markdown",
      "source": [
        "##### JobRole"
      ],
      "metadata": {
        "id": "Xz0hJjIM1MBo"
      }
    },
    {
      "cell_type": "code",
      "source": [
        "gen_data['JobRole'].unique()"
      ],
      "metadata": {
        "colab": {
          "base_uri": "https://localhost:8080/"
        },
        "id": "sk0FFN0rbn6G",
        "outputId": "e2657658-651f-4c4d-d883-b2a52cc38123"
      },
      "execution_count": 132,
      "outputs": [
        {
          "output_type": "execute_result",
          "data": {
            "text/plain": [
              "array(['Healthcare Representative', 'Research Scientist',\n",
              "       'Sales Executive', 'Human Resources', 'Research Director',\n",
              "       'Laboratory Technician', 'Manufacturing Director',\n",
              "       'Sales Representative', 'Manager'], dtype=object)"
            ]
          },
          "metadata": {},
          "execution_count": 132
        }
      ]
    },
    {
      "cell_type": "code",
      "source": [
        "data_dict = insert_blank_rows_into_data_dict(data_dict, insert_index=38, num_blank_rows=8)"
      ],
      "metadata": {
        "id": "qDNoydm31PUE"
      },
      "execution_count": null,
      "outputs": []
    },
    {
      "cell_type": "code",
      "source": [
        "data_dict.loc[38,['Levels', 'level_grade','level_description']] = [\"1 'Healthcare Representative'\", 1,\"Healthcare Representative\"]\n",
        "data_dict.loc[39] = [\"JobRole\",\"Name of job role in company\",\"2 'Research Scientist'\", 2,\"Research Scientist\"]\n",
        "data_dict.loc[40] = [\"JobRole\",\"Name of job role in company\",\"3 'Sales Executive'\", 3,\"Sales Executive\"]\n",
        "data_dict.loc[41] = [\"JobRole\",\"Name of job role in company\",\"4 'Human Resources'\", 4,\"Human Resources\"]\n",
        "data_dict.loc[42] = [\"JobRole\",\"Name of job role in company\",\"5 'Research Director'\", 5,\"Research Director\"]\n",
        "data_dict.loc[43] = [\"JobRole\",\"Name of job role in company\",\"6 'Laboratory Technician'\", 6,\"Laboratory Technician\"]\n",
        "data_dict.loc[44] = [\"JobRole\",\"Name of job role in company\",\"7 'Manufacturing Director'\", 7,\"Manufacturing Director\"]\n",
        "data_dict.loc[45] = [\"JobRole\",\"Name of job role in company\",\"8 'Sales Representative'\", 8,\"Sales Representative\"]\n",
        "data_dict.loc[46] = [\"JobRole\",\"Name of job role in company\",\"9 'Manager'\", 9,\"Manager\"]"
      ],
      "metadata": {
        "id": "Ke0yJu7sa9mL"
      },
      "execution_count": 138,
      "outputs": []
    },
    {
      "cell_type": "markdown",
      "source": [
        "##### MaritalStatus"
      ],
      "metadata": {
        "id": "7W4BlWTe1aRI"
      }
    },
    {
      "cell_type": "code",
      "source": [
        "gen_data['MaritalStatus'].unique()"
      ],
      "metadata": {
        "colab": {
          "base_uri": "https://localhost:8080/"
        },
        "id": "EuLHyPOOdmMo",
        "outputId": "cac0cc2e-c1cc-41db-c472-8099ce3cc241"
      },
      "execution_count": 140,
      "outputs": [
        {
          "output_type": "execute_result",
          "data": {
            "text/plain": [
              "array(['Married', 'Single', 'Divorced'], dtype=object)"
            ]
          },
          "metadata": {},
          "execution_count": 140
        }
      ]
    },
    {
      "cell_type": "code",
      "source": [
        "data_dict = insert_blank_rows_into_data_dict(data_dict, insert_index=51, num_blank_rows=2)"
      ],
      "metadata": {
        "id": "tVSB9OWP1gmy"
      },
      "execution_count": null,
      "outputs": []
    },
    {
      "cell_type": "code",
      "source": [
        "data_dict.loc[51,['Levels', 'level_grade','level_description']] = [\"1 'Single'\", 1,\"Single\"]\n",
        "data_dict.loc[52] = [\"MaritalStatus\",\"Marital status of the employee\",\"2 'Married'\", 2,\"Married\"]\n",
        "data_dict.loc[53] = [\"MaritalStatus\",\"Marital status of the employee\",\"3 'Divorced'\", 3,\"Divorced\"]"
      ],
      "metadata": {
        "id": "7x2K6Q6fduq2"
      },
      "execution_count": 143,
      "outputs": []
    },
    {
      "cell_type": "markdown",
      "source": [
        "##### MonthlyIncome & NumCompaniesWorked"
      ],
      "metadata": {
        "id": "nHr7N9lc1uQL"
      }
    },
    {
      "cell_type": "code",
      "source": [
        "gen_data['MonthlyIncome'].unique()"
      ],
      "metadata": {
        "colab": {
          "base_uri": "https://localhost:8080/"
        },
        "id": "OV5RdmD4fC5n",
        "outputId": "ceecabd7-9174-4905-92c0-d121ecf92e1a"
      },
      "execution_count": 145,
      "outputs": [
        {
          "output_type": "execute_result",
          "data": {
            "text/plain": [
              "array([131160,  41890, 193280, ...,  37020,  23980,  54680])"
            ]
          },
          "metadata": {},
          "execution_count": 145
        }
      ]
    },
    {
      "cell_type": "code",
      "source": [
        "gen_data['NumCompaniesWorked'].unique()"
      ],
      "metadata": {
        "colab": {
          "base_uri": "https://localhost:8080/"
        },
        "id": "o1OjMS09fI8p",
        "outputId": "34411192-0b6b-4047-cccd-a01a44ee8afd"
      },
      "execution_count": 146,
      "outputs": [
        {
          "output_type": "execute_result",
          "data": {
            "text/plain": [
              "array([ 1.,  0.,  3.,  4.,  2.,  7.,  9.,  5.,  6.,  8., nan])"
            ]
          },
          "metadata": {},
          "execution_count": 146
        }
      ]
    },
    {
      "cell_type": "code",
      "source": [
        "data_dict.loc[54,['Levels', 'level_grade','level_description']] = [\"0 'Income'\", 0,\"Income\"]\n",
        "data_dict.loc[55,['Levels', 'level_grade','level_description']] = [\"0 'Company_Count'\", 0,\"Company_Count\"]\n"
      ],
      "metadata": {
        "id": "eY68UsdfduwS"
      },
      "execution_count": 149,
      "outputs": []
    },
    {
      "cell_type": "markdown",
      "source": [
        "##### Over18"
      ],
      "metadata": {
        "id": "wR0-eue319XK"
      }
    },
    {
      "cell_type": "code",
      "source": [
        "gen_data['Over18'].unique()"
      ],
      "metadata": {
        "colab": {
          "base_uri": "https://localhost:8080/"
        },
        "id": "YFKYEtAvflvo",
        "outputId": "081acbae-8f59-4d9f-d248-6c8c777dc7a0"
      },
      "execution_count": 147,
      "outputs": [
        {
          "output_type": "execute_result",
          "data": {
            "text/plain": [
              "array(['Y'], dtype=object)"
            ]
          },
          "metadata": {},
          "execution_count": 147
        }
      ]
    },
    {
      "cell_type": "code",
      "source": [
        "data_dict = insert_blank_rows_into_data_dict(data_dict, insert_index=56, num_blank_rows=1)"
      ],
      "metadata": {
        "id": "j7lytDHQ1_vu"
      },
      "execution_count": null,
      "outputs": []
    },
    {
      "cell_type": "code",
      "source": [
        "data_dict.loc[56,['Levels', 'level_grade','level_description']] = [\"1 'Y'\", 1,\"Y\"]\n",
        "data_dict.loc[57] = [\"Over18\",\"Whether the employee is above 18 years of age or not\",\"2 'N'\", 2,\"N\"]"
      ],
      "metadata": {
        "id": "xlxLh-mug7sJ"
      },
      "execution_count": 154,
      "outputs": []
    },
    {
      "cell_type": "markdown",
      "source": [
        "##### PercentSalaryHike & StandardHours"
      ],
      "metadata": {
        "id": "KTMjBOi_2JPl"
      }
    },
    {
      "cell_type": "code",
      "source": [
        "gen_data['PercentSalaryHike'].unique()"
      ],
      "metadata": {
        "colab": {
          "base_uri": "https://localhost:8080/"
        },
        "id": "MOLI2SYBf02S",
        "outputId": "a4abc8ff-5069-471b-931f-6e8782fc81b9"
      },
      "execution_count": 148,
      "outputs": [
        {
          "output_type": "execute_result",
          "data": {
            "text/plain": [
              "array([11, 23, 15, 12, 13, 20, 22, 21, 17, 14, 16, 18, 19, 24, 25])"
            ]
          },
          "metadata": {},
          "execution_count": 148
        }
      ]
    },
    {
      "cell_type": "code",
      "source": [
        "data_dict.loc[58,['Levels', 'level_grade','level_description']] = [\"0 'Hike_percent'\", 0,\"Hike_percent\"]"
      ],
      "metadata": {
        "id": "WgFOlfwXg7zG"
      },
      "execution_count": 157,
      "outputs": []
    },
    {
      "cell_type": "code",
      "source": [
        "gen_data['StandardHours'].unique()"
      ],
      "metadata": {
        "colab": {
          "base_uri": "https://localhost:8080/"
        },
        "id": "AskOTWaSiITs",
        "outputId": "a583a910-bb22-4c1f-888e-d1afcb246fe2"
      },
      "execution_count": 164,
      "outputs": [
        {
          "output_type": "execute_result",
          "data": {
            "text/plain": [
              "array([8])"
            ]
          },
          "metadata": {},
          "execution_count": 164
        }
      ]
    },
    {
      "cell_type": "code",
      "source": [
        "data_dict.loc[67,['Levels', 'level_grade','level_description']] = [\"0 'time_8hrs'\", 0,\"time_8hrs\"]"
      ],
      "metadata": {
        "id": "Fqwalbf3i6x-"
      },
      "execution_count": 171,
      "outputs": []
    },
    {
      "cell_type": "markdown",
      "source": [
        "##### StockOptionLevel"
      ],
      "metadata": {
        "id": "7QqrEisz2eVG"
      }
    },
    {
      "cell_type": "code",
      "source": [
        "gen_data['StockOptionLevel'].unique()"
      ],
      "metadata": {
        "colab": {
          "base_uri": "https://localhost:8080/"
        },
        "id": "3D7p4F9PiPs-",
        "outputId": "a4d77c0d-ba87-430a-f776-4b1e314a7b07"
      },
      "execution_count": 165,
      "outputs": [
        {
          "output_type": "execute_result",
          "data": {
            "text/plain": [
              "array([0, 1, 3, 2])"
            ]
          },
          "metadata": {},
          "execution_count": 165
        }
      ]
    },
    {
      "cell_type": "code",
      "source": [
        "data_dict = insert_blank_rows_into_data_dict(data_dict, insert_index=68, num_blank_rows=3)"
      ],
      "metadata": {
        "id": "di3noEu02jQO"
      },
      "execution_count": null,
      "outputs": []
    },
    {
      "cell_type": "code",
      "source": [
        "data_dict.loc[68,['Levels', 'level_grade','level_description']] = [\"0 'Level_0'\", 0,\"Level_0\"]\n",
        "data_dict.loc[69] = [\"StockOptionLevel\",\"Stock option level of the employee\",\"1 'Level_1'\", 1,\"Level_1\"]\n",
        "data_dict.loc[70] = [\"StockOptionLevel\",\"Stock option level of the employee\",\"2 'Level_2'\", 2,\"Level_2\"]\n",
        "data_dict.loc[71] = [\"StockOptionLevel\",\"Stock option level of the employee\",\"3 'Level_3'\", 3,\"Level_3\"]"
      ],
      "metadata": {
        "id": "CPnnJwuCjFWs"
      },
      "execution_count": 176,
      "outputs": []
    },
    {
      "cell_type": "markdown",
      "source": [
        "##### TotalWorkingYears & TrainingTimesLastYear & YearsAtCompany & YearsSinceLastPromotion & YearsWithCurrManager"
      ],
      "metadata": {
        "id": "wM8Rj4qo2yzy"
      }
    },
    {
      "cell_type": "code",
      "source": [
        "gen_data['TotalWorkingYears'].unique()"
      ],
      "metadata": {
        "colab": {
          "base_uri": "https://localhost:8080/"
        },
        "id": "8Te3h1mWiUzP",
        "outputId": "8c967ae9-9f63-439c-9347-9a250de33186"
      },
      "execution_count": 166,
      "outputs": [
        {
          "output_type": "execute_result",
          "data": {
            "text/plain": [
              "array([ 1.,  6.,  5., 13.,  9., 28., 10., 21., 16., 37.,  7.,  3., 15.,\n",
              "        8., nan, 12., 17., 19., 22.,  2.,  4., 23.,  0., 11., 24., 25.,\n",
              "       20., 14., 26., 18., 30., 36., 31., 33., 32., 34., 40., 29., 35.,\n",
              "       27., 38.])"
            ]
          },
          "metadata": {},
          "execution_count": 166
        }
      ]
    },
    {
      "cell_type": "code",
      "source": [
        "gen_data['TrainingTimesLastYear'].unique()"
      ],
      "metadata": {
        "colab": {
          "base_uri": "https://localhost:8080/"
        },
        "id": "Ud9KjqWEichE",
        "outputId": "5a76134e-23ee-45f2-8333-9a04ede9fd34"
      },
      "execution_count": 167,
      "outputs": [
        {
          "output_type": "execute_result",
          "data": {
            "text/plain": [
              "array([6, 3, 2, 5, 4, 0, 1])"
            ]
          },
          "metadata": {},
          "execution_count": 167
        }
      ]
    },
    {
      "cell_type": "code",
      "source": [
        "gen_data['YearsAtCompany'].unique()"
      ],
      "metadata": {
        "colab": {
          "base_uri": "https://localhost:8080/"
        },
        "id": "NUTVWxRGiejG",
        "outputId": "db34e00e-c32f-49cd-98ce-4a852d7f57c8"
      },
      "execution_count": 168,
      "outputs": [
        {
          "output_type": "execute_result",
          "data": {
            "text/plain": [
              "array([ 1,  5,  8,  6,  7,  0,  9, 20, 15, 36, 10,  3, 17,  2,  4, 11, 22,\n",
              "       18, 13, 24, 21, 16, 25, 29, 27, 14, 31, 32, 34, 26, 12, 19, 33, 30,\n",
              "       23, 37, 40])"
            ]
          },
          "metadata": {},
          "execution_count": 168
        }
      ]
    },
    {
      "cell_type": "code",
      "source": [
        "gen_data['YearsSinceLastPromotion'].unique()"
      ],
      "metadata": {
        "colab": {
          "base_uri": "https://localhost:8080/"
        },
        "id": "RJ8k-iX4iem3",
        "outputId": "93c9b1e4-b569-41dd-f0d1-b97ed9fecdb4"
      },
      "execution_count": 169,
      "outputs": [
        {
          "output_type": "execute_result",
          "data": {
            "text/plain": [
              "array([ 0,  1,  7,  4, 10,  9,  6, 11,  3,  5,  2,  8, 13, 12, 15, 14])"
            ]
          },
          "metadata": {},
          "execution_count": 169
        }
      ]
    },
    {
      "cell_type": "code",
      "source": [
        "gen_data['YearsWithCurrManager'].unique()"
      ],
      "metadata": {
        "colab": {
          "base_uri": "https://localhost:8080/"
        },
        "id": "W4S8Un6fioaQ",
        "outputId": "02daa367-6e73-4a99-a4d2-73bec8f7b5a5"
      },
      "execution_count": 170,
      "outputs": [
        {
          "output_type": "execute_result",
          "data": {
            "text/plain": [
              "array([ 0,  4,  3,  5,  7,  8, 10, 11, 13,  9,  1,  2,  6, 12, 17, 16, 15,\n",
              "       14])"
            ]
          },
          "metadata": {},
          "execution_count": 170
        }
      ]
    },
    {
      "cell_type": "code",
      "source": [
        "data_dict.loc[72,['Levels', 'level_grade','level_description']] = [\"0 'Experience'\", 0,\"Experience\"]\n",
        "data_dict.loc[73,['Levels', 'level_grade','level_description']] = [\"0 'Training_time'\", 0,\"Training_time\"]\n",
        "data_dict.loc[78,['Levels', 'level_grade','level_description']] = [\"0 'Tenure'\", 0,\"Tenure\"]\n",
        "data_dict.loc[79,['Levels', 'level_grade','level_description']] = [\"0 'Years_since_promotion'\", 0,\"Years_since_promotion\"]\n",
        "data_dict.loc[80,['Levels', 'level_grade','level_description']] = [\"0 'Years_with_manager'\", 0,\"Years_with_manager\"]"
      ],
      "metadata": {
        "id": "WkjNW0QrjFaw"
      },
      "execution_count": 178,
      "outputs": []
    },
    {
      "cell_type": "code",
      "source": [
        "# Convert to integers\n",
        "data_dict['level_grade'] = data_dict['level_grade'].astype(int)"
      ],
      "metadata": {
        "id": "D_6zz_sEofjJ"
      },
      "execution_count": 182,
      "outputs": []
    },
    {
      "cell_type": "code",
      "source": [
        "data_dict.info()"
      ],
      "metadata": {
        "colab": {
          "base_uri": "https://localhost:8080/"
        },
        "id": "pQPfNt6XohyA",
        "outputId": "11141890-8f1a-4c03-ddb1-ecc2bdc01056"
      },
      "execution_count": 183,
      "outputs": [
        {
          "output_type": "stream",
          "name": "stdout",
          "text": [
            "<class 'pandas.core.frame.DataFrame'>\n",
            "RangeIndex: 81 entries, 0 to 80\n",
            "Data columns (total 5 columns):\n",
            " #   Column             Non-Null Count  Dtype \n",
            "---  ------             --------------  ----- \n",
            " 0   Variable           81 non-null     object\n",
            " 1   Meaning            81 non-null     object\n",
            " 2   Levels             81 non-null     object\n",
            " 3   level_grade        81 non-null     int64 \n",
            " 4   level_description  81 non-null     object\n",
            "dtypes: int64(1), object(4)\n",
            "memory usage: 3.3+ KB\n"
          ]
        }
      ]
    },
    {
      "cell_type": "markdown",
      "source": [
        "#### General Data updates"
      ],
      "metadata": {
        "id": "6lhgm5Um3O5O"
      }
    },
    {
      "cell_type": "code",
      "source": [
        "gen_data.info()"
      ],
      "metadata": {
        "colab": {
          "base_uri": "https://localhost:8080/"
        },
        "id": "HoNolOa1mDri",
        "outputId": "41a2194e-e90c-4d4c-cf48-d6eac7b0f7a2"
      },
      "execution_count": 181,
      "outputs": [
        {
          "output_type": "stream",
          "name": "stdout",
          "text": [
            "<class 'pandas.core.frame.DataFrame'>\n",
            "RangeIndex: 4410 entries, 0 to 4409\n",
            "Data columns (total 24 columns):\n",
            " #   Column                   Non-Null Count  Dtype  \n",
            "---  ------                   --------------  -----  \n",
            " 0   Age                      4410 non-null   int64  \n",
            " 1   Attrition                4410 non-null   object \n",
            " 2   BusinessTravel           4410 non-null   object \n",
            " 3   Department               4410 non-null   object \n",
            " 4   DistanceFromHome         4410 non-null   int64  \n",
            " 5   Education                4410 non-null   int64  \n",
            " 6   EducationField           4410 non-null   object \n",
            " 7   EmployeeCount            4410 non-null   int64  \n",
            " 8   EmployeeID               4410 non-null   int64  \n",
            " 9   Gender                   4410 non-null   object \n",
            " 10  JobLevel                 4410 non-null   int64  \n",
            " 11  JobRole                  4410 non-null   object \n",
            " 12  MaritalStatus            4410 non-null   object \n",
            " 13  MonthlyIncome            4410 non-null   int64  \n",
            " 14  NumCompaniesWorked       4391 non-null   float64\n",
            " 15  Over18                   4410 non-null   object \n",
            " 16  PercentSalaryHike        4410 non-null   int64  \n",
            " 17  StandardHours            4410 non-null   int64  \n",
            " 18  StockOptionLevel         4410 non-null   int64  \n",
            " 19  TotalWorkingYears        4401 non-null   float64\n",
            " 20  TrainingTimesLastYear    4410 non-null   int64  \n",
            " 21  YearsAtCompany           4410 non-null   int64  \n",
            " 22  YearsSinceLastPromotion  4410 non-null   int64  \n",
            " 23  YearsWithCurrManager     4410 non-null   int64  \n",
            "dtypes: float64(2), int64(14), object(8)\n",
            "memory usage: 827.0+ KB\n"
          ]
        }
      ]
    },
    {
      "cell_type": "code",
      "source": [
        "# Step 1: Create a dictionary mapping from 'level_description' to 'level_grade'\n",
        "description_to_grade_mapping = data_dict.set_index('level_description')['level_grade'].to_dict()\n",
        "\n",
        "# Step 2: Replace object column values in gen_data with the corresponding 'level_grade'\n",
        "# Get all object columns in gen_data\n",
        "object_columns = gen_data.select_dtypes(include='object').columns\n",
        "\n",
        "# Step 3: For each object column, map its values to 'level_grade' based on 'level_description'\n",
        "for col in object_columns:\n",
        "    # Replace the values in the column using the description-to-grade mapping\n",
        "    # Ensure original non-matching values remain intact (non-mapped values will stay as is)\n",
        "    gen_data[col] = gen_data[col].map(description_to_grade_mapping).fillna(gen_data[col])\n"
      ],
      "metadata": {
        "id": "jkmArwawolho"
      },
      "execution_count": 185,
      "outputs": []
    },
    {
      "cell_type": "code",
      "source": [
        "gen_data.info()"
      ],
      "metadata": {
        "colab": {
          "base_uri": "https://localhost:8080/"
        },
        "id": "P-jJ4XkBolvo",
        "outputId": "d06b65da-e1ab-471b-994e-e72fe8b42cc4"
      },
      "execution_count": 187,
      "outputs": [
        {
          "output_type": "stream",
          "name": "stdout",
          "text": [
            "<class 'pandas.core.frame.DataFrame'>\n",
            "RangeIndex: 4410 entries, 0 to 4409\n",
            "Data columns (total 24 columns):\n",
            " #   Column                   Non-Null Count  Dtype  \n",
            "---  ------                   --------------  -----  \n",
            " 0   Age                      4410 non-null   int64  \n",
            " 1   Attrition                4410 non-null   int64  \n",
            " 2   BusinessTravel           4410 non-null   int64  \n",
            " 3   Department               4410 non-null   int64  \n",
            " 4   DistanceFromHome         4410 non-null   int64  \n",
            " 5   Education                4410 non-null   int64  \n",
            " 6   EducationField           4410 non-null   int64  \n",
            " 7   EmployeeCount            4410 non-null   int64  \n",
            " 8   EmployeeID               4410 non-null   int64  \n",
            " 9   Gender                   4410 non-null   int64  \n",
            " 10  JobLevel                 4410 non-null   int64  \n",
            " 11  JobRole                  4410 non-null   int64  \n",
            " 12  MaritalStatus            4410 non-null   int64  \n",
            " 13  MonthlyIncome            4410 non-null   int64  \n",
            " 14  NumCompaniesWorked       4391 non-null   float64\n",
            " 15  Over18                   4410 non-null   int64  \n",
            " 16  PercentSalaryHike        4410 non-null   int64  \n",
            " 17  StandardHours            4410 non-null   int64  \n",
            " 18  StockOptionLevel         4410 non-null   int64  \n",
            " 19  TotalWorkingYears        4401 non-null   float64\n",
            " 20  TrainingTimesLastYear    4410 non-null   int64  \n",
            " 21  YearsAtCompany           4410 non-null   int64  \n",
            " 22  YearsSinceLastPromotion  4410 non-null   int64  \n",
            " 23  YearsWithCurrManager     4410 non-null   int64  \n",
            "dtypes: float64(2), int64(22)\n",
            "memory usage: 827.0 KB\n"
          ]
        }
      ]
    },
    {
      "cell_type": "code",
      "source": [
        "# Step 1: Fill NaN values in TotalWorkingYears with the corresponding values from YearsAtCompany\n",
        "gen_data['TotalWorkingYears'] = gen_data['TotalWorkingYears'].fillna(gen_data['YearsAtCompany'])\n",
        "\n",
        "# Step 2: Fill NaN values in NumCompaniesWorked based on the condition (TotalWorkingYears > YearsAtCompany)\n",
        "condition = gen_data['TotalWorkingYears'] > gen_data['YearsAtCompany']\n",
        "gen_data.loc[gen_data['NumCompaniesWorked'].isna() & condition, 'NumCompaniesWorked'] = 1\n",
        "\n",
        "# Step 3: Fill remaining NaN values in NumCompaniesWorked with 0\n",
        "gen_data['NumCompaniesWorked'] = gen_data['NumCompaniesWorked'].fillna(0)"
      ],
      "metadata": {
        "id": "28cy75YSpmHF"
      },
      "execution_count": 192,
      "outputs": []
    },
    {
      "cell_type": "code",
      "source": [
        "# Step 4: Convert TotalWorkingYears and NumCompaniesWorked to integers\n",
        "gen_data['TotalWorkingYears'] = gen_data['TotalWorkingYears'].astype(int)\n",
        "gen_data['NumCompaniesWorked'] = gen_data['NumCompaniesWorked'].astype(int)"
      ],
      "metadata": {
        "id": "WRUh_UfWpxjp"
      },
      "execution_count": 197,
      "outputs": []
    },
    {
      "cell_type": "code",
      "source": [
        "gen_data.info()"
      ],
      "metadata": {
        "colab": {
          "base_uri": "https://localhost:8080/"
        },
        "id": "2RZ5zPdaqrsb",
        "outputId": "498127af-bca7-44dd-90a7-aac7d5ddc849"
      },
      "execution_count": 198,
      "outputs": [
        {
          "output_type": "stream",
          "name": "stdout",
          "text": [
            "<class 'pandas.core.frame.DataFrame'>\n",
            "RangeIndex: 4410 entries, 0 to 4409\n",
            "Data columns (total 24 columns):\n",
            " #   Column                   Non-Null Count  Dtype\n",
            "---  ------                   --------------  -----\n",
            " 0   Age                      4410 non-null   int64\n",
            " 1   Attrition                4410 non-null   int64\n",
            " 2   BusinessTravel           4410 non-null   int64\n",
            " 3   Department               4410 non-null   int64\n",
            " 4   DistanceFromHome         4410 non-null   int64\n",
            " 5   Education                4410 non-null   int64\n",
            " 6   EducationField           4410 non-null   int64\n",
            " 7   EmployeeCount            4410 non-null   int64\n",
            " 8   EmployeeID               4410 non-null   int64\n",
            " 9   Gender                   4410 non-null   int64\n",
            " 10  JobLevel                 4410 non-null   int64\n",
            " 11  JobRole                  4410 non-null   int64\n",
            " 12  MaritalStatus            4410 non-null   int64\n",
            " 13  MonthlyIncome            4410 non-null   int64\n",
            " 14  NumCompaniesWorked       4410 non-null   int64\n",
            " 15  Over18                   4410 non-null   int64\n",
            " 16  PercentSalaryHike        4410 non-null   int64\n",
            " 17  StandardHours            4410 non-null   int64\n",
            " 18  StockOptionLevel         4410 non-null   int64\n",
            " 19  TotalWorkingYears        4410 non-null   int64\n",
            " 20  TrainingTimesLastYear    4410 non-null   int64\n",
            " 21  YearsAtCompany           4410 non-null   int64\n",
            " 22  YearsSinceLastPromotion  4410 non-null   int64\n",
            " 23  YearsWithCurrManager     4410 non-null   int64\n",
            "dtypes: int64(24)\n",
            "memory usage: 827.0 KB\n"
          ]
        }
      ]
    },
    {
      "cell_type": "markdown",
      "source": [
        "### Manager Data"
      ],
      "metadata": {
        "id": "wTkKJL7S3XNu"
      }
    },
    {
      "cell_type": "code",
      "source": [
        "manager_data.head()\n"
      ],
      "metadata": {
        "colab": {
          "base_uri": "https://localhost:8080/",
          "height": 206
        },
        "id": "-9RN-JlgoA29",
        "outputId": "81709d49-99e8-4318-8e50-7301d3429a4d"
      },
      "execution_count": 199,
      "outputs": [
        {
          "output_type": "execute_result",
          "data": {
            "text/plain": [
              "   EmployeeID  JobInvolvement  PerformanceRating\n",
              "0           1               3                  3\n",
              "1           2               2                  4\n",
              "2           3               3                  3\n",
              "3           4               2                  3\n",
              "4           5               3                  3"
            ],
            "text/html": [
              "\n",
              "  <div id=\"df-750208f6-5562-4720-b2db-b5c5e0ce4a88\" class=\"colab-df-container\">\n",
              "    <div>\n",
              "<style scoped>\n",
              "    .dataframe tbody tr th:only-of-type {\n",
              "        vertical-align: middle;\n",
              "    }\n",
              "\n",
              "    .dataframe tbody tr th {\n",
              "        vertical-align: top;\n",
              "    }\n",
              "\n",
              "    .dataframe thead th {\n",
              "        text-align: right;\n",
              "    }\n",
              "</style>\n",
              "<table border=\"1\" class=\"dataframe\">\n",
              "  <thead>\n",
              "    <tr style=\"text-align: right;\">\n",
              "      <th></th>\n",
              "      <th>EmployeeID</th>\n",
              "      <th>JobInvolvement</th>\n",
              "      <th>PerformanceRating</th>\n",
              "    </tr>\n",
              "  </thead>\n",
              "  <tbody>\n",
              "    <tr>\n",
              "      <th>0</th>\n",
              "      <td>1</td>\n",
              "      <td>3</td>\n",
              "      <td>3</td>\n",
              "    </tr>\n",
              "    <tr>\n",
              "      <th>1</th>\n",
              "      <td>2</td>\n",
              "      <td>2</td>\n",
              "      <td>4</td>\n",
              "    </tr>\n",
              "    <tr>\n",
              "      <th>2</th>\n",
              "      <td>3</td>\n",
              "      <td>3</td>\n",
              "      <td>3</td>\n",
              "    </tr>\n",
              "    <tr>\n",
              "      <th>3</th>\n",
              "      <td>4</td>\n",
              "      <td>2</td>\n",
              "      <td>3</td>\n",
              "    </tr>\n",
              "    <tr>\n",
              "      <th>4</th>\n",
              "      <td>5</td>\n",
              "      <td>3</td>\n",
              "      <td>3</td>\n",
              "    </tr>\n",
              "  </tbody>\n",
              "</table>\n",
              "</div>\n",
              "    <div class=\"colab-df-buttons\">\n",
              "\n",
              "  <div class=\"colab-df-container\">\n",
              "    <button class=\"colab-df-convert\" onclick=\"convertToInteractive('df-750208f6-5562-4720-b2db-b5c5e0ce4a88')\"\n",
              "            title=\"Convert this dataframe to an interactive table.\"\n",
              "            style=\"display:none;\">\n",
              "\n",
              "  <svg xmlns=\"http://www.w3.org/2000/svg\" height=\"24px\" viewBox=\"0 -960 960 960\">\n",
              "    <path d=\"M120-120v-720h720v720H120Zm60-500h600v-160H180v160Zm220 220h160v-160H400v160Zm0 220h160v-160H400v160ZM180-400h160v-160H180v160Zm440 0h160v-160H620v160ZM180-180h160v-160H180v160Zm440 0h160v-160H620v160Z\"/>\n",
              "  </svg>\n",
              "    </button>\n",
              "\n",
              "  <style>\n",
              "    .colab-df-container {\n",
              "      display:flex;\n",
              "      gap: 12px;\n",
              "    }\n",
              "\n",
              "    .colab-df-convert {\n",
              "      background-color: #E8F0FE;\n",
              "      border: none;\n",
              "      border-radius: 50%;\n",
              "      cursor: pointer;\n",
              "      display: none;\n",
              "      fill: #1967D2;\n",
              "      height: 32px;\n",
              "      padding: 0 0 0 0;\n",
              "      width: 32px;\n",
              "    }\n",
              "\n",
              "    .colab-df-convert:hover {\n",
              "      background-color: #E2EBFA;\n",
              "      box-shadow: 0px 1px 2px rgba(60, 64, 67, 0.3), 0px 1px 3px 1px rgba(60, 64, 67, 0.15);\n",
              "      fill: #174EA6;\n",
              "    }\n",
              "\n",
              "    .colab-df-buttons div {\n",
              "      margin-bottom: 4px;\n",
              "    }\n",
              "\n",
              "    [theme=dark] .colab-df-convert {\n",
              "      background-color: #3B4455;\n",
              "      fill: #D2E3FC;\n",
              "    }\n",
              "\n",
              "    [theme=dark] .colab-df-convert:hover {\n",
              "      background-color: #434B5C;\n",
              "      box-shadow: 0px 1px 3px 1px rgba(0, 0, 0, 0.15);\n",
              "      filter: drop-shadow(0px 1px 2px rgba(0, 0, 0, 0.3));\n",
              "      fill: #FFFFFF;\n",
              "    }\n",
              "  </style>\n",
              "\n",
              "    <script>\n",
              "      const buttonEl =\n",
              "        document.querySelector('#df-750208f6-5562-4720-b2db-b5c5e0ce4a88 button.colab-df-convert');\n",
              "      buttonEl.style.display =\n",
              "        google.colab.kernel.accessAllowed ? 'block' : 'none';\n",
              "\n",
              "      async function convertToInteractive(key) {\n",
              "        const element = document.querySelector('#df-750208f6-5562-4720-b2db-b5c5e0ce4a88');\n",
              "        const dataTable =\n",
              "          await google.colab.kernel.invokeFunction('convertToInteractive',\n",
              "                                                    [key], {});\n",
              "        if (!dataTable) return;\n",
              "\n",
              "        const docLinkHtml = 'Like what you see? Visit the ' +\n",
              "          '<a target=\"_blank\" href=https://colab.research.google.com/notebooks/data_table.ipynb>data table notebook</a>'\n",
              "          + ' to learn more about interactive tables.';\n",
              "        element.innerHTML = '';\n",
              "        dataTable['output_type'] = 'display_data';\n",
              "        await google.colab.output.renderOutput(dataTable, element);\n",
              "        const docLink = document.createElement('div');\n",
              "        docLink.innerHTML = docLinkHtml;\n",
              "        element.appendChild(docLink);\n",
              "      }\n",
              "    </script>\n",
              "  </div>\n",
              "\n",
              "\n",
              "<div id=\"df-a5305b3e-9438-4d93-ace5-5dab83b4c323\">\n",
              "  <button class=\"colab-df-quickchart\" onclick=\"quickchart('df-a5305b3e-9438-4d93-ace5-5dab83b4c323')\"\n",
              "            title=\"Suggest charts\"\n",
              "            style=\"display:none;\">\n",
              "\n",
              "<svg xmlns=\"http://www.w3.org/2000/svg\" height=\"24px\"viewBox=\"0 0 24 24\"\n",
              "     width=\"24px\">\n",
              "    <g>\n",
              "        <path d=\"M19 3H5c-1.1 0-2 .9-2 2v14c0 1.1.9 2 2 2h14c1.1 0 2-.9 2-2V5c0-1.1-.9-2-2-2zM9 17H7v-7h2v7zm4 0h-2V7h2v10zm4 0h-2v-4h2v4z\"/>\n",
              "    </g>\n",
              "</svg>\n",
              "  </button>\n",
              "\n",
              "<style>\n",
              "  .colab-df-quickchart {\n",
              "      --bg-color: #E8F0FE;\n",
              "      --fill-color: #1967D2;\n",
              "      --hover-bg-color: #E2EBFA;\n",
              "      --hover-fill-color: #174EA6;\n",
              "      --disabled-fill-color: #AAA;\n",
              "      --disabled-bg-color: #DDD;\n",
              "  }\n",
              "\n",
              "  [theme=dark] .colab-df-quickchart {\n",
              "      --bg-color: #3B4455;\n",
              "      --fill-color: #D2E3FC;\n",
              "      --hover-bg-color: #434B5C;\n",
              "      --hover-fill-color: #FFFFFF;\n",
              "      --disabled-bg-color: #3B4455;\n",
              "      --disabled-fill-color: #666;\n",
              "  }\n",
              "\n",
              "  .colab-df-quickchart {\n",
              "    background-color: var(--bg-color);\n",
              "    border: none;\n",
              "    border-radius: 50%;\n",
              "    cursor: pointer;\n",
              "    display: none;\n",
              "    fill: var(--fill-color);\n",
              "    height: 32px;\n",
              "    padding: 0;\n",
              "    width: 32px;\n",
              "  }\n",
              "\n",
              "  .colab-df-quickchart:hover {\n",
              "    background-color: var(--hover-bg-color);\n",
              "    box-shadow: 0 1px 2px rgba(60, 64, 67, 0.3), 0 1px 3px 1px rgba(60, 64, 67, 0.15);\n",
              "    fill: var(--button-hover-fill-color);\n",
              "  }\n",
              "\n",
              "  .colab-df-quickchart-complete:disabled,\n",
              "  .colab-df-quickchart-complete:disabled:hover {\n",
              "    background-color: var(--disabled-bg-color);\n",
              "    fill: var(--disabled-fill-color);\n",
              "    box-shadow: none;\n",
              "  }\n",
              "\n",
              "  .colab-df-spinner {\n",
              "    border: 2px solid var(--fill-color);\n",
              "    border-color: transparent;\n",
              "    border-bottom-color: var(--fill-color);\n",
              "    animation:\n",
              "      spin 1s steps(1) infinite;\n",
              "  }\n",
              "\n",
              "  @keyframes spin {\n",
              "    0% {\n",
              "      border-color: transparent;\n",
              "      border-bottom-color: var(--fill-color);\n",
              "      border-left-color: var(--fill-color);\n",
              "    }\n",
              "    20% {\n",
              "      border-color: transparent;\n",
              "      border-left-color: var(--fill-color);\n",
              "      border-top-color: var(--fill-color);\n",
              "    }\n",
              "    30% {\n",
              "      border-color: transparent;\n",
              "      border-left-color: var(--fill-color);\n",
              "      border-top-color: var(--fill-color);\n",
              "      border-right-color: var(--fill-color);\n",
              "    }\n",
              "    40% {\n",
              "      border-color: transparent;\n",
              "      border-right-color: var(--fill-color);\n",
              "      border-top-color: var(--fill-color);\n",
              "    }\n",
              "    60% {\n",
              "      border-color: transparent;\n",
              "      border-right-color: var(--fill-color);\n",
              "    }\n",
              "    80% {\n",
              "      border-color: transparent;\n",
              "      border-right-color: var(--fill-color);\n",
              "      border-bottom-color: var(--fill-color);\n",
              "    }\n",
              "    90% {\n",
              "      border-color: transparent;\n",
              "      border-bottom-color: var(--fill-color);\n",
              "    }\n",
              "  }\n",
              "</style>\n",
              "\n",
              "  <script>\n",
              "    async function quickchart(key) {\n",
              "      const quickchartButtonEl =\n",
              "        document.querySelector('#' + key + ' button');\n",
              "      quickchartButtonEl.disabled = true;  // To prevent multiple clicks.\n",
              "      quickchartButtonEl.classList.add('colab-df-spinner');\n",
              "      try {\n",
              "        const charts = await google.colab.kernel.invokeFunction(\n",
              "            'suggestCharts', [key], {});\n",
              "      } catch (error) {\n",
              "        console.error('Error during call to suggestCharts:', error);\n",
              "      }\n",
              "      quickchartButtonEl.classList.remove('colab-df-spinner');\n",
              "      quickchartButtonEl.classList.add('colab-df-quickchart-complete');\n",
              "    }\n",
              "    (() => {\n",
              "      let quickchartButtonEl =\n",
              "        document.querySelector('#df-a5305b3e-9438-4d93-ace5-5dab83b4c323 button');\n",
              "      quickchartButtonEl.style.display =\n",
              "        google.colab.kernel.accessAllowed ? 'block' : 'none';\n",
              "    })();\n",
              "  </script>\n",
              "</div>\n",
              "\n",
              "    </div>\n",
              "  </div>\n"
            ],
            "application/vnd.google.colaboratory.intrinsic+json": {
              "type": "dataframe",
              "variable_name": "manager_data",
              "summary": "{\n  \"name\": \"manager_data\",\n  \"rows\": 4410,\n  \"fields\": [\n    {\n      \"column\": \"EmployeeID\",\n      \"properties\": {\n        \"dtype\": \"number\",\n        \"std\": 1273,\n        \"min\": 1,\n        \"max\": 4410,\n        \"num_unique_values\": 4410,\n        \"samples\": [\n          1414,\n          3353,\n          3971\n        ],\n        \"semantic_type\": \"\",\n        \"description\": \"\"\n      }\n    },\n    {\n      \"column\": \"JobInvolvement\",\n      \"properties\": {\n        \"dtype\": \"number\",\n        \"std\": 0,\n        \"min\": 1,\n        \"max\": 4,\n        \"num_unique_values\": 4,\n        \"samples\": [\n          2,\n          4,\n          3\n        ],\n        \"semantic_type\": \"\",\n        \"description\": \"\"\n      }\n    },\n    {\n      \"column\": \"PerformanceRating\",\n      \"properties\": {\n        \"dtype\": \"number\",\n        \"std\": 0,\n        \"min\": 3,\n        \"max\": 4,\n        \"num_unique_values\": 2,\n        \"samples\": [\n          4,\n          3\n        ],\n        \"semantic_type\": \"\",\n        \"description\": \"\"\n      }\n    }\n  ]\n}"
            }
          },
          "metadata": {},
          "execution_count": 199
        }
      ]
    },
    {
      "cell_type": "code",
      "source": [
        "manager_data.info()"
      ],
      "metadata": {
        "colab": {
          "base_uri": "https://localhost:8080/"
        },
        "id": "cPdEs0fzUugt",
        "outputId": "d896e6ca-531a-408a-de7b-fa8753d932d1"
      },
      "execution_count": 200,
      "outputs": [
        {
          "output_type": "stream",
          "name": "stdout",
          "text": [
            "<class 'pandas.core.frame.DataFrame'>\n",
            "RangeIndex: 4410 entries, 0 to 4409\n",
            "Data columns (total 3 columns):\n",
            " #   Column             Non-Null Count  Dtype\n",
            "---  ------             --------------  -----\n",
            " 0   EmployeeID         4410 non-null   int64\n",
            " 1   JobInvolvement     4410 non-null   int64\n",
            " 2   PerformanceRating  4410 non-null   int64\n",
            "dtypes: int64(3)\n",
            "memory usage: 103.5 KB\n"
          ]
        }
      ]
    },
    {
      "cell_type": "markdown",
      "source": [
        "### In Data"
      ],
      "metadata": {
        "id": "2-1D0Q9Y3bRy"
      }
    },
    {
      "cell_type": "code",
      "source": [
        "in_data\n"
      ],
      "metadata": {
        "colab": {
          "base_uri": "https://localhost:8080/",
          "height": 808
        },
        "id": "BOW7G74KoDgr",
        "outputId": "29fe7734-794f-4d9d-fb52-791a70ee9eea"
      },
      "execution_count": 203,
      "outputs": [
        {
          "output_type": "execute_result",
          "data": {
            "text/plain": [
              "      Unnamed: 0  2015-01-01           2015-01-02           2015-01-05  \\\n",
              "0              1         NaN  2015-01-02 09:43:45  2015-01-05 10:08:48   \n",
              "1              2         NaN  2015-01-02 10:15:44  2015-01-05 10:21:05   \n",
              "2              3         NaN  2015-01-02 10:17:41  2015-01-05 09:50:50   \n",
              "3              4         NaN  2015-01-02 10:05:06  2015-01-05 09:56:32   \n",
              "4              5         NaN  2015-01-02 10:28:17  2015-01-05 09:49:58   \n",
              "...          ...         ...                  ...                  ...   \n",
              "4405        4406         NaN  2015-01-02 09:20:32  2015-01-05 10:17:53   \n",
              "4406        4407         NaN  2015-01-02 10:03:41                  NaN   \n",
              "4407        4408         NaN  2015-01-02 10:01:01  2015-01-05 09:33:00   \n",
              "4408        4409         NaN  2015-01-02 10:17:05  2015-01-05 10:02:27   \n",
              "4409        4410         NaN  2015-01-02 09:59:09  2015-01-05 10:16:14   \n",
              "\n",
              "               2015-01-06           2015-01-07           2015-01-08  \\\n",
              "0     2015-01-06 09:54:26  2015-01-07 09:34:31  2015-01-08 09:51:09   \n",
              "1                     NaN  2015-01-07 09:45:17  2015-01-08 10:09:04   \n",
              "2     2015-01-06 10:14:13  2015-01-07 09:47:27  2015-01-08 10:03:40   \n",
              "3     2015-01-06 10:11:07  2015-01-07 09:37:30  2015-01-08 10:02:08   \n",
              "4     2015-01-06 09:45:28  2015-01-07 09:49:37  2015-01-08 10:19:44   \n",
              "...                   ...                  ...                  ...   \n",
              "4405  2015-01-06 10:26:51  2015-01-07 10:06:58  2015-01-08 09:45:06   \n",
              "4406  2015-01-06 09:44:00  2015-01-07 09:42:10  2015-01-08 10:00:57   \n",
              "4407  2015-01-06 09:49:17  2015-01-07 10:28:12  2015-01-08 09:47:38   \n",
              "4408  2015-01-06 10:12:50  2015-01-07 10:12:31  2015-01-08 09:42:57   \n",
              "4409  2015-01-06 09:52:30  2015-01-07 09:43:15  2015-01-08 10:06:55   \n",
              "\n",
              "               2015-01-09           2015-01-12           2015-01-13  ...  \\\n",
              "0     2015-01-09 10:09:25  2015-01-12 09:42:53  2015-01-13 10:13:06  ...   \n",
              "1     2015-01-09 09:43:26  2015-01-12 10:00:07  2015-01-13 10:43:29  ...   \n",
              "2     2015-01-09 10:05:49  2015-01-12 10:03:47  2015-01-13 10:21:26  ...   \n",
              "3     2015-01-09 10:08:12  2015-01-12 10:13:42  2015-01-13 09:53:22  ...   \n",
              "4     2015-01-09 10:00:50  2015-01-12 10:29:27  2015-01-13 09:59:32  ...   \n",
              "...                   ...                  ...                  ...  ...   \n",
              "4405  2015-01-09 09:49:24  2015-01-12 09:37:10  2015-01-13 09:25:02  ...   \n",
              "4406  2015-01-09 09:44:04  2015-01-12 10:07:32  2015-01-13 10:05:11  ...   \n",
              "4407  2015-01-09 10:01:03  2015-01-12 09:49:12  2015-01-13 09:47:10  ...   \n",
              "4408                  NaN  2015-01-12 10:00:38  2015-01-13 09:48:03  ...   \n",
              "4409  2015-01-09 10:27:39  2015-01-12 09:47:35  2015-01-13 09:30:00  ...   \n",
              "\n",
              "               2015-12-18           2015-12-21           2015-12-22  \\\n",
              "0                     NaN  2015-12-21 09:55:29  2015-12-22 10:04:06   \n",
              "1     2015-12-18 10:37:17  2015-12-21 09:49:02  2015-12-22 10:33:51   \n",
              "2     2015-12-18 10:15:14  2015-12-21 10:10:28  2015-12-22 09:44:44   \n",
              "3     2015-12-18 10:17:38  2015-12-21 09:58:21  2015-12-22 10:04:25   \n",
              "4     2015-12-18 09:58:35  2015-12-21 10:03:41  2015-12-22 10:10:30   \n",
              "...                   ...                  ...                  ...   \n",
              "4405  2015-12-18 10:01:06  2015-12-21 10:25:25  2015-12-22 10:16:11   \n",
              "4406  2015-12-18 09:27:32  2015-12-21 09:41:24  2015-12-22 09:50:30   \n",
              "4407  2015-12-18 10:00:57  2015-12-21 09:51:07  2015-12-22 10:02:10   \n",
              "4408  2015-12-18 09:54:33  2015-12-21 10:01:08  2015-12-22 10:10:19   \n",
              "4409  2015-12-18 10:20:40  2015-12-21 10:26:02                  NaN   \n",
              "\n",
              "               2015-12-23           2015-12-24 2015-12-25  \\\n",
              "0     2015-12-23 10:14:27  2015-12-24 10:11:35        NaN   \n",
              "1     2015-12-23 10:12:10                  NaN        NaN   \n",
              "2     2015-12-23 10:15:54  2015-12-24 10:07:26        NaN   \n",
              "3     2015-12-23 10:11:46  2015-12-24 09:43:15        NaN   \n",
              "4     2015-12-23 10:13:36  2015-12-24 09:44:24        NaN   \n",
              "...                   ...                  ...        ...   \n",
              "4405  2015-12-23 10:04:40  2015-12-24 09:45:40        NaN   \n",
              "4406  2015-12-23 10:32:21  2015-12-24 09:47:41        NaN   \n",
              "4407  2015-12-23 09:58:29  2015-12-24 09:56:05        NaN   \n",
              "4408  2015-12-23 09:42:30  2015-12-24 09:56:05        NaN   \n",
              "4409  2015-12-23 09:53:19  2015-12-24 09:42:13        NaN   \n",
              "\n",
              "               2015-12-28           2015-12-29           2015-12-30  \\\n",
              "0     2015-12-28 10:13:41  2015-12-29 10:03:36  2015-12-30 09:54:12   \n",
              "1     2015-12-28 09:31:45  2015-12-29 09:55:49  2015-12-30 10:32:25   \n",
              "2     2015-12-28 09:42:05  2015-12-29 09:43:36  2015-12-30 09:34:05   \n",
              "3     2015-12-28 09:52:44  2015-12-29 09:33:16  2015-12-30 10:18:12   \n",
              "4     2015-12-28 10:05:15  2015-12-29 10:30:53  2015-12-30 09:18:21   \n",
              "...                   ...                  ...                  ...   \n",
              "4405  2015-12-28 10:15:39  2015-12-29 10:10:09  2015-12-30 09:28:19   \n",
              "4406  2015-12-28 09:54:23  2015-12-29 10:13:32  2015-12-30 10:21:09   \n",
              "4407  2015-12-28 09:59:24                  NaN  2015-12-30 10:02:36   \n",
              "4408  2015-12-28 09:55:25  2015-12-29 09:54:42  2015-12-30 10:15:44   \n",
              "4409  2015-12-28 09:41:11  2015-12-29 10:05:15  2015-12-30 10:32:49   \n",
              "\n",
              "               2015-12-31  \n",
              "0     2015-12-31 10:12:44  \n",
              "1     2015-12-31 09:27:20  \n",
              "2     2015-12-31 10:28:39  \n",
              "3     2015-12-31 10:01:15  \n",
              "4     2015-12-31 09:41:09  \n",
              "...                   ...  \n",
              "4405  2015-12-31 10:00:12  \n",
              "4406  2015-12-31 10:09:48  \n",
              "4407  2015-12-31 10:03:30  \n",
              "4408  2015-12-31 09:56:47  \n",
              "4409  2015-12-31 10:09:28  \n",
              "\n",
              "[4410 rows x 262 columns]"
            ],
            "text/html": [
              "\n",
              "  <div id=\"df-cf0452bc-284b-4d26-be8a-4f775fa3c6bf\" class=\"colab-df-container\">\n",
              "    <div>\n",
              "<style scoped>\n",
              "    .dataframe tbody tr th:only-of-type {\n",
              "        vertical-align: middle;\n",
              "    }\n",
              "\n",
              "    .dataframe tbody tr th {\n",
              "        vertical-align: top;\n",
              "    }\n",
              "\n",
              "    .dataframe thead th {\n",
              "        text-align: right;\n",
              "    }\n",
              "</style>\n",
              "<table border=\"1\" class=\"dataframe\">\n",
              "  <thead>\n",
              "    <tr style=\"text-align: right;\">\n",
              "      <th></th>\n",
              "      <th>Unnamed: 0</th>\n",
              "      <th>2015-01-01</th>\n",
              "      <th>2015-01-02</th>\n",
              "      <th>2015-01-05</th>\n",
              "      <th>2015-01-06</th>\n",
              "      <th>2015-01-07</th>\n",
              "      <th>2015-01-08</th>\n",
              "      <th>2015-01-09</th>\n",
              "      <th>2015-01-12</th>\n",
              "      <th>2015-01-13</th>\n",
              "      <th>...</th>\n",
              "      <th>2015-12-18</th>\n",
              "      <th>2015-12-21</th>\n",
              "      <th>2015-12-22</th>\n",
              "      <th>2015-12-23</th>\n",
              "      <th>2015-12-24</th>\n",
              "      <th>2015-12-25</th>\n",
              "      <th>2015-12-28</th>\n",
              "      <th>2015-12-29</th>\n",
              "      <th>2015-12-30</th>\n",
              "      <th>2015-12-31</th>\n",
              "    </tr>\n",
              "  </thead>\n",
              "  <tbody>\n",
              "    <tr>\n",
              "      <th>0</th>\n",
              "      <td>1</td>\n",
              "      <td>NaN</td>\n",
              "      <td>2015-01-02 09:43:45</td>\n",
              "      <td>2015-01-05 10:08:48</td>\n",
              "      <td>2015-01-06 09:54:26</td>\n",
              "      <td>2015-01-07 09:34:31</td>\n",
              "      <td>2015-01-08 09:51:09</td>\n",
              "      <td>2015-01-09 10:09:25</td>\n",
              "      <td>2015-01-12 09:42:53</td>\n",
              "      <td>2015-01-13 10:13:06</td>\n",
              "      <td>...</td>\n",
              "      <td>NaN</td>\n",
              "      <td>2015-12-21 09:55:29</td>\n",
              "      <td>2015-12-22 10:04:06</td>\n",
              "      <td>2015-12-23 10:14:27</td>\n",
              "      <td>2015-12-24 10:11:35</td>\n",
              "      <td>NaN</td>\n",
              "      <td>2015-12-28 10:13:41</td>\n",
              "      <td>2015-12-29 10:03:36</td>\n",
              "      <td>2015-12-30 09:54:12</td>\n",
              "      <td>2015-12-31 10:12:44</td>\n",
              "    </tr>\n",
              "    <tr>\n",
              "      <th>1</th>\n",
              "      <td>2</td>\n",
              "      <td>NaN</td>\n",
              "      <td>2015-01-02 10:15:44</td>\n",
              "      <td>2015-01-05 10:21:05</td>\n",
              "      <td>NaN</td>\n",
              "      <td>2015-01-07 09:45:17</td>\n",
              "      <td>2015-01-08 10:09:04</td>\n",
              "      <td>2015-01-09 09:43:26</td>\n",
              "      <td>2015-01-12 10:00:07</td>\n",
              "      <td>2015-01-13 10:43:29</td>\n",
              "      <td>...</td>\n",
              "      <td>2015-12-18 10:37:17</td>\n",
              "      <td>2015-12-21 09:49:02</td>\n",
              "      <td>2015-12-22 10:33:51</td>\n",
              "      <td>2015-12-23 10:12:10</td>\n",
              "      <td>NaN</td>\n",
              "      <td>NaN</td>\n",
              "      <td>2015-12-28 09:31:45</td>\n",
              "      <td>2015-12-29 09:55:49</td>\n",
              "      <td>2015-12-30 10:32:25</td>\n",
              "      <td>2015-12-31 09:27:20</td>\n",
              "    </tr>\n",
              "    <tr>\n",
              "      <th>2</th>\n",
              "      <td>3</td>\n",
              "      <td>NaN</td>\n",
              "      <td>2015-01-02 10:17:41</td>\n",
              "      <td>2015-01-05 09:50:50</td>\n",
              "      <td>2015-01-06 10:14:13</td>\n",
              "      <td>2015-01-07 09:47:27</td>\n",
              "      <td>2015-01-08 10:03:40</td>\n",
              "      <td>2015-01-09 10:05:49</td>\n",
              "      <td>2015-01-12 10:03:47</td>\n",
              "      <td>2015-01-13 10:21:26</td>\n",
              "      <td>...</td>\n",
              "      <td>2015-12-18 10:15:14</td>\n",
              "      <td>2015-12-21 10:10:28</td>\n",
              "      <td>2015-12-22 09:44:44</td>\n",
              "      <td>2015-12-23 10:15:54</td>\n",
              "      <td>2015-12-24 10:07:26</td>\n",
              "      <td>NaN</td>\n",
              "      <td>2015-12-28 09:42:05</td>\n",
              "      <td>2015-12-29 09:43:36</td>\n",
              "      <td>2015-12-30 09:34:05</td>\n",
              "      <td>2015-12-31 10:28:39</td>\n",
              "    </tr>\n",
              "    <tr>\n",
              "      <th>3</th>\n",
              "      <td>4</td>\n",
              "      <td>NaN</td>\n",
              "      <td>2015-01-02 10:05:06</td>\n",
              "      <td>2015-01-05 09:56:32</td>\n",
              "      <td>2015-01-06 10:11:07</td>\n",
              "      <td>2015-01-07 09:37:30</td>\n",
              "      <td>2015-01-08 10:02:08</td>\n",
              "      <td>2015-01-09 10:08:12</td>\n",
              "      <td>2015-01-12 10:13:42</td>\n",
              "      <td>2015-01-13 09:53:22</td>\n",
              "      <td>...</td>\n",
              "      <td>2015-12-18 10:17:38</td>\n",
              "      <td>2015-12-21 09:58:21</td>\n",
              "      <td>2015-12-22 10:04:25</td>\n",
              "      <td>2015-12-23 10:11:46</td>\n",
              "      <td>2015-12-24 09:43:15</td>\n",
              "      <td>NaN</td>\n",
              "      <td>2015-12-28 09:52:44</td>\n",
              "      <td>2015-12-29 09:33:16</td>\n",
              "      <td>2015-12-30 10:18:12</td>\n",
              "      <td>2015-12-31 10:01:15</td>\n",
              "    </tr>\n",
              "    <tr>\n",
              "      <th>4</th>\n",
              "      <td>5</td>\n",
              "      <td>NaN</td>\n",
              "      <td>2015-01-02 10:28:17</td>\n",
              "      <td>2015-01-05 09:49:58</td>\n",
              "      <td>2015-01-06 09:45:28</td>\n",
              "      <td>2015-01-07 09:49:37</td>\n",
              "      <td>2015-01-08 10:19:44</td>\n",
              "      <td>2015-01-09 10:00:50</td>\n",
              "      <td>2015-01-12 10:29:27</td>\n",
              "      <td>2015-01-13 09:59:32</td>\n",
              "      <td>...</td>\n",
              "      <td>2015-12-18 09:58:35</td>\n",
              "      <td>2015-12-21 10:03:41</td>\n",
              "      <td>2015-12-22 10:10:30</td>\n",
              "      <td>2015-12-23 10:13:36</td>\n",
              "      <td>2015-12-24 09:44:24</td>\n",
              "      <td>NaN</td>\n",
              "      <td>2015-12-28 10:05:15</td>\n",
              "      <td>2015-12-29 10:30:53</td>\n",
              "      <td>2015-12-30 09:18:21</td>\n",
              "      <td>2015-12-31 09:41:09</td>\n",
              "    </tr>\n",
              "    <tr>\n",
              "      <th>...</th>\n",
              "      <td>...</td>\n",
              "      <td>...</td>\n",
              "      <td>...</td>\n",
              "      <td>...</td>\n",
              "      <td>...</td>\n",
              "      <td>...</td>\n",
              "      <td>...</td>\n",
              "      <td>...</td>\n",
              "      <td>...</td>\n",
              "      <td>...</td>\n",
              "      <td>...</td>\n",
              "      <td>...</td>\n",
              "      <td>...</td>\n",
              "      <td>...</td>\n",
              "      <td>...</td>\n",
              "      <td>...</td>\n",
              "      <td>...</td>\n",
              "      <td>...</td>\n",
              "      <td>...</td>\n",
              "      <td>...</td>\n",
              "      <td>...</td>\n",
              "    </tr>\n",
              "    <tr>\n",
              "      <th>4405</th>\n",
              "      <td>4406</td>\n",
              "      <td>NaN</td>\n",
              "      <td>2015-01-02 09:20:32</td>\n",
              "      <td>2015-01-05 10:17:53</td>\n",
              "      <td>2015-01-06 10:26:51</td>\n",
              "      <td>2015-01-07 10:06:58</td>\n",
              "      <td>2015-01-08 09:45:06</td>\n",
              "      <td>2015-01-09 09:49:24</td>\n",
              "      <td>2015-01-12 09:37:10</td>\n",
              "      <td>2015-01-13 09:25:02</td>\n",
              "      <td>...</td>\n",
              "      <td>2015-12-18 10:01:06</td>\n",
              "      <td>2015-12-21 10:25:25</td>\n",
              "      <td>2015-12-22 10:16:11</td>\n",
              "      <td>2015-12-23 10:04:40</td>\n",
              "      <td>2015-12-24 09:45:40</td>\n",
              "      <td>NaN</td>\n",
              "      <td>2015-12-28 10:15:39</td>\n",
              "      <td>2015-12-29 10:10:09</td>\n",
              "      <td>2015-12-30 09:28:19</td>\n",
              "      <td>2015-12-31 10:00:12</td>\n",
              "    </tr>\n",
              "    <tr>\n",
              "      <th>4406</th>\n",
              "      <td>4407</td>\n",
              "      <td>NaN</td>\n",
              "      <td>2015-01-02 10:03:41</td>\n",
              "      <td>NaN</td>\n",
              "      <td>2015-01-06 09:44:00</td>\n",
              "      <td>2015-01-07 09:42:10</td>\n",
              "      <td>2015-01-08 10:00:57</td>\n",
              "      <td>2015-01-09 09:44:04</td>\n",
              "      <td>2015-01-12 10:07:32</td>\n",
              "      <td>2015-01-13 10:05:11</td>\n",
              "      <td>...</td>\n",
              "      <td>2015-12-18 09:27:32</td>\n",
              "      <td>2015-12-21 09:41:24</td>\n",
              "      <td>2015-12-22 09:50:30</td>\n",
              "      <td>2015-12-23 10:32:21</td>\n",
              "      <td>2015-12-24 09:47:41</td>\n",
              "      <td>NaN</td>\n",
              "      <td>2015-12-28 09:54:23</td>\n",
              "      <td>2015-12-29 10:13:32</td>\n",
              "      <td>2015-12-30 10:21:09</td>\n",
              "      <td>2015-12-31 10:09:48</td>\n",
              "    </tr>\n",
              "    <tr>\n",
              "      <th>4407</th>\n",
              "      <td>4408</td>\n",
              "      <td>NaN</td>\n",
              "      <td>2015-01-02 10:01:01</td>\n",
              "      <td>2015-01-05 09:33:00</td>\n",
              "      <td>2015-01-06 09:49:17</td>\n",
              "      <td>2015-01-07 10:28:12</td>\n",
              "      <td>2015-01-08 09:47:38</td>\n",
              "      <td>2015-01-09 10:01:03</td>\n",
              "      <td>2015-01-12 09:49:12</td>\n",
              "      <td>2015-01-13 09:47:10</td>\n",
              "      <td>...</td>\n",
              "      <td>2015-12-18 10:00:57</td>\n",
              "      <td>2015-12-21 09:51:07</td>\n",
              "      <td>2015-12-22 10:02:10</td>\n",
              "      <td>2015-12-23 09:58:29</td>\n",
              "      <td>2015-12-24 09:56:05</td>\n",
              "      <td>NaN</td>\n",
              "      <td>2015-12-28 09:59:24</td>\n",
              "      <td>NaN</td>\n",
              "      <td>2015-12-30 10:02:36</td>\n",
              "      <td>2015-12-31 10:03:30</td>\n",
              "    </tr>\n",
              "    <tr>\n",
              "      <th>4408</th>\n",
              "      <td>4409</td>\n",
              "      <td>NaN</td>\n",
              "      <td>2015-01-02 10:17:05</td>\n",
              "      <td>2015-01-05 10:02:27</td>\n",
              "      <td>2015-01-06 10:12:50</td>\n",
              "      <td>2015-01-07 10:12:31</td>\n",
              "      <td>2015-01-08 09:42:57</td>\n",
              "      <td>NaN</td>\n",
              "      <td>2015-01-12 10:00:38</td>\n",
              "      <td>2015-01-13 09:48:03</td>\n",
              "      <td>...</td>\n",
              "      <td>2015-12-18 09:54:33</td>\n",
              "      <td>2015-12-21 10:01:08</td>\n",
              "      <td>2015-12-22 10:10:19</td>\n",
              "      <td>2015-12-23 09:42:30</td>\n",
              "      <td>2015-12-24 09:56:05</td>\n",
              "      <td>NaN</td>\n",
              "      <td>2015-12-28 09:55:25</td>\n",
              "      <td>2015-12-29 09:54:42</td>\n",
              "      <td>2015-12-30 10:15:44</td>\n",
              "      <td>2015-12-31 09:56:47</td>\n",
              "    </tr>\n",
              "    <tr>\n",
              "      <th>4409</th>\n",
              "      <td>4410</td>\n",
              "      <td>NaN</td>\n",
              "      <td>2015-01-02 09:59:09</td>\n",
              "      <td>2015-01-05 10:16:14</td>\n",
              "      <td>2015-01-06 09:52:30</td>\n",
              "      <td>2015-01-07 09:43:15</td>\n",
              "      <td>2015-01-08 10:06:55</td>\n",
              "      <td>2015-01-09 10:27:39</td>\n",
              "      <td>2015-01-12 09:47:35</td>\n",
              "      <td>2015-01-13 09:30:00</td>\n",
              "      <td>...</td>\n",
              "      <td>2015-12-18 10:20:40</td>\n",
              "      <td>2015-12-21 10:26:02</td>\n",
              "      <td>NaN</td>\n",
              "      <td>2015-12-23 09:53:19</td>\n",
              "      <td>2015-12-24 09:42:13</td>\n",
              "      <td>NaN</td>\n",
              "      <td>2015-12-28 09:41:11</td>\n",
              "      <td>2015-12-29 10:05:15</td>\n",
              "      <td>2015-12-30 10:32:49</td>\n",
              "      <td>2015-12-31 10:09:28</td>\n",
              "    </tr>\n",
              "  </tbody>\n",
              "</table>\n",
              "<p>4410 rows × 262 columns</p>\n",
              "</div>\n",
              "    <div class=\"colab-df-buttons\">\n",
              "\n",
              "  <div class=\"colab-df-container\">\n",
              "    <button class=\"colab-df-convert\" onclick=\"convertToInteractive('df-cf0452bc-284b-4d26-be8a-4f775fa3c6bf')\"\n",
              "            title=\"Convert this dataframe to an interactive table.\"\n",
              "            style=\"display:none;\">\n",
              "\n",
              "  <svg xmlns=\"http://www.w3.org/2000/svg\" height=\"24px\" viewBox=\"0 -960 960 960\">\n",
              "    <path d=\"M120-120v-720h720v720H120Zm60-500h600v-160H180v160Zm220 220h160v-160H400v160Zm0 220h160v-160H400v160ZM180-400h160v-160H180v160Zm440 0h160v-160H620v160ZM180-180h160v-160H180v160Zm440 0h160v-160H620v160Z\"/>\n",
              "  </svg>\n",
              "    </button>\n",
              "\n",
              "  <style>\n",
              "    .colab-df-container {\n",
              "      display:flex;\n",
              "      gap: 12px;\n",
              "    }\n",
              "\n",
              "    .colab-df-convert {\n",
              "      background-color: #E8F0FE;\n",
              "      border: none;\n",
              "      border-radius: 50%;\n",
              "      cursor: pointer;\n",
              "      display: none;\n",
              "      fill: #1967D2;\n",
              "      height: 32px;\n",
              "      padding: 0 0 0 0;\n",
              "      width: 32px;\n",
              "    }\n",
              "\n",
              "    .colab-df-convert:hover {\n",
              "      background-color: #E2EBFA;\n",
              "      box-shadow: 0px 1px 2px rgba(60, 64, 67, 0.3), 0px 1px 3px 1px rgba(60, 64, 67, 0.15);\n",
              "      fill: #174EA6;\n",
              "    }\n",
              "\n",
              "    .colab-df-buttons div {\n",
              "      margin-bottom: 4px;\n",
              "    }\n",
              "\n",
              "    [theme=dark] .colab-df-convert {\n",
              "      background-color: #3B4455;\n",
              "      fill: #D2E3FC;\n",
              "    }\n",
              "\n",
              "    [theme=dark] .colab-df-convert:hover {\n",
              "      background-color: #434B5C;\n",
              "      box-shadow: 0px 1px 3px 1px rgba(0, 0, 0, 0.15);\n",
              "      filter: drop-shadow(0px 1px 2px rgba(0, 0, 0, 0.3));\n",
              "      fill: #FFFFFF;\n",
              "    }\n",
              "  </style>\n",
              "\n",
              "    <script>\n",
              "      const buttonEl =\n",
              "        document.querySelector('#df-cf0452bc-284b-4d26-be8a-4f775fa3c6bf button.colab-df-convert');\n",
              "      buttonEl.style.display =\n",
              "        google.colab.kernel.accessAllowed ? 'block' : 'none';\n",
              "\n",
              "      async function convertToInteractive(key) {\n",
              "        const element = document.querySelector('#df-cf0452bc-284b-4d26-be8a-4f775fa3c6bf');\n",
              "        const dataTable =\n",
              "          await google.colab.kernel.invokeFunction('convertToInteractive',\n",
              "                                                    [key], {});\n",
              "        if (!dataTable) return;\n",
              "\n",
              "        const docLinkHtml = 'Like what you see? Visit the ' +\n",
              "          '<a target=\"_blank\" href=https://colab.research.google.com/notebooks/data_table.ipynb>data table notebook</a>'\n",
              "          + ' to learn more about interactive tables.';\n",
              "        element.innerHTML = '';\n",
              "        dataTable['output_type'] = 'display_data';\n",
              "        await google.colab.output.renderOutput(dataTable, element);\n",
              "        const docLink = document.createElement('div');\n",
              "        docLink.innerHTML = docLinkHtml;\n",
              "        element.appendChild(docLink);\n",
              "      }\n",
              "    </script>\n",
              "  </div>\n",
              "\n",
              "\n",
              "<div id=\"df-57b17274-0579-4d01-8faf-894acbd88787\">\n",
              "  <button class=\"colab-df-quickchart\" onclick=\"quickchart('df-57b17274-0579-4d01-8faf-894acbd88787')\"\n",
              "            title=\"Suggest charts\"\n",
              "            style=\"display:none;\">\n",
              "\n",
              "<svg xmlns=\"http://www.w3.org/2000/svg\" height=\"24px\"viewBox=\"0 0 24 24\"\n",
              "     width=\"24px\">\n",
              "    <g>\n",
              "        <path d=\"M19 3H5c-1.1 0-2 .9-2 2v14c0 1.1.9 2 2 2h14c1.1 0 2-.9 2-2V5c0-1.1-.9-2-2-2zM9 17H7v-7h2v7zm4 0h-2V7h2v10zm4 0h-2v-4h2v4z\"/>\n",
              "    </g>\n",
              "</svg>\n",
              "  </button>\n",
              "\n",
              "<style>\n",
              "  .colab-df-quickchart {\n",
              "      --bg-color: #E8F0FE;\n",
              "      --fill-color: #1967D2;\n",
              "      --hover-bg-color: #E2EBFA;\n",
              "      --hover-fill-color: #174EA6;\n",
              "      --disabled-fill-color: #AAA;\n",
              "      --disabled-bg-color: #DDD;\n",
              "  }\n",
              "\n",
              "  [theme=dark] .colab-df-quickchart {\n",
              "      --bg-color: #3B4455;\n",
              "      --fill-color: #D2E3FC;\n",
              "      --hover-bg-color: #434B5C;\n",
              "      --hover-fill-color: #FFFFFF;\n",
              "      --disabled-bg-color: #3B4455;\n",
              "      --disabled-fill-color: #666;\n",
              "  }\n",
              "\n",
              "  .colab-df-quickchart {\n",
              "    background-color: var(--bg-color);\n",
              "    border: none;\n",
              "    border-radius: 50%;\n",
              "    cursor: pointer;\n",
              "    display: none;\n",
              "    fill: var(--fill-color);\n",
              "    height: 32px;\n",
              "    padding: 0;\n",
              "    width: 32px;\n",
              "  }\n",
              "\n",
              "  .colab-df-quickchart:hover {\n",
              "    background-color: var(--hover-bg-color);\n",
              "    box-shadow: 0 1px 2px rgba(60, 64, 67, 0.3), 0 1px 3px 1px rgba(60, 64, 67, 0.15);\n",
              "    fill: var(--button-hover-fill-color);\n",
              "  }\n",
              "\n",
              "  .colab-df-quickchart-complete:disabled,\n",
              "  .colab-df-quickchart-complete:disabled:hover {\n",
              "    background-color: var(--disabled-bg-color);\n",
              "    fill: var(--disabled-fill-color);\n",
              "    box-shadow: none;\n",
              "  }\n",
              "\n",
              "  .colab-df-spinner {\n",
              "    border: 2px solid var(--fill-color);\n",
              "    border-color: transparent;\n",
              "    border-bottom-color: var(--fill-color);\n",
              "    animation:\n",
              "      spin 1s steps(1) infinite;\n",
              "  }\n",
              "\n",
              "  @keyframes spin {\n",
              "    0% {\n",
              "      border-color: transparent;\n",
              "      border-bottom-color: var(--fill-color);\n",
              "      border-left-color: var(--fill-color);\n",
              "    }\n",
              "    20% {\n",
              "      border-color: transparent;\n",
              "      border-left-color: var(--fill-color);\n",
              "      border-top-color: var(--fill-color);\n",
              "    }\n",
              "    30% {\n",
              "      border-color: transparent;\n",
              "      border-left-color: var(--fill-color);\n",
              "      border-top-color: var(--fill-color);\n",
              "      border-right-color: var(--fill-color);\n",
              "    }\n",
              "    40% {\n",
              "      border-color: transparent;\n",
              "      border-right-color: var(--fill-color);\n",
              "      border-top-color: var(--fill-color);\n",
              "    }\n",
              "    60% {\n",
              "      border-color: transparent;\n",
              "      border-right-color: var(--fill-color);\n",
              "    }\n",
              "    80% {\n",
              "      border-color: transparent;\n",
              "      border-right-color: var(--fill-color);\n",
              "      border-bottom-color: var(--fill-color);\n",
              "    }\n",
              "    90% {\n",
              "      border-color: transparent;\n",
              "      border-bottom-color: var(--fill-color);\n",
              "    }\n",
              "  }\n",
              "</style>\n",
              "\n",
              "  <script>\n",
              "    async function quickchart(key) {\n",
              "      const quickchartButtonEl =\n",
              "        document.querySelector('#' + key + ' button');\n",
              "      quickchartButtonEl.disabled = true;  // To prevent multiple clicks.\n",
              "      quickchartButtonEl.classList.add('colab-df-spinner');\n",
              "      try {\n",
              "        const charts = await google.colab.kernel.invokeFunction(\n",
              "            'suggestCharts', [key], {});\n",
              "      } catch (error) {\n",
              "        console.error('Error during call to suggestCharts:', error);\n",
              "      }\n",
              "      quickchartButtonEl.classList.remove('colab-df-spinner');\n",
              "      quickchartButtonEl.classList.add('colab-df-quickchart-complete');\n",
              "    }\n",
              "    (() => {\n",
              "      let quickchartButtonEl =\n",
              "        document.querySelector('#df-57b17274-0579-4d01-8faf-894acbd88787 button');\n",
              "      quickchartButtonEl.style.display =\n",
              "        google.colab.kernel.accessAllowed ? 'block' : 'none';\n",
              "    })();\n",
              "  </script>\n",
              "</div>\n",
              "\n",
              "  <div id=\"id_63be4e34-7334-469a-bee9-24488750f5dd\">\n",
              "    <style>\n",
              "      .colab-df-generate {\n",
              "        background-color: #E8F0FE;\n",
              "        border: none;\n",
              "        border-radius: 50%;\n",
              "        cursor: pointer;\n",
              "        display: none;\n",
              "        fill: #1967D2;\n",
              "        height: 32px;\n",
              "        padding: 0 0 0 0;\n",
              "        width: 32px;\n",
              "      }\n",
              "\n",
              "      .colab-df-generate:hover {\n",
              "        background-color: #E2EBFA;\n",
              "        box-shadow: 0px 1px 2px rgba(60, 64, 67, 0.3), 0px 1px 3px 1px rgba(60, 64, 67, 0.15);\n",
              "        fill: #174EA6;\n",
              "      }\n",
              "\n",
              "      [theme=dark] .colab-df-generate {\n",
              "        background-color: #3B4455;\n",
              "        fill: #D2E3FC;\n",
              "      }\n",
              "\n",
              "      [theme=dark] .colab-df-generate:hover {\n",
              "        background-color: #434B5C;\n",
              "        box-shadow: 0px 1px 3px 1px rgba(0, 0, 0, 0.15);\n",
              "        filter: drop-shadow(0px 1px 2px rgba(0, 0, 0, 0.3));\n",
              "        fill: #FFFFFF;\n",
              "      }\n",
              "    </style>\n",
              "    <button class=\"colab-df-generate\" onclick=\"generateWithVariable('in_data')\"\n",
              "            title=\"Generate code using this dataframe.\"\n",
              "            style=\"display:none;\">\n",
              "\n",
              "  <svg xmlns=\"http://www.w3.org/2000/svg\" height=\"24px\"viewBox=\"0 0 24 24\"\n",
              "       width=\"24px\">\n",
              "    <path d=\"M7,19H8.4L18.45,9,17,7.55,7,17.6ZM5,21V16.75L18.45,3.32a2,2,0,0,1,2.83,0l1.4,1.43a1.91,1.91,0,0,1,.58,1.4,1.91,1.91,0,0,1-.58,1.4L9.25,21ZM18.45,9,17,7.55Zm-12,3A5.31,5.31,0,0,0,4.9,8.1,5.31,5.31,0,0,0,1,6.5,5.31,5.31,0,0,0,4.9,4.9,5.31,5.31,0,0,0,6.5,1,5.31,5.31,0,0,0,8.1,4.9,5.31,5.31,0,0,0,12,6.5,5.46,5.46,0,0,0,6.5,12Z\"/>\n",
              "  </svg>\n",
              "    </button>\n",
              "    <script>\n",
              "      (() => {\n",
              "      const buttonEl =\n",
              "        document.querySelector('#id_63be4e34-7334-469a-bee9-24488750f5dd button.colab-df-generate');\n",
              "      buttonEl.style.display =\n",
              "        google.colab.kernel.accessAllowed ? 'block' : 'none';\n",
              "\n",
              "      buttonEl.onclick = () => {\n",
              "        google.colab.notebook.generateWithVariable('in_data');\n",
              "      }\n",
              "      })();\n",
              "    </script>\n",
              "  </div>\n",
              "\n",
              "    </div>\n",
              "  </div>\n"
            ],
            "application/vnd.google.colaboratory.intrinsic+json": {
              "type": "dataframe",
              "variable_name": "in_data"
            }
          },
          "metadata": {},
          "execution_count": 203
        }
      ]
    },
    {
      "cell_type": "code",
      "source": [
        "# Rename 'Unnamed: 0' to 'EmployeeID'\n",
        "in_data.rename(columns={'Unnamed: 0': 'EmployeeID'}, inplace=True)\n",
        "\n",
        "# Display the updated dataframe info to confirm the change\n",
        "in_data.info()\n"
      ],
      "metadata": {
        "colab": {
          "base_uri": "https://localhost:8080/"
        },
        "id": "SxWvlYLprmtp",
        "outputId": "c4f1cbf4-cd5d-40c2-a488-52aa2ca6ebfd"
      },
      "execution_count": 204,
      "outputs": [
        {
          "output_type": "stream",
          "name": "stdout",
          "text": [
            "<class 'pandas.core.frame.DataFrame'>\n",
            "RangeIndex: 4410 entries, 0 to 4409\n",
            "Columns: 262 entries, EmployeeID to 2015-12-31\n",
            "dtypes: float64(12), int64(1), object(249)\n",
            "memory usage: 8.8+ MB\n"
          ]
        }
      ]
    },
    {
      "cell_type": "code",
      "source": [
        "# Get all integer columns\n",
        "int_columns = in_data.select_dtypes(include='int').columns\n",
        "print(\"Integer Columns:\", int_columns)\n",
        "\n",
        "# Get all float columns\n",
        "float_columns = in_data.select_dtypes(include='float').columns\n",
        "print(\"Float Columns:\", float_columns)\n"
      ],
      "metadata": {
        "colab": {
          "base_uri": "https://localhost:8080/"
        },
        "id": "WDH-Qo-gr680",
        "outputId": "1b7cdfcc-dbf6-4590-c8db-ff326f7961b3"
      },
      "execution_count": 205,
      "outputs": [
        {
          "output_type": "stream",
          "name": "stdout",
          "text": [
            "Integer Columns: Index(['EmployeeID'], dtype='object')\n",
            "Float Columns: Index(['2015-01-01', '2015-01-14', '2015-01-26', '2015-03-05', '2015-05-01',\n",
            "       '2015-07-17', '2015-09-17', '2015-10-02', '2015-11-09', '2015-11-10',\n",
            "       '2015-11-11', '2015-12-25'],\n",
            "      dtype='object')\n"
          ]
        }
      ]
    },
    {
      "cell_type": "code",
      "source": [
        "# Convert EmployeeID column to integer type\n",
        "in_data['EmployeeID'] = in_data['EmployeeID'].astype(int)"
      ],
      "metadata": {
        "id": "yfd1hyAfsU9M"
      },
      "execution_count": 206,
      "outputs": []
    },
    {
      "cell_type": "code",
      "source": [
        "# Check for columns with NaN values\n",
        "nan_columns = in_data.isna().sum()\n",
        "\n",
        "# Filter columns that have NaN values\n",
        "nan_columns = nan_columns[nan_columns > 0]\n",
        "print(nan_columns)\n"
      ],
      "metadata": {
        "colab": {
          "base_uri": "https://localhost:8080/"
        },
        "id": "gEvaqcwLsY1h",
        "outputId": "7a9a4eaf-d682-47c4-bbca-9c2647a07482"
      },
      "execution_count": 216,
      "outputs": [
        {
          "output_type": "stream",
          "name": "stdout",
          "text": [
            "Series([], dtype: int64)\n"
          ]
        }
      ]
    },
    {
      "cell_type": "code",
      "source": [
        "# Convert all columns except 'EmployeeID' to datetime\n",
        "for col in in_data.columns:\n",
        "    if col != 'EmployeeID':\n",
        "        in_data[col] = pd.to_datetime(in_data[col], errors='coerce')\n",
        "\n",
        "# Verify the conversion\n",
        "print(in_data.dtypes)\n"
      ],
      "metadata": {
        "colab": {
          "base_uri": "https://localhost:8080/"
        },
        "id": "jUo2_WTKtJef",
        "outputId": "f7c7953d-bb3a-446a-e1bc-921b301d22fb"
      },
      "execution_count": 211,
      "outputs": [
        {
          "output_type": "stream",
          "name": "stdout",
          "text": [
            "EmployeeID             int64\n",
            "2015-01-01    datetime64[ns]\n",
            "2015-01-02    datetime64[ns]\n",
            "2015-01-05    datetime64[ns]\n",
            "2015-01-06    datetime64[ns]\n",
            "                   ...      \n",
            "2015-12-25    datetime64[ns]\n",
            "2015-12-28    datetime64[ns]\n",
            "2015-12-29    datetime64[ns]\n",
            "2015-12-30    datetime64[ns]\n",
            "2015-12-31    datetime64[ns]\n",
            "Length: 262, dtype: object\n"
          ]
        }
      ]
    },
    {
      "cell_type": "code",
      "source": [
        "# Step 1: Replace NaT and other non-float-compatible values with 0.0\n",
        "for col in in_data.columns:\n",
        "    if col != 'EmployeeID':\n",
        "        # Convert datetime columns to 0.0 if they contain NaT or non-float values\n",
        "        in_data[col] = in_data[col].map(lambda x: 0.0 if pd.isna(x) or isinstance(x, pd.Timestamp) else x)\n",
        "\n",
        "# Step 2: Convert all columns (except EmployeeID) to float\n",
        "for col in in_data.columns:\n",
        "    if col != 'EmployeeID':\n",
        "        in_data[col] = in_data[col].astype(float)\n",
        "\n",
        "# Verify the changes\n",
        "print(in_data.dtypes)\n"
      ],
      "metadata": {
        "colab": {
          "base_uri": "https://localhost:8080/"
        },
        "id": "BP1SDMInt1mY",
        "outputId": "0c106daa-0c13-4369-9402-fafbb4ca8cc7"
      },
      "execution_count": 215,
      "outputs": [
        {
          "output_type": "stream",
          "name": "stdout",
          "text": [
            "EmployeeID      int64\n",
            "2015-01-01    float64\n",
            "2015-01-02    float64\n",
            "2015-01-05    float64\n",
            "2015-01-06    float64\n",
            "               ...   \n",
            "2015-12-25    float64\n",
            "2015-12-28    float64\n",
            "2015-12-29    float64\n",
            "2015-12-30    float64\n",
            "2015-12-31    float64\n",
            "Length: 262, dtype: object\n"
          ]
        }
      ]
    },
    {
      "cell_type": "code",
      "source": [
        "in_data.info()\n"
      ],
      "metadata": {
        "colab": {
          "base_uri": "https://localhost:8080/"
        },
        "id": "kvkQchYOq9Oy",
        "outputId": "555f6947-0c01-4727-ddb5-fc62f9f121e1"
      },
      "execution_count": 212,
      "outputs": [
        {
          "output_type": "stream",
          "name": "stdout",
          "text": [
            "<class 'pandas.core.frame.DataFrame'>\n",
            "RangeIndex: 4410 entries, 0 to 4409\n",
            "Columns: 262 entries, EmployeeID to 2015-12-31\n",
            "dtypes: datetime64[ns](261), int64(1)\n",
            "memory usage: 8.8 MB\n"
          ]
        }
      ]
    },
    {
      "cell_type": "markdown",
      "source": [
        "### Out Data"
      ],
      "metadata": {
        "id": "3B2j7UXW3en9"
      }
    },
    {
      "cell_type": "code",
      "source": [
        "out_data.head()"
      ],
      "metadata": {
        "colab": {
          "base_uri": "https://localhost:8080/",
          "height": 446
        },
        "id": "Wqed2B3PoFmy",
        "outputId": "e8b10997-ddb4-4e92-90d2-80d7335a2d41"
      },
      "execution_count": 217,
      "outputs": [
        {
          "output_type": "execute_result",
          "data": {
            "text/plain": [
              "   Unnamed: 0  2015-01-01           2015-01-02           2015-01-05  \\\n",
              "0           1         NaN  2015-01-02 16:56:15  2015-01-05 17:20:11   \n",
              "1           2         NaN  2015-01-02 18:22:17  2015-01-05 17:48:22   \n",
              "2           3         NaN  2015-01-02 16:59:14  2015-01-05 17:06:46   \n",
              "3           4         NaN  2015-01-02 17:25:24  2015-01-05 17:14:03   \n",
              "4           5         NaN  2015-01-02 18:31:37  2015-01-05 17:49:15   \n",
              "\n",
              "            2015-01-06           2015-01-07           2015-01-08  \\\n",
              "0  2015-01-06 17:19:05  2015-01-07 16:34:55  2015-01-08 17:08:32   \n",
              "1                  NaN  2015-01-07 17:09:06  2015-01-08 17:34:04   \n",
              "2  2015-01-06 16:38:32  2015-01-07 16:33:21  2015-01-08 17:24:22   \n",
              "3  2015-01-06 17:07:42  2015-01-07 16:32:40  2015-01-08 16:53:11   \n",
              "4  2015-01-06 17:26:25  2015-01-07 17:37:59  2015-01-08 17:59:28   \n",
              "\n",
              "            2015-01-09           2015-01-12           2015-01-13  ...  \\\n",
              "0  2015-01-09 17:38:29  2015-01-12 16:58:39  2015-01-13 18:02:58  ...   \n",
              "1  2015-01-09 16:52:29  2015-01-12 17:36:48  2015-01-13 18:00:13  ...   \n",
              "2  2015-01-09 16:57:30  2015-01-12 17:28:54  2015-01-13 17:21:25  ...   \n",
              "3  2015-01-09 17:19:47  2015-01-12 17:13:37  2015-01-13 17:11:45  ...   \n",
              "4  2015-01-09 17:44:08  2015-01-12 18:51:21  2015-01-13 18:14:58  ...   \n",
              "\n",
              "            2015-12-18           2015-12-21           2015-12-22  \\\n",
              "0                  NaN  2015-12-21 17:15:50  2015-12-22 17:27:51   \n",
              "1  2015-12-18 18:31:28  2015-12-21 17:34:16  2015-12-22 18:16:35   \n",
              "2  2015-12-18 17:02:23  2015-12-21 17:20:17  2015-12-22 16:32:50   \n",
              "3  2015-12-18 17:55:23  2015-12-21 16:49:09  2015-12-22 17:24:00   \n",
              "4  2015-12-18 17:52:48  2015-12-21 17:43:35  2015-12-22 18:07:57   \n",
              "\n",
              "            2015-12-23           2015-12-24 2015-12-25           2015-12-28  \\\n",
              "0  2015-12-23 16:44:44  2015-12-24 17:47:22        NaN  2015-12-28 18:00:07   \n",
              "1  2015-12-23 17:38:18                  NaN        NaN  2015-12-28 17:08:38   \n",
              "2  2015-12-23 16:59:43  2015-12-24 16:58:25        NaN  2015-12-28 16:43:31   \n",
              "3  2015-12-23 17:36:35  2015-12-24 16:48:21        NaN  2015-12-28 17:19:34   \n",
              "4  2015-12-23 18:00:49  2015-12-24 17:59:22        NaN  2015-12-28 17:44:59   \n",
              "\n",
              "            2015-12-29           2015-12-30           2015-12-31  \n",
              "0  2015-12-29 17:22:30  2015-12-30 17:40:56  2015-12-31 17:17:33  \n",
              "1  2015-12-29 17:54:46  2015-12-30 18:31:35  2015-12-31 17:40:58  \n",
              "2  2015-12-29 17:09:56  2015-12-30 17:06:25  2015-12-31 17:15:50  \n",
              "3  2015-12-29 16:58:16  2015-12-30 17:40:11  2015-12-31 17:09:14  \n",
              "4  2015-12-29 18:47:00  2015-12-30 17:15:33  2015-12-31 17:42:14  \n",
              "\n",
              "[5 rows x 262 columns]"
            ],
            "text/html": [
              "\n",
              "  <div id=\"df-ee374b24-0fa8-49a6-b5f5-212e04fcf8da\" class=\"colab-df-container\">\n",
              "    <div>\n",
              "<style scoped>\n",
              "    .dataframe tbody tr th:only-of-type {\n",
              "        vertical-align: middle;\n",
              "    }\n",
              "\n",
              "    .dataframe tbody tr th {\n",
              "        vertical-align: top;\n",
              "    }\n",
              "\n",
              "    .dataframe thead th {\n",
              "        text-align: right;\n",
              "    }\n",
              "</style>\n",
              "<table border=\"1\" class=\"dataframe\">\n",
              "  <thead>\n",
              "    <tr style=\"text-align: right;\">\n",
              "      <th></th>\n",
              "      <th>Unnamed: 0</th>\n",
              "      <th>2015-01-01</th>\n",
              "      <th>2015-01-02</th>\n",
              "      <th>2015-01-05</th>\n",
              "      <th>2015-01-06</th>\n",
              "      <th>2015-01-07</th>\n",
              "      <th>2015-01-08</th>\n",
              "      <th>2015-01-09</th>\n",
              "      <th>2015-01-12</th>\n",
              "      <th>2015-01-13</th>\n",
              "      <th>...</th>\n",
              "      <th>2015-12-18</th>\n",
              "      <th>2015-12-21</th>\n",
              "      <th>2015-12-22</th>\n",
              "      <th>2015-12-23</th>\n",
              "      <th>2015-12-24</th>\n",
              "      <th>2015-12-25</th>\n",
              "      <th>2015-12-28</th>\n",
              "      <th>2015-12-29</th>\n",
              "      <th>2015-12-30</th>\n",
              "      <th>2015-12-31</th>\n",
              "    </tr>\n",
              "  </thead>\n",
              "  <tbody>\n",
              "    <tr>\n",
              "      <th>0</th>\n",
              "      <td>1</td>\n",
              "      <td>NaN</td>\n",
              "      <td>2015-01-02 16:56:15</td>\n",
              "      <td>2015-01-05 17:20:11</td>\n",
              "      <td>2015-01-06 17:19:05</td>\n",
              "      <td>2015-01-07 16:34:55</td>\n",
              "      <td>2015-01-08 17:08:32</td>\n",
              "      <td>2015-01-09 17:38:29</td>\n",
              "      <td>2015-01-12 16:58:39</td>\n",
              "      <td>2015-01-13 18:02:58</td>\n",
              "      <td>...</td>\n",
              "      <td>NaN</td>\n",
              "      <td>2015-12-21 17:15:50</td>\n",
              "      <td>2015-12-22 17:27:51</td>\n",
              "      <td>2015-12-23 16:44:44</td>\n",
              "      <td>2015-12-24 17:47:22</td>\n",
              "      <td>NaN</td>\n",
              "      <td>2015-12-28 18:00:07</td>\n",
              "      <td>2015-12-29 17:22:30</td>\n",
              "      <td>2015-12-30 17:40:56</td>\n",
              "      <td>2015-12-31 17:17:33</td>\n",
              "    </tr>\n",
              "    <tr>\n",
              "      <th>1</th>\n",
              "      <td>2</td>\n",
              "      <td>NaN</td>\n",
              "      <td>2015-01-02 18:22:17</td>\n",
              "      <td>2015-01-05 17:48:22</td>\n",
              "      <td>NaN</td>\n",
              "      <td>2015-01-07 17:09:06</td>\n",
              "      <td>2015-01-08 17:34:04</td>\n",
              "      <td>2015-01-09 16:52:29</td>\n",
              "      <td>2015-01-12 17:36:48</td>\n",
              "      <td>2015-01-13 18:00:13</td>\n",
              "      <td>...</td>\n",
              "      <td>2015-12-18 18:31:28</td>\n",
              "      <td>2015-12-21 17:34:16</td>\n",
              "      <td>2015-12-22 18:16:35</td>\n",
              "      <td>2015-12-23 17:38:18</td>\n",
              "      <td>NaN</td>\n",
              "      <td>NaN</td>\n",
              "      <td>2015-12-28 17:08:38</td>\n",
              "      <td>2015-12-29 17:54:46</td>\n",
              "      <td>2015-12-30 18:31:35</td>\n",
              "      <td>2015-12-31 17:40:58</td>\n",
              "    </tr>\n",
              "    <tr>\n",
              "      <th>2</th>\n",
              "      <td>3</td>\n",
              "      <td>NaN</td>\n",
              "      <td>2015-01-02 16:59:14</td>\n",
              "      <td>2015-01-05 17:06:46</td>\n",
              "      <td>2015-01-06 16:38:32</td>\n",
              "      <td>2015-01-07 16:33:21</td>\n",
              "      <td>2015-01-08 17:24:22</td>\n",
              "      <td>2015-01-09 16:57:30</td>\n",
              "      <td>2015-01-12 17:28:54</td>\n",
              "      <td>2015-01-13 17:21:25</td>\n",
              "      <td>...</td>\n",
              "      <td>2015-12-18 17:02:23</td>\n",
              "      <td>2015-12-21 17:20:17</td>\n",
              "      <td>2015-12-22 16:32:50</td>\n",
              "      <td>2015-12-23 16:59:43</td>\n",
              "      <td>2015-12-24 16:58:25</td>\n",
              "      <td>NaN</td>\n",
              "      <td>2015-12-28 16:43:31</td>\n",
              "      <td>2015-12-29 17:09:56</td>\n",
              "      <td>2015-12-30 17:06:25</td>\n",
              "      <td>2015-12-31 17:15:50</td>\n",
              "    </tr>\n",
              "    <tr>\n",
              "      <th>3</th>\n",
              "      <td>4</td>\n",
              "      <td>NaN</td>\n",
              "      <td>2015-01-02 17:25:24</td>\n",
              "      <td>2015-01-05 17:14:03</td>\n",
              "      <td>2015-01-06 17:07:42</td>\n",
              "      <td>2015-01-07 16:32:40</td>\n",
              "      <td>2015-01-08 16:53:11</td>\n",
              "      <td>2015-01-09 17:19:47</td>\n",
              "      <td>2015-01-12 17:13:37</td>\n",
              "      <td>2015-01-13 17:11:45</td>\n",
              "      <td>...</td>\n",
              "      <td>2015-12-18 17:55:23</td>\n",
              "      <td>2015-12-21 16:49:09</td>\n",
              "      <td>2015-12-22 17:24:00</td>\n",
              "      <td>2015-12-23 17:36:35</td>\n",
              "      <td>2015-12-24 16:48:21</td>\n",
              "      <td>NaN</td>\n",
              "      <td>2015-12-28 17:19:34</td>\n",
              "      <td>2015-12-29 16:58:16</td>\n",
              "      <td>2015-12-30 17:40:11</td>\n",
              "      <td>2015-12-31 17:09:14</td>\n",
              "    </tr>\n",
              "    <tr>\n",
              "      <th>4</th>\n",
              "      <td>5</td>\n",
              "      <td>NaN</td>\n",
              "      <td>2015-01-02 18:31:37</td>\n",
              "      <td>2015-01-05 17:49:15</td>\n",
              "      <td>2015-01-06 17:26:25</td>\n",
              "      <td>2015-01-07 17:37:59</td>\n",
              "      <td>2015-01-08 17:59:28</td>\n",
              "      <td>2015-01-09 17:44:08</td>\n",
              "      <td>2015-01-12 18:51:21</td>\n",
              "      <td>2015-01-13 18:14:58</td>\n",
              "      <td>...</td>\n",
              "      <td>2015-12-18 17:52:48</td>\n",
              "      <td>2015-12-21 17:43:35</td>\n",
              "      <td>2015-12-22 18:07:57</td>\n",
              "      <td>2015-12-23 18:00:49</td>\n",
              "      <td>2015-12-24 17:59:22</td>\n",
              "      <td>NaN</td>\n",
              "      <td>2015-12-28 17:44:59</td>\n",
              "      <td>2015-12-29 18:47:00</td>\n",
              "      <td>2015-12-30 17:15:33</td>\n",
              "      <td>2015-12-31 17:42:14</td>\n",
              "    </tr>\n",
              "  </tbody>\n",
              "</table>\n",
              "<p>5 rows × 262 columns</p>\n",
              "</div>\n",
              "    <div class=\"colab-df-buttons\">\n",
              "\n",
              "  <div class=\"colab-df-container\">\n",
              "    <button class=\"colab-df-convert\" onclick=\"convertToInteractive('df-ee374b24-0fa8-49a6-b5f5-212e04fcf8da')\"\n",
              "            title=\"Convert this dataframe to an interactive table.\"\n",
              "            style=\"display:none;\">\n",
              "\n",
              "  <svg xmlns=\"http://www.w3.org/2000/svg\" height=\"24px\" viewBox=\"0 -960 960 960\">\n",
              "    <path d=\"M120-120v-720h720v720H120Zm60-500h600v-160H180v160Zm220 220h160v-160H400v160Zm0 220h160v-160H400v160ZM180-400h160v-160H180v160Zm440 0h160v-160H620v160ZM180-180h160v-160H180v160Zm440 0h160v-160H620v160Z\"/>\n",
              "  </svg>\n",
              "    </button>\n",
              "\n",
              "  <style>\n",
              "    .colab-df-container {\n",
              "      display:flex;\n",
              "      gap: 12px;\n",
              "    }\n",
              "\n",
              "    .colab-df-convert {\n",
              "      background-color: #E8F0FE;\n",
              "      border: none;\n",
              "      border-radius: 50%;\n",
              "      cursor: pointer;\n",
              "      display: none;\n",
              "      fill: #1967D2;\n",
              "      height: 32px;\n",
              "      padding: 0 0 0 0;\n",
              "      width: 32px;\n",
              "    }\n",
              "\n",
              "    .colab-df-convert:hover {\n",
              "      background-color: #E2EBFA;\n",
              "      box-shadow: 0px 1px 2px rgba(60, 64, 67, 0.3), 0px 1px 3px 1px rgba(60, 64, 67, 0.15);\n",
              "      fill: #174EA6;\n",
              "    }\n",
              "\n",
              "    .colab-df-buttons div {\n",
              "      margin-bottom: 4px;\n",
              "    }\n",
              "\n",
              "    [theme=dark] .colab-df-convert {\n",
              "      background-color: #3B4455;\n",
              "      fill: #D2E3FC;\n",
              "    }\n",
              "\n",
              "    [theme=dark] .colab-df-convert:hover {\n",
              "      background-color: #434B5C;\n",
              "      box-shadow: 0px 1px 3px 1px rgba(0, 0, 0, 0.15);\n",
              "      filter: drop-shadow(0px 1px 2px rgba(0, 0, 0, 0.3));\n",
              "      fill: #FFFFFF;\n",
              "    }\n",
              "  </style>\n",
              "\n",
              "    <script>\n",
              "      const buttonEl =\n",
              "        document.querySelector('#df-ee374b24-0fa8-49a6-b5f5-212e04fcf8da button.colab-df-convert');\n",
              "      buttonEl.style.display =\n",
              "        google.colab.kernel.accessAllowed ? 'block' : 'none';\n",
              "\n",
              "      async function convertToInteractive(key) {\n",
              "        const element = document.querySelector('#df-ee374b24-0fa8-49a6-b5f5-212e04fcf8da');\n",
              "        const dataTable =\n",
              "          await google.colab.kernel.invokeFunction('convertToInteractive',\n",
              "                                                    [key], {});\n",
              "        if (!dataTable) return;\n",
              "\n",
              "        const docLinkHtml = 'Like what you see? Visit the ' +\n",
              "          '<a target=\"_blank\" href=https://colab.research.google.com/notebooks/data_table.ipynb>data table notebook</a>'\n",
              "          + ' to learn more about interactive tables.';\n",
              "        element.innerHTML = '';\n",
              "        dataTable['output_type'] = 'display_data';\n",
              "        await google.colab.output.renderOutput(dataTable, element);\n",
              "        const docLink = document.createElement('div');\n",
              "        docLink.innerHTML = docLinkHtml;\n",
              "        element.appendChild(docLink);\n",
              "      }\n",
              "    </script>\n",
              "  </div>\n",
              "\n",
              "\n",
              "<div id=\"df-0d04b3a9-1441-4f8d-8ce8-435f7206a803\">\n",
              "  <button class=\"colab-df-quickchart\" onclick=\"quickchart('df-0d04b3a9-1441-4f8d-8ce8-435f7206a803')\"\n",
              "            title=\"Suggest charts\"\n",
              "            style=\"display:none;\">\n",
              "\n",
              "<svg xmlns=\"http://www.w3.org/2000/svg\" height=\"24px\"viewBox=\"0 0 24 24\"\n",
              "     width=\"24px\">\n",
              "    <g>\n",
              "        <path d=\"M19 3H5c-1.1 0-2 .9-2 2v14c0 1.1.9 2 2 2h14c1.1 0 2-.9 2-2V5c0-1.1-.9-2-2-2zM9 17H7v-7h2v7zm4 0h-2V7h2v10zm4 0h-2v-4h2v4z\"/>\n",
              "    </g>\n",
              "</svg>\n",
              "  </button>\n",
              "\n",
              "<style>\n",
              "  .colab-df-quickchart {\n",
              "      --bg-color: #E8F0FE;\n",
              "      --fill-color: #1967D2;\n",
              "      --hover-bg-color: #E2EBFA;\n",
              "      --hover-fill-color: #174EA6;\n",
              "      --disabled-fill-color: #AAA;\n",
              "      --disabled-bg-color: #DDD;\n",
              "  }\n",
              "\n",
              "  [theme=dark] .colab-df-quickchart {\n",
              "      --bg-color: #3B4455;\n",
              "      --fill-color: #D2E3FC;\n",
              "      --hover-bg-color: #434B5C;\n",
              "      --hover-fill-color: #FFFFFF;\n",
              "      --disabled-bg-color: #3B4455;\n",
              "      --disabled-fill-color: #666;\n",
              "  }\n",
              "\n",
              "  .colab-df-quickchart {\n",
              "    background-color: var(--bg-color);\n",
              "    border: none;\n",
              "    border-radius: 50%;\n",
              "    cursor: pointer;\n",
              "    display: none;\n",
              "    fill: var(--fill-color);\n",
              "    height: 32px;\n",
              "    padding: 0;\n",
              "    width: 32px;\n",
              "  }\n",
              "\n",
              "  .colab-df-quickchart:hover {\n",
              "    background-color: var(--hover-bg-color);\n",
              "    box-shadow: 0 1px 2px rgba(60, 64, 67, 0.3), 0 1px 3px 1px rgba(60, 64, 67, 0.15);\n",
              "    fill: var(--button-hover-fill-color);\n",
              "  }\n",
              "\n",
              "  .colab-df-quickchart-complete:disabled,\n",
              "  .colab-df-quickchart-complete:disabled:hover {\n",
              "    background-color: var(--disabled-bg-color);\n",
              "    fill: var(--disabled-fill-color);\n",
              "    box-shadow: none;\n",
              "  }\n",
              "\n",
              "  .colab-df-spinner {\n",
              "    border: 2px solid var(--fill-color);\n",
              "    border-color: transparent;\n",
              "    border-bottom-color: var(--fill-color);\n",
              "    animation:\n",
              "      spin 1s steps(1) infinite;\n",
              "  }\n",
              "\n",
              "  @keyframes spin {\n",
              "    0% {\n",
              "      border-color: transparent;\n",
              "      border-bottom-color: var(--fill-color);\n",
              "      border-left-color: var(--fill-color);\n",
              "    }\n",
              "    20% {\n",
              "      border-color: transparent;\n",
              "      border-left-color: var(--fill-color);\n",
              "      border-top-color: var(--fill-color);\n",
              "    }\n",
              "    30% {\n",
              "      border-color: transparent;\n",
              "      border-left-color: var(--fill-color);\n",
              "      border-top-color: var(--fill-color);\n",
              "      border-right-color: var(--fill-color);\n",
              "    }\n",
              "    40% {\n",
              "      border-color: transparent;\n",
              "      border-right-color: var(--fill-color);\n",
              "      border-top-color: var(--fill-color);\n",
              "    }\n",
              "    60% {\n",
              "      border-color: transparent;\n",
              "      border-right-color: var(--fill-color);\n",
              "    }\n",
              "    80% {\n",
              "      border-color: transparent;\n",
              "      border-right-color: var(--fill-color);\n",
              "      border-bottom-color: var(--fill-color);\n",
              "    }\n",
              "    90% {\n",
              "      border-color: transparent;\n",
              "      border-bottom-color: var(--fill-color);\n",
              "    }\n",
              "  }\n",
              "</style>\n",
              "\n",
              "  <script>\n",
              "    async function quickchart(key) {\n",
              "      const quickchartButtonEl =\n",
              "        document.querySelector('#' + key + ' button');\n",
              "      quickchartButtonEl.disabled = true;  // To prevent multiple clicks.\n",
              "      quickchartButtonEl.classList.add('colab-df-spinner');\n",
              "      try {\n",
              "        const charts = await google.colab.kernel.invokeFunction(\n",
              "            'suggestCharts', [key], {});\n",
              "      } catch (error) {\n",
              "        console.error('Error during call to suggestCharts:', error);\n",
              "      }\n",
              "      quickchartButtonEl.classList.remove('colab-df-spinner');\n",
              "      quickchartButtonEl.classList.add('colab-df-quickchart-complete');\n",
              "    }\n",
              "    (() => {\n",
              "      let quickchartButtonEl =\n",
              "        document.querySelector('#df-0d04b3a9-1441-4f8d-8ce8-435f7206a803 button');\n",
              "      quickchartButtonEl.style.display =\n",
              "        google.colab.kernel.accessAllowed ? 'block' : 'none';\n",
              "    })();\n",
              "  </script>\n",
              "</div>\n",
              "\n",
              "    </div>\n",
              "  </div>\n"
            ],
            "application/vnd.google.colaboratory.intrinsic+json": {
              "type": "dataframe",
              "variable_name": "out_data"
            }
          },
          "metadata": {},
          "execution_count": 217
        }
      ]
    },
    {
      "cell_type": "code",
      "source": [
        "out_data.rename(columns={'Unnamed: 0': 'EmployeeID'}, inplace=True)\n",
        "out_data['EmployeeID'] = in_data['EmployeeID'].astype(int)"
      ],
      "metadata": {
        "id": "JEnlL-JcoG14"
      },
      "execution_count": 218,
      "outputs": []
    },
    {
      "cell_type": "code",
      "source": [
        "# Check for columns with NaN values\n",
        "nan_columns = out_data.isna().sum()\n",
        "\n",
        "# Filter columns that have NaN values\n",
        "nan_columns = nan_columns[nan_columns > 0]\n",
        "print(nan_columns)\n"
      ],
      "metadata": {
        "colab": {
          "base_uri": "https://localhost:8080/"
        },
        "id": "GVWUcNe2uU75",
        "outputId": "f282df90-65b7-434c-a0a7-fd036a56c4b4"
      },
      "execution_count": 219,
      "outputs": [
        {
          "output_type": "stream",
          "name": "stdout",
          "text": [
            "2015-01-01    4410\n",
            "2015-01-02     209\n",
            "2015-01-05     206\n",
            "2015-01-06     228\n",
            "2015-01-07     209\n",
            "              ... \n",
            "2015-12-25    4410\n",
            "2015-12-28     234\n",
            "2015-12-29     230\n",
            "2015-12-30     265\n",
            "2015-12-31     213\n",
            "Length: 261, dtype: int64\n"
          ]
        }
      ]
    },
    {
      "cell_type": "code",
      "source": [
        "# Convert all columns except 'EmployeeID' to datetime\n",
        "for col in in_data.columns:\n",
        "    if col != 'EmployeeID':\n",
        "        in_data[col] = pd.to_datetime(in_data[col], errors='coerce')\n",
        "        in_data[col] = in_data[col].map(lambda x: 0.0 if pd.isna(x) or isinstance(x, pd.Timestamp) else x)\n",
        "        in_data[col] = in_data[col].astype(float)\n",
        "\n",
        "# Verify the changes\n",
        "print(in_data.dtypes)\n",
        "\n",
        "\n"
      ],
      "metadata": {
        "colab": {
          "base_uri": "https://localhost:8080/"
        },
        "id": "ryOolr6QuYeX",
        "outputId": "8cc95183-0617-400e-9dab-ed5c02d2c556"
      },
      "execution_count": 220,
      "outputs": [
        {
          "output_type": "stream",
          "name": "stdout",
          "text": [
            "EmployeeID      int64\n",
            "2015-01-01    float64\n",
            "2015-01-02    float64\n",
            "2015-01-05    float64\n",
            "2015-01-06    float64\n",
            "               ...   \n",
            "2015-12-25    float64\n",
            "2015-12-28    float64\n",
            "2015-12-29    float64\n",
            "2015-12-30    float64\n",
            "2015-12-31    float64\n",
            "Length: 262, dtype: object\n"
          ]
        }
      ]
    },
    {
      "cell_type": "code",
      "source": [
        "# Check for columns with NaN values\n",
        "nan_columns = out_data.isna().sum()\n",
        "\n",
        "# Filter columns that have NaN values\n",
        "nan_columns = nan_columns[nan_columns > 0]\n",
        "print(nan_columns)"
      ],
      "metadata": {
        "colab": {
          "base_uri": "https://localhost:8080/"
        },
        "id": "LLCkLo1XupLV",
        "outputId": "655137fb-1092-43c6-bf27-adf297695dbb"
      },
      "execution_count": 221,
      "outputs": [
        {
          "output_type": "stream",
          "name": "stdout",
          "text": [
            "2015-01-01    4410\n",
            "2015-01-02     209\n",
            "2015-01-05     206\n",
            "2015-01-06     228\n",
            "2015-01-07     209\n",
            "              ... \n",
            "2015-12-25    4410\n",
            "2015-12-28     234\n",
            "2015-12-29     230\n",
            "2015-12-30     265\n",
            "2015-12-31     213\n",
            "Length: 261, dtype: int64\n"
          ]
        }
      ]
    },
    {
      "cell_type": "code",
      "source": [],
      "metadata": {
        "id": "k8vwXKV3usII"
      },
      "execution_count": null,
      "outputs": []
    }
  ]
}